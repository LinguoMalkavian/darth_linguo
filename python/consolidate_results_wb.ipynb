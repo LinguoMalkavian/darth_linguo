{
 "cells": [
  {
   "cell_type": "code",
   "execution_count": 24,
   "metadata": {},
   "outputs": [],
   "source": [
    "import os\n",
    "import csv\n",
    "import json\n",
    "from collections import defaultdict\n",
    "res_top = os.path.abspath(\"Pablo/darth_linguo/results/\")\n",
    "\n",
    "consol_folder = os.path.join(res_top,\"consolidated\")\n",
    "if not os.path.isdir(consol_folder):\n",
    "    os.mkdir(consol_folder)\n",
    "    \n",
    "\n",
    "metrics = [\"best_validation_accuracy\", \"best_epoch\", \"training_accuracy\"]\n",
    "experiment = \"fullGVS\"\n",
    "\n",
    "consolidated = {}\n",
    "for metric in metrics:\n",
    "    consolidated[metric] = defaultdict(dict)\n",
    "\n",
    "column_set = set()\n",
    "\n",
    "for fullname in os.listdir(res_top):\n",
    "    parts = fullname.split('_')\n",
    "    exp_type = parts[0]\n",
    "    if exp_type == experiment:\n",
    "        column_condition = parts[1]\n",
    "        column_set.add(column_condition)\n",
    "        row_condition = parts[2]\n",
    "        file_path = os.path.join(res_top, fullname, 'metrics.json')\n",
    "        with open(file_path,\"r\") as exp_file:\n",
    "            results = json.loads(exp_file.read())\n",
    "        for metric in consolidated:\n",
    "            consolidated[metric][row_condition][column_condition] = results[metric]\n",
    "\n",
    "fieldnames = list(column_set)\n",
    "fieldnames.sort()\n",
    "fieldnames.insert(0,\"archi\")\n",
    "    "
   ]
  },
  {
   "cell_type": "code",
   "execution_count": 26,
   "metadata": {},
   "outputs": [
    {
     "data": {
      "text/plain": [
       "['archi', '2g', '3g', '4g', '5g', '6g', 'mixg']"
      ]
     },
     "execution_count": 26,
     "metadata": {},
     "output_type": "execute_result"
    }
   ],
   "source": [
    "fieldnames"
   ]
  },
  {
   "cell_type": "code",
   "execution_count": null,
   "metadata": {},
   "outputs": [],
   "source": [
    "for metric in consolidated:\n",
    "    consol_fn = os.path.join(consol_folder, metric + \".csv\")\n",
    "    with open(consol_fn,\"w\") as consol_file:\n",
    "        writer = csv.DictWriter(consol_file, fieldnames)\n",
    "        writer.writeheader()\n",
    "        for rowname in sorted(list(consolidated[metric].keys())):\n",
    "            row = consolidated[metric][rowname]\n",
    "            row[\"archi\"] = rowname\n",
    "            writer.writerow(row)\n",
    "    "
   ]
  },
  {
   "cell_type": "code",
   "execution_count": 23,
   "metadata": {},
   "outputs": [
    {
     "data": {
      "text/plain": [
       "{'best_validation_accuracy': defaultdict(dict,\n",
       "             {'350-1000': {'4g': 0.7526869290069428,\n",
       "               '3g': 0.85033128331825,\n",
       "               '6g': 0.5550300235828802,\n",
       "               '5g': 0.6565652228483099,\n",
       "               '2g': 0.9469715486091386,\n",
       "               'mixg': 0.7305828689956765,\n",
       "               'archi': '350-1000'},\n",
       "              '100': {'3g': 0.8564317847021753,\n",
       "               '6g': 0.5452698819534816,\n",
       "               '2g': 0.9506477034766583,\n",
       "               '4g': 0.761713821417483,\n",
       "               'mixg': 0.7355240602323285,\n",
       "               '5g': 0.6641784636116818,\n",
       "               'archi': '100'},\n",
       "              '32': {'3g': 0.835164254430873,\n",
       "               '6g': 0.5610941927983036,\n",
       "               '4g': 0.7422067498563227,\n",
       "               'mixg': 0.7219291784608982,\n",
       "               '2g': 0.9338523328555103,\n",
       "               '5g': 0.6529551264689756,\n",
       "               'archi': '32'}}),\n",
       " 'best_epoch': defaultdict(dict,\n",
       "             {'350-1000': {'4g': 1,\n",
       "               '3g': 3,\n",
       "               '6g': 0,\n",
       "               '5g': 1,\n",
       "               '2g': 1,\n",
       "               'mixg': 1,\n",
       "               'archi': '350-1000'},\n",
       "              '100': {'3g': 1,\n",
       "               '6g': 0,\n",
       "               '2g': 2,\n",
       "               '4g': 1,\n",
       "               'mixg': 1,\n",
       "               '5g': 0,\n",
       "               'archi': '100'},\n",
       "              '32': {'3g': 2,\n",
       "               '6g': 0,\n",
       "               '4g': 1,\n",
       "               'mixg': 1,\n",
       "               '2g': 3,\n",
       "               '5g': 1,\n",
       "               'archi': '32'}}),\n",
       " 'training_accuracy': defaultdict(dict,\n",
       "             {'350-1000': {'4g': 0.8622019936451735,\n",
       "               '3g': 0.9148068449805458,\n",
       "               '6g': 0.7545588614158977,\n",
       "               '5g': 0.8038723485774305,\n",
       "               '2g': 0.9225133933584796,\n",
       "               'mixg': 0.8264596496906801,\n",
       "               'archi': '350-1000'},\n",
       "              '100': {'3g': 0.9582749816687696,\n",
       "               '6g': 0.8255519186687893,\n",
       "               '2g': 0.989971495762348,\n",
       "               '4g': 0.916824931794611,\n",
       "               'mixg': 0.8968154749125548,\n",
       "               '5g': 0.8689490424822137,\n",
       "               'archi': '100'},\n",
       "              '32': {'3g': 0.9368390022525944,\n",
       "               '6g': 0.8277409318210344,\n",
       "               '4g': 0.883758529802287,\n",
       "               'mixg': 0.8726388141141032,\n",
       "               '2g': 0.9837735581083491,\n",
       "               '5g': 0.8538777984027057,\n",
       "               'archi': '32'}})}"
      ]
     },
     "execution_count": 23,
     "metadata": {},
     "output_type": "execute_result"
    }
   ],
   "source": [
    "consolidated"
   ]
  },
  {
   "cell_type": "code",
   "execution_count": 14,
   "metadata": {},
   "outputs": [],
   "source": [
    "li = [3,2,1]"
   ]
  },
  {
   "cell_type": "code",
   "execution_count": 20,
   "metadata": {},
   "outputs": [
    {
     "data": {
      "text/plain": [
       "[1, 2, 3]"
      ]
     },
     "execution_count": 20,
     "metadata": {},
     "output_type": "execute_result"
    }
   ],
   "source": [
    "sorted(li)"
   ]
  },
  {
   "cell_type": "code",
   "execution_count": 16,
   "metadata": {},
   "outputs": [
    {
     "data": {
      "text/plain": [
       "[1, 2, 3]"
      ]
     },
     "execution_count": 16,
     "metadata": {},
     "output_type": "execute_result"
    }
   ],
   "source": [
    "li\n"
   ]
  },
  {
   "cell_type": "code",
   "execution_count": null,
   "metadata": {},
   "outputs": [],
   "source": []
  }
 ],
 "metadata": {
  "kernelspec": {
   "display_name": "Python [conda env:allen]",
   "language": "python",
   "name": "conda-env-allen-py"
  },
  "language_info": {
   "codemirror_mode": {
    "name": "ipython",
    "version": 3
   },
   "file_extension": ".py",
   "mimetype": "text/x-python",
   "name": "python",
   "nbconvert_exporter": "python",
   "pygments_lexer": "ipython3",
   "version": "3.6.7"
  }
 },
 "nbformat": 4,
 "nbformat_minor": 2
}
