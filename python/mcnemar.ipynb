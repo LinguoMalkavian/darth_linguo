{
 "cells": [
  {
   "cell_type": "code",
   "execution_count": 34,
   "metadata": {},
   "outputs": [
    {
     "data": {
      "text/html": [
       "<script type=\"text/javascript\">window.PlotlyConfig = {MathJaxConfig: 'local'};</script><script type=\"text/javascript\">if (window.MathJax) {MathJax.Hub.Config({SVG: {font: \"STIX-Web\"}});}</script><script>requirejs.config({paths: { 'plotly': ['https://cdn.plot.ly/plotly-latest.min']},});if(!window._Plotly) {require(['plotly'],function(plotly) {window._Plotly=plotly;});}</script>"
      ],
      "text/vnd.plotly.v1+html": [
       "<script type=\"text/javascript\">window.PlotlyConfig = {MathJaxConfig: 'local'};</script><script type=\"text/javascript\">if (window.MathJax) {MathJax.Hub.Config({SVG: {font: \"STIX-Web\"}});}</script><script>requirejs.config({paths: { 'plotly': ['https://cdn.plot.ly/plotly-latest.min']},});if(!window._Plotly) {require(['plotly'],function(plotly) {window._Plotly=plotly;});}</script>"
      ]
     },
     "metadata": {},
     "output_type": "display_data"
    }
   ],
   "source": [
    "import json\n",
    "import os\n",
    "from statsmodels.stats.contingency_tables import mcnemar\n",
    "from collections import defaultdict\n",
    "from tqdm import tqdm \n",
    "import plotly.plotly as py\n",
    "import plotly.graph_objs as go\n",
    "import pandas as pd\n",
    "import numpy as np\n",
    "from plotly.offline import download_plotlyjs, init_notebook_mode, plot, iplot\n",
    "\n",
    "init_notebook_mode(connected=True)\n",
    "# Paths\n",
    "# at the lab\n",
    "# results_dir = os.path.abspath(\"../results/pairtest/classifier_results/\")\n",
    "# at home\n",
    "results_dir = os.path.abspath(\"/Volumes/Elements/darth_linguo/results/pairtest/classifier_results/\")\n",
    "plots_dir = \"/Users/pablo/Dropbox/Universidad/Thesis/Dissertation/Results/figures\"\n",
    "tables_dir = \"/Users/pablo/Dropbox/Universidad/Thesis/Dissertation/Results/tables\"\n",
    "\n",
    "noisenames = {\"AA\":\"adjectival agreement\", \"VA\": \"verbal agreement\", \"RV\":\"main verb removal\"}\n",
    "\n",
    "def build_contingency_table( first_table, second_table):\n",
    "    yes_yes = 0\n",
    "    yes_no = 0\n",
    "    no_yes = 0\n",
    "    no_no = 0\n",
    "    if not first_table or not second_table:\n",
    "        print(\"Warning, one of your experiments is empty, double check experiment names\")\n",
    "        return None\n",
    "    if len(first_table) != len(second_table):\n",
    "        print(\"Warning, tables are different lengths, please reevaluate,  your life\")\n",
    "        return None\n",
    "\n",
    "    for first,second in zip(first_table, second_table):\n",
    "        if first and second:\n",
    "            yes_yes += 1\n",
    "        elif not (first or second):\n",
    "            no_no +=1\n",
    "        elif first and not second:\n",
    "            yes_no +=1\n",
    "        elif second and not first:\n",
    "            no_yes +=1\n",
    "    contingency_table = [[yes_yes,yes_no],[no_yes,no_no]]\n",
    "    return contingency_table\n",
    "    \n",
    "def convert_pairwise_to_df(pairwise, symmetric=True):\n",
    "    #Converts a dictionary of single pairwise comparissons to a symmetric dataframe\n",
    "    df = pd.DataFrame.from_dict(pairwise,orient='columns')\n",
    "    if symmetric:\n",
    "        for rowname, row in df.iterrows():\n",
    "            for columname, value in row.iteritems():\n",
    "                if columname == rowname:\n",
    "                    df.loc[columname,rowname] = \"-\"\n",
    "                elif np.isnan(value):\n",
    "                    df.loc[rowname,columname] = df.loc[columname,rowname]\n",
    "    return df"
   ]
  },
  {
   "cell_type": "code",
   "execution_count": 37,
   "metadata": {},
   "outputs": [
    {
     "name": "stdin",
     "output_type": "stream",
     "text": [
      "What experiment do you wish to generate stats for? exp-2.1\n"
     ]
    },
    {
     "name": "stderr",
     "output_type": "stream",
     "text": [
      "100%|██████████| 75/75 [00:53<00:00,  2.65s/it]"
     ]
    },
    {
     "name": "stdout",
     "output_type": "stream",
     "text": [
      "Finished loading data, 18 conditions loaded from experiment exp-2.1\n"
     ]
    },
    {
     "name": "stderr",
     "output_type": "stream",
     "text": [
      "\n"
     ]
    }
   ],
   "source": [
    "noise_types = [\"AA\",\"RV\",\"VA\"]\n",
    "accuracy_tables = {ntype:defaultdict(list) for ntype in noise_types}\n",
    "accuracy_numbers = {ntype:{} for ntype in noise_types}\n",
    "accuracy_G = {ntype:{} for ntype in noise_types}\n",
    "accuracy_U = {ntype:{} for ntype in noise_types}\n",
    "pvalue_df = {}\n",
    "mcnemar_df = {}\n",
    "target_experiment = input(\"What experiment do you wish to generate stats for?\")\n",
    "cond_num = 0\n",
    "for filename in tqdm(os.listdir(results_dir)):\n",
    "    fullpath = os.path.join(results_dir, filename)\n",
    "    results = []\n",
    "    if not os.path.isdir(fullpath):\n",
    "        parameters = filename.split(\"_\") \n",
    "        exp_id = parameters[0]\n",
    "        condition = parameters[1]\n",
    "        exp_name = \"_\".join(parameters[0:-2])\n",
    "        noise_type = parameters[-2]\n",
    "        \n",
    "        if exp_id == target_experiment:\n",
    "            correct_count = 0\n",
    "            correct_G = 0\n",
    "            correct_U = 0\n",
    "            with open(fullpath, \"r\") as res_file:\n",
    "                for line in res_file.readlines():\n",
    "                    obj = json.loads(line)\n",
    "                    results.append(obj)\n",
    "            for result in results:\n",
    "                is_correct = result[\"gold_label\"] == result[\"predicted_label\"]\n",
    "                if is_correct:\n",
    "                    correct_count+=1\n",
    "                    if result[\"gold_label\"] == \"grammatical\":\n",
    "                        correct_G +=1\n",
    "                    else:\n",
    "                        correct_U +=1\n",
    "                accuracy_tables[noise_type][condition].append(is_correct)\n",
    "            \n",
    "            accuracy_numbers[noise_type][condition] = correct_count/ len(results)\n",
    "            accuracy_G[noise_type][condition] = correct_G / (len(results)/2)\n",
    "            accuracy_U[noise_type][condition] = correct_U / (len(results)/2)\n",
    "            cond_num+=1\n",
    "\n",
    "message = \"Finished loading data, {} conditions loaded from experiment {}\".format(cond_num, target_experiment)\n",
    "print(message)"
   ]
  },
  {
   "cell_type": "code",
   "execution_count": 38,
   "metadata": {},
   "outputs": [
    {
     "data": {
      "text/plain": [
       "{'1uni-1-layer': 0.926557134325387,\n",
       " '2uni-2-layer': 0.9322120887871398,\n",
       " '3uni-3-layer': 0.9217793510177674,\n",
       " '4bi-1-layer': 0.9229644652366495,\n",
       " '5bi-2-layer': 0.9229333598765739,\n",
       " '6bi-3-layer': 0.9204044941024238}"
      ]
     },
     "execution_count": 38,
     "metadata": {},
     "output_type": "execute_result"
    }
   ],
   "source": [
    "accuracy_numbers['AA']"
   ]
  },
  {
   "cell_type": "code",
   "execution_count": 39,
   "metadata": {},
   "outputs": [
    {
     "name": "stderr",
     "output_type": "stream",
     "text": [
      "6it [00:00, 25.74it/s]\n",
      "6it [00:00, 18.88it/s]\n",
      "6it [00:00, 21.02it/s]\n"
     ]
    }
   ],
   "source": [
    "\n",
    "for noise_type in [\"VA\",\"AA\",\"RV\"]:\n",
    "    pairwise_mcnemar = {name:{} for name in accuracy_tables[noise_type]}\n",
    "    pairwise_p_value = {name:{} for name in accuracy_tables[noise_type]}\n",
    "    experiment_names = sorted(list(accuracy_tables[noise_type]))\n",
    "    for ind, first_experiment in tqdm(enumerate(experiment_names)):\n",
    "        first_table = accuracy_tables[noise_type][first_experiment]\n",
    "        pairwise_mcnemar[first_experiment][first_experiment] = \"-\"\n",
    "        pairwise_p_value[first_experiment][first_experiment] = \"-\"\n",
    "        for second_experiment in experiment_names[ind+1:]:\n",
    "            second_table = accuracy_tables[noise_type][second_experiment]\n",
    "            cont_table = build_contingency_table(first_table,second_table)\n",
    "            if cont_table[0][1] + cont_table[1][0] < 25:\n",
    "                stats_result = mcnemar(cont_table, exact=True)\n",
    "                print(\"Comparisson between {} and {} has less than 25 disagreement\".format(first_experiment,second_experiment))\n",
    "            if cont_table[0][1] + cont_table[1][0]:\n",
    "                stats_result = mcnemar(cont_table, exact=False, correction=True)\n",
    "            pairwise_mcnemar[first_experiment][second_experiment] = stats_result.statistic\n",
    "            pairwise_p_value[first_experiment][second_experiment] = stats_result.pvalue\n",
    "    pvalue_df[noise_type] = convert_pairwise_to_df(pairwise_p_value)\n",
    "    mcnemar_df[noise_type] = convert_pairwise_to_df(pairwise_mcnemar)\n",
    "    "
   ]
  },
  {
   "cell_type": "code",
   "execution_count": 40,
   "metadata": {},
   "outputs": [],
   "source": [
    "\n",
    "def build_pvalues_table(ordered_conds,p_values, caption):\n",
    "    latex_table = \"\"\"\\\\begin{table}[ht]\n",
    "\t\\\\centering\n",
    "\t\\\\begin{tabular}\"\"\"\n",
    "    #set the number of columns\n",
    "    cols=\"{\"+\"|c\"*(len(ordered_conds)+1)+\"|}\\n\\t\\hline\"\n",
    "    latex_table+=cols\n",
    "    #define the colors\n",
    "    highsigni_color=\"YellowGreen\"\n",
    "    lowsigni_color = \"Dandelion\"\n",
    "    unsigni_color=\"myOrange\"\n",
    "    # Build the header\n",
    "    \n",
    "    header = \" &\"+\"&\".join(ordered_conds)+ \"\\t\\\\\\\\\\n\\hline\\n\\t\"\n",
    "    latex_table+= header\n",
    "    for this_condition in ordered_conds:\n",
    "        latex_cells =[]\n",
    "        latex_cells.append(this_condition)\n",
    "        for that_condition in ordered_conds:\n",
    "            if this_condition == that_condition:\n",
    "                latex_cells.append(\"-\")\n",
    "            else:\n",
    "                pval = p_values.loc[this_condition,that_condition]\n",
    "                if pval<=0.001:\n",
    "                    color= highsigni_color\n",
    "                elif pval <=0.05:\n",
    "                    color= lowsigni_color\n",
    "                else:\n",
    "                    color=unsigni_color\n",
    "                this_cell = \"{{\\cellcolor{{{color}}}}}{value:.3g}\".format(color=color,\n",
    "                                                                        value=pval)\n",
    "                latex_cells.append(this_cell)\n",
    "        row=\"&\".join(latex_cells)+ \"\\\\\\\\\\n\"\n",
    "        latex_table+=row\n",
    "        latex_table+=\"\\t\\\\hline\\n\\t\"\n",
    "    latex_table += \"\"\"\t\\end{{tabular}} \n",
    "\t\t\\caption{{{}}}\n",
    "\\end{{table}}\"\"\".format(caption)\n",
    "    return latex_table\n",
    "\n",
    "\n",
    "\n",
    "def build_LATEX_pairwise_table(ordered_conds,accuracies,p_values, caption):\n",
    "    latex_table = \"\"\"\\\\begin{table}[ht]\n",
    "\t\\\\centering\n",
    "\t\\\\begin{tabular}\"\"\"\n",
    "    #set the number of columns\n",
    "    cols=\"{\"+\"|c\"*(len(ordered_conds)+1)+\"|}\\n\\t\\hline\"\n",
    "    latex_table+=cols\n",
    "    #define the colors\n",
    "    highsigni_color=\"YellowGreen\"\n",
    "    lowsigni_color = \"Dandelion\"\n",
    "    unsigni_color=\"myOrange\"\n",
    "    # Build the header\n",
    "    \n",
    "    header = \" &\"+\"&\".join(ordered_conds)+ \"\\t\\\\\\\\\\n\\hline\\n\\t\"\n",
    "    latex_table+= header\n",
    "    for this_condition in ordered_conds:\n",
    "        latex_cells =[]\n",
    "        latex_cells.append(this_condition)\n",
    "        for that_condition in ordered_conds:\n",
    "            if this_condition == that_condition:\n",
    "                latex_cells.append(\"-\")\n",
    "            else:\n",
    "                pval = p_values.loc[this_condition,that_condition]\n",
    "                if pval<=0.001:\n",
    "                    color= highsigni_color\n",
    "                elif pval <=0.05:\n",
    "                    color= lowsigni_color\n",
    "                else:\n",
    "                    color=unsigni_color                \n",
    "                value = accuracies[this_condition] - accuracies[that_condition]\n",
    "                this_cell = \"{{\\cellcolor{{{color}}}}}{value:+.2g}\".format(color=color,\n",
    "                                                                        value=value)\n",
    "                latex_cells.append(this_cell)\n",
    "        row=\"&\".join(latex_cells)+ \"\\\\\\\\\\n\"\n",
    "        latex_table+=row\n",
    "        latex_table+=\"\\t\\\\hline\\n\\t\"\n",
    "    latex_table += \"\"\"\t\\end{{tabular}} \n",
    "\t\t\\caption{{{}}}\n",
    "\\end{{table}}\"\"\".format(caption)\n",
    "    return latex_table\n",
    "\n",
    "\n",
    "\n",
    "def build_relative_table(original_ordered_conds,all_accuracies,all_p_values, baseline, caption):\n",
    "    latex_table = \"\"\"\\\\begin{table}[ht]\n",
    "\t\\\\centering\n",
    "\t\\\\begin{tabular}\"\"\"\n",
    "    #set the number of columns\n",
    "    ordered_conds = original_ordered_conds[:]\n",
    "    ordered_conds.remove(baseline)\n",
    "    cols=\"{\"+\"|c\"*(len(ordered_conds)+1)+\"|}\\n\\t\\hline\"\n",
    "    latex_table+=cols\n",
    "    #define the colors\n",
    "    highsigni_color=\"YellowGreen\"\n",
    "    lowsigni_color = \"Dandelion\"\n",
    "    unsigni_color=\"myOrange\"\n",
    "    # Build the header\n",
    "    \n",
    "    header = \" &\"+\"&\".join(ordered_conds)+ \"\\t\\\\\\\\\\n\\hline\\n\\t\"\n",
    "    latex_table+= header\n",
    "    for ug_type in all_accuracies:\n",
    "        latex_cells = []\n",
    "        latex_cells.append(ug_type)\n",
    "        accuracies = all_accuracies[ug_type]\n",
    "        p_values = all_p_values[ug_type]\n",
    "        for this_condition in ordered_conds:\n",
    "            pval = p_values.loc[baseline,this_condition]\n",
    "            if pval<=0.001:\n",
    "                color = highsigni_color\n",
    "            elif pval <=0.05:\n",
    "                color = lowsigni_color\n",
    "            else:\n",
    "                color=unsigni_color                \n",
    "            value = ((accuracies[this_condition] - accuracies[baseline])/accuracies[baseline]) * 100\n",
    "            this_cell = \"{{\\cellcolor{{{color}}}}}{value:+.2g}\\%\".format(color=color,\n",
    "                                                                    value=value)\n",
    "            latex_cells.append(this_cell)\n",
    "        row=\"&\".join(latex_cells)+ \"\\\\\\\\\\n\"\n",
    "        latex_table+=row\n",
    "        latex_table+=\"\\t\\\\hline\\n\\t\"\n",
    "    latex_table += \"\"\"\t\\end{{tabular}} \n",
    "        \\caption{{{}}}\n",
    "    \\end{{table}}\"\"\".format(caption)\n",
    "    return latex_table\n",
    "\n",
    "\n",
    "\n"
   ]
  },
  {
   "cell_type": "code",
   "execution_count": 41,
   "metadata": {},
   "outputs": [],
   "source": [
    "import matplotlib.pyplot as plt\n",
    "\n",
    "def build_2layer_bar_plot(accuracy_G,accuracy_U,\n",
    "                          ordered_conds,x_label,\n",
    "                         title, cond_to_name=None\n",
    "                         ):\n",
    "    if cond_to_name is None:\n",
    "        cond_to_name = {name:name for name in ordered_conds}\n",
    "    print(ordered_conds)\n",
    "    #Graph with the G and U accuracies . overimposed \n",
    "    AAG_numbers = [ accuracy_G['AA'][cond_to_name[cond]] for cond in ordered_conds ]\n",
    "    AAU_numbers = [ accuracy_U['AA'][cond_to_name[cond]] for cond in ordered_conds ]\n",
    "\n",
    "    VAG_numbers = [ accuracy_G['VA'][cond_to_name[cond]] for cond in ordered_conds ]\n",
    "    VAU_numbers = [ accuracy_U['VA'][cond_to_name[cond]] for cond in ordered_conds ]\n",
    "\n",
    "    RVG_numbers = [ accuracy_G['RV'][cond_to_name[cond]] for cond in ordered_conds]\n",
    "    RVU_numbers = [ accuracy_U['RV'][cond_to_name[cond]] for cond in ordered_conds]\n",
    "\n",
    "    ind = np.arange(len(accuracy_numbers['AA']))\n",
    "    width = 0.25\n",
    "\n",
    "    fig, ax = plt.subplots()\n",
    "    #Make the rectangles\n",
    "    AAG_rects = ax.bar(ind - width, AAG_numbers, width,\n",
    "                   color=\"#ed845e\",\n",
    "                  label= \"Adj Agreement (gram)\")\n",
    "    AAU_rects = ax.bar(ind - width, AAU_numbers, width,\n",
    "                   color=\"#c1471b\",\n",
    "                  label= \"Adj Agreement (ungram)\",)\n",
    "\n",
    "    VAG_rects = ax.bar(ind, VAG_numbers, width,\n",
    "                   color=\"skyblue\",\n",
    "                  label= \"Verb Agreement (gram)\")\n",
    "    VAU_rects = ax.bar(ind, VAU_numbers, width,\n",
    "                   color=\"steelblue\",\n",
    "                  label= \"Verbal Agreement (ungram)\")\n",
    "\n",
    "    RVG_rects = ax.bar(ind + width, RVG_numbers, width,\n",
    "                   color=\"#a7ce90\",\n",
    "                  label= \"Verb Removal (gram)\")\n",
    "    RVU_rects = ax.bar(ind + width, RVU_numbers, width,\n",
    "                   color=\"#658752\",\n",
    "                  label= \"Verb Removal (ungram)\")\n",
    "\n",
    "    # Add the labels\n",
    "    ax.set_axisbelow(True)\n",
    "    ax.grid(which='major',axis='y',alpha=0.8,color='black')\n",
    "\n",
    "    ax.set_ylabel(\"Accuracy\")\n",
    "    ax.set_xlabel(x_label)\n",
    "    ax.set_title(title)\n",
    "    ax.set_xticks(ind)\n",
    "    ax.set_xticklabels(ordered_conds, rotation='45')\n",
    "    ax.set_ylim(bottom=0.5)\n",
    "\n",
    "    lgd = plt.legend(bbox_to_anchor=(1.03, 0.45), loc=2, borderaxespad=0.)\n",
    "    plt.show\n",
    "    plt.savefig(os.path.join(plots_dir,target_experiment.replace(\".\",\"-\")+\"_UandGaccuracies.png\")\n",
    "               ,bbox_extra_artists=(lgd,), bbox_inches='tight')"
   ]
  },
  {
   "cell_type": "code",
   "execution_count": 22,
   "metadata": {},
   "outputs": [],
   "source": [
    "# For experiment 1.1\n",
    "if target_experiment==\"exp-1.1\":\n",
    "    for noise_type in noise_types:\n",
    "        ordered_conds= [\"32-32\",\"64-64\",\"128-128\",\"256-256\",\"512-512\",\"512-1024\"]\n",
    "        caption = \"The relative difference in accuracy accross dimension parameters on {} data, green indicates that the difference is significant according to Mc Nemar's test ($p\\\\leq0.001$)\".format(noise_type)\n",
    "        table_latex = build_LATEX_pairwise_table(ordered_conds, accuracy_U[noise_type], pvalue_df[noise_type], caption )\n",
    "        table_folder = \"/Users/pablo/Dropbox/Universidad/Thesis/Dissertation/Results/tables\"\n",
    "        with open(os.path.join(table_folder,\"exp-1.1_{}_pairwise.tex\".format(noise_type)),\"w\") as outfile:\n",
    "            outfile.write(table_latex)\n",
    "\n",
    "    for noise_type in noise_types:\n",
    "        ordered_conds= [\"32-32\",\"64-64\",\"128-128\",\"256-256\",\"512-512\",\"512-1024\"]\n",
    "        caption = \"Pairwise p-value accross dimension parameters on {} data, green indicates that the difference is highly significant ($p\\\\leq 0.001$), orange that it is significant($0.001\\\\leq p \\\\leq 0.05$), according to Mc Nemar's test \".format(noise_type)\n",
    "        table_latex = build_pvalues_table(ordered_conds, pvalue_df[noise_type], caption )\n",
    "        table_folder = \"/Users/pablo/Dropbox/Universidad/Thesis/Dissertation/Results/tables\"\n",
    "        with open(os.path.join(table_folder,\"exp-1.1_{}_pvals.tex\".format(noise_type)),\"w\") as outfile:\n",
    "            outfile.write(table_latex)"
   ]
  },
  {
   "cell_type": "code",
   "execution_count": 30,
   "metadata": {},
   "outputs": [],
   "source": [
    "# For experiment 1.2\n",
    "if target_experiment==\"exp-1.2\":\n",
    "    for noise_type in noise_types:\n",
    "        ordered_conds= [\"random\",\"pretrained-cont\",\"pretrained-freeze\"]\n",
    "        caption = \"The relative difference in accuracy by embedding dimension on {} data, green indicates that the difference in error proportions highly significant ($p\\\\leq 0.001$), orange that it is significant($0.001\\\\leq p \\\\leq 0.05$), red that it is not significant, according to Mc Nemar's test. \".format(noisenames[noise_type])\n",
    "        table_latex = build_LATEX_pairwise_table(ordered_conds, accuracy_U[noise_type], pvalue_df[noise_type], caption )\n",
    "        table_folder = \"/Users/pablo/Dropbox/Universidad/Thesis/Dissertation/Results/tables\"\n",
    "        with open(os.path.join(table_folder,\"exp-1.2_{}_pairwise.tex\".format(noise_type)),\"w\") as outfile:\n",
    "            outfile.write(table_latex)\n",
    "\n",
    "    for noise_type in noise_types:\n",
    "        caption = \"Pairwise p-value accross dimension parameters on {} data, green indicates that the difference in error proportions highly significant ($p\\\\leq 0.001$), orange that it is significant($0.001\\\\leq p \\\\leq 0.05$), red that it is not significant, according to Mc Nemar's test. \".format(noisenames[noise_type])\n",
    "        table_latex = build_pvalues_table(ordered_conds, pvalue_df[noise_type], caption )\n",
    "        table_folder = \"/Users/pablo/Dropbox/Universidad/Thesis/Dissertation/Results/tables\"\n",
    "        with open(os.path.join(table_folder,\"exp-1.2_{}_pvals.tex\".format(noise_type)),\"w\") as outfile:\n",
    "            outfile.write(table_latex)\n",
    "    baseline = \"random\"\n",
    "    relative_table = build_relative_table(ordered_conds, accuracy_numbers, pvalue_df, baseline, caption)\n",
    "    with open(os.path.join(table_folder,\"exp-1.2_relative.tex\".format(noise_type)),\"w\") as outfile:\n",
    "            outfile.write(relative_table)"
   ]
  },
  {
   "cell_type": "code",
   "execution_count": 31,
   "metadata": {},
   "outputs": [
    {
     "data": {
      "text/plain": [
       "\"\\\\begin{table}[ht]\\n\\t\\\\centering\\n\\t\\\\begin{tabular}{|c|c|c|}\\n\\t\\\\hline &pretrained-cont&pretrained-freeze\\t\\\\\\\\\\n\\\\hline\\n\\tAA&{\\\\cellcolor{YellowGreen}}+1.9\\\\%&{\\\\cellcolor{YellowGreen}}+3.2\\\\%\\\\\\\\\\n\\t\\\\hline\\n\\tRV&{\\\\cellcolor{YellowGreen}}+0.55\\\\%&{\\\\cellcolor{YellowGreen}}+1.3\\\\%\\\\\\\\\\n\\t\\\\hline\\n\\tVA&{\\\\cellcolor{YellowGreen}}+1\\\\%&{\\\\cellcolor{YellowGreen}}+1.9\\\\%\\\\\\\\\\n\\t\\\\hline\\n\\t\\t\\\\end{tabular} \\n        \\\\caption{Pairwise p-value accross dimension parameters on verbal agreement data, green indicates that the difference in error proportions highly significant ($p\\\\leq 0.001$), orange that it is significant($0.001\\\\leq p \\\\leq 0.05$), red that it is not significant, according to Mc Nemar's test. }\\n    \\\\end{table}\""
      ]
     },
     "execution_count": 31,
     "metadata": {},
     "output_type": "execute_result"
    }
   ],
   "source": [
    "relative_table"
   ]
  },
  {
   "cell_type": "code",
   "execution_count": 24,
   "metadata": {},
   "outputs": [],
   "source": [
    "# For experiment 1.3\n",
    "if target_experiment==\"exp-1.3\":\n",
    "    for noise_type in noise_types:\n",
    "        ordered_conds= [\"16-512\", \"32-512\", \"64-512\", \"128-512\",\"256-512\", '512-512']\n",
    "        caption = \"The relative difference in accuracy between embeddings on {} data, green indicates that the difference in error proportions highly significant ($p\\\\leq 0.001$), orange that it is significant($0.001\\\\leq p \\\\leq 0.05$), red that it is not significant, according to Mc Nemar's test. \".format(noisenames[noise_type])\n",
    "        table_latex = build_LATEX_pairwise_table(ordered_conds, accuracy_U[noise_type], pvalue_df[noise_type], caption )\n",
    "        table_folder = \"/Users/pablo/Dropbox/Universidad/Thesis/Dissertation/Results/tables\"\n",
    "        with open(os.path.join(table_folder,\"exp-1.3_{}_pairwise.tex\".format(noise_type)),\"w\") as outfile:\n",
    "            outfile.write(table_latex)\n",
    "\n",
    "    for noise_type in noise_types:\n",
    "        caption = \"Pairwise p-value accross dimension parameters on {} data, green indicates that the difference in error proportions highly significant ($p\\\\leq 0.001$), orange that it is significant($0.001\\\\leq p \\\\leq 0.05$), red that it is not significant, according to Mc Nemar's test. \".format(noisenames[noise_type])\n",
    "        table_latex = build_pvalues_table(ordered_conds, pvalue_df[noise_type], caption )\n",
    "        table_folder = \"/Users/pablo/Dropbox/Universidad/Thesis/Dissertation/Results/tables\"\n",
    "        with open(os.path.join(table_folder,\"exp-1.3_{}_pvals.tex\".format(noise_type)),\"w\") as outfile:\n",
    "            outfile.write(table_latex)\n",
    "        \n",
    "    title = \"Accuracy by embeddings dimension\"\n",
    "    x_label = \"Embeddings Dimension\"\n",
    "    build_2layer_bar_plot(accuracy_G,accuracy_U,\n",
    "                      ordered_conds,x_label,\n",
    "                     title)"
   ]
  },
  {
   "cell_type": "code",
   "execution_count": 43,
   "metadata": {},
   "outputs": [
    {
     "name": "stdout",
     "output_type": "stream",
     "text": [
      "['unidirectional\\n 1 layer', 'unidirectional\\n 2 layers', 'unidirectional\\n 3 layers', 'bidirectional\\n 1 layer', 'bidirectional\\n 2 layers', 'bidirectional\\n 3 layers']\n"
     ]
    },
    {
     "data": {
      "image/png": "[encoded data removed]",
      "text/plain": [
       "<Figure size 432x288 with 1 Axes>"
      ]
     },
     "metadata": {
      "needs_background": "light"
     },
     "output_type": "display_data"
    }
   ],
   "source": [
    "# For experiment 2.1\n",
    "\n",
    "cond_code_to_name = {'unidirectional\\n 1 layer':'1uni-1-layer',\n",
    " 'unidirectional\\n 2 layers':'2uni-2-layer',\n",
    " 'unidirectional\\n 3 layers':'3uni-3-layer',\n",
    " 'bidirectional\\n 1 layer':'4bi-1-layer',\n",
    " 'bidirectional\\n 2 layers':'5bi-2-layer',\n",
    " 'bidirectional\\n 3 layers':'6bi-3-layer'}\n",
    "if target_experiment==\"exp-2.1\":\n",
    "    for noise_type in noise_types:\n",
    "        ordered_conds= ['unidirectional\\n 1 layer',\n",
    " 'unidirectional\\n 2 layers',\n",
    " 'unidirectional\\n 3 layers',\n",
    " 'bidirectional\\n 1 layer',\n",
    " 'bidirectional\\n 2 layers',\n",
    " 'bidirectional\\n 3 layers']\n",
    "        caption = \"The relative difference in accuracy between LSTM architectures on {} data, green indicates that the difference in error proportions highly significant ($p\\\\leq 0.001$), orange that it is significant($0.001\\\\leq p \\\\leq 0.05$), red that it is not significant, according to Mc Nemar's test. \".format(noisenames[noise_type])\n",
    "        table_latex = build_LATEX_pairwise_table(cond_code_to_name.values(), accuracy_U[noise_type], pvalue_df[noise_type], caption )\n",
    "        table_folder = \"/Users/pablo/Dropbox/Universidad/Thesis/Dissertation/Results/tables\"\n",
    "        with open(os.path.join(table_folder,\"{}_{}_pairwise.tex\".format(target_experiment,noise_type)),\"w\") as outfile:\n",
    "            outfile.write(table_latex)\n",
    "\n",
    "    for noise_type in noise_types:\n",
    "        caption = \"Pairwise p-value accross LSTM architectures on {} data, green indicates that the difference in error proportions highly significant ($p\\\\leq 0.001$), orange that it is significant($0.001\\\\leq p \\\\leq 0.05$), red that it is not significant, according to Mc Nemar's test. \".format(noisenames[noise_type])\n",
    "        table_latex = build_pvalues_table(cond_code_to_name.values(), pvalue_df[noise_type], caption )\n",
    "        table_folder = \"/Users/pablo/Dropbox/Universidad/Thesis/Dissertation/Results/tables\"\n",
    "        with open(os.path.join(table_folder,\"{}_{}_pvals.tex\".format(target_experiment,noise_type)),\"w\") as outfile:\n",
    "            outfile.write(table_latex)\n",
    "    title = \"Accuracy by LSTM architecture\"\n",
    "    x_label = \"LSTM architecture\"\n",
    "    \n",
    "    build_2layer_bar_plot(accuracy_G,accuracy_U,\n",
    "                          ordered_conds,x_label,\n",
    "                         title,cond_to_name=cond_code_to_name)\n",
    "    baseline=\"1uni-1-layer\"\n",
    "    relative_table = build_relative_table(list(cond_code_to_name.values()), accuracy_numbers, pvalue_df, baseline, caption)\n",
    "    with open(os.path.join(table_folder,\"exp-2.1_relative.tex\".format(noise_type)),\"w\") as outfile:\n",
    "            outfile.write(relative_table)"
   ]
  },
  {
   "cell_type": "code",
   "execution_count": 293,
   "metadata": {},
   "outputs": [
    {
     "data": {
      "text/plain": [
       "{'AA': {'1uni-1-layer': 0.9155676106106604,\n",
       "  '2uni-2-layer': 0.920731100383218,\n",
       "  '3uni-3-layer': 0.9045252077838053,\n",
       "  '4bi-1-layer': 0.9093403175235156,\n",
       "  '5bi-2-layer': 0.9096700343403176,\n",
       "  '6bi-3-layer': 0.9166625192853233},\n",
       " 'RV': {'1uni-1-layer': 0.9359907035590517,\n",
       "  '2uni-2-layer': 0.9354062379668848,\n",
       "  '3uni-3-layer': 0.9281932449529677,\n",
       "  '4bi-1-layer': 0.9395181253094229,\n",
       "  '5bi-2-layer': 0.9230568238076902,\n",
       "  '6bi-3-layer': 0.9455346828758457},\n",
       " 'VA': {'1uni-1-layer': 0.8935993910605374,\n",
       "  '2uni-2-layer': 0.8945147272779828,\n",
       "  '3uni-3-layer': 0.8745893030919094,\n",
       "  '4bi-1-layer': 0.8909882740612987,\n",
       "  '5bi-2-layer': 0.8865753899814042,\n",
       "  '6bi-3-layer': 0.8997465963945388}}"
      ]
     },
     "execution_count": 293,
     "metadata": {},
     "output_type": "execute_result"
    }
   ],
   "source": [
    "accuracy_U"
   ]
  },
  {
   "cell_type": "code",
   "execution_count": 272,
   "metadata": {},
   "outputs": [
    {
     "data": {
      "text/plain": [
       "<function matplotlib.pyplot.show(*args, **kw)>"
      ]
     },
     "execution_count": 272,
     "metadata": {},
     "output_type": "execute_result"
    },
    {
     "data": {
      "image/png": "[encoded data removed]",
      "text/plain": [
       "<Figure size 720x345.6 with 1 Axes>"
      ]
     },
     "metadata": {
      "needs_background": "light"
     },
     "output_type": "display_data"
    }
   ],
   "source": [
    "import matplotlib.pyplot as plt\n",
    "\n",
    "#Graph with only the total accuracy\n",
    "AA_numbers = [ accuracy_numbers['AA'][cond] for cond in ordered_conds ]\n",
    "VA_numbers = [ accuracy_numbers['VA'][cond] for cond in ordered_conds ]\n",
    "RV_numbers = [ accuracy_numbers['RV'][cond] for cond in ordered_conds]\n",
    "\n",
    "ind = np.arange(len(accuracy_numbers['AA']))\n",
    "width = 0.25\n",
    "\n",
    "fig, ax = plt.subplots(figsize=(10,4.8))\n",
    "#Make the rectangles\n",
    "AA_rects = ax.bar(ind - width, AA_numbers, width,\n",
    "               color=\"peru\",\n",
    "              label= \"Adjectival Agreement\",)\n",
    "VA_rects = ax.bar(ind, VA_numbers, width,\n",
    "               color=\"skyblue\",\n",
    "              label= \"Verbal agreement\")\n",
    "\n",
    "RV_rects = ax.bar(ind + width, RV_numbers, width,\n",
    "               color=\"teal\",\n",
    "              label= \"Main verb removal\")\n",
    "# Add the labels\n",
    "ax.set_ylabel(\"Accuracy\")\n",
    "ax.set_xlabel(\"Embedding and hidden dimensions\")\n",
    "ax.set_title('Accuracies by model dimensions and corruption type')\n",
    "ax.set_xticks(ind)\n",
    "ax.set_xticklabels(ordered_conds)\n",
    "ax.set_ylim(bottom=0.7)\n",
    "ax.legend(loc='lower right', fontsize=12)\n",
    "plt.show"
   ]
  },
  {
   "cell_type": "code",
   "execution_count": 202,
   "metadata": {},
   "outputs": [
    {
     "data": {
      "text/plain": [
       "{'AA': {'128-128': 0.9354688199870602,\n",
       "  '256-256': 0.9323520629074802,\n",
       "  '32-32': 0.9137634997262728,\n",
       "  '512-1024': 0.9375466580401135,\n",
       "  '512-512': 0.9254031254665804,\n",
       "  '64-64': 0.9196424127805704},\n",
       " 'RV': {'128-128': 0.952575774245008,\n",
       "  '256-256': 0.9493852797183564,\n",
       "  '32-32': 0.933322790032455,\n",
       "  '512-1024': 0.9544941966004731,\n",
       "  '512-512': 0.9462979261785577,\n",
       "  '64-64': 0.9422204191649706},\n",
       " 'VA': {'128-128': 0.9445402603408904,\n",
       "  '256-256': 0.9413317660207926,\n",
       "  '32-32': 0.9231310279707478,\n",
       "  '512-1024': 0.9453785156137089,\n",
       "  '512-512': 0.9344137512405215,\n",
       "  '64-64': 0.9306078795995645}}"
      ]
     },
     "execution_count": 202,
     "metadata": {},
     "output_type": "execute_result"
    }
   ],
   "source": [
    "accuracy_G"
   ]
  },
  {
   "cell_type": "code",
   "execution_count": 290,
   "metadata": {},
   "outputs": [
    {
     "data": {
      "text/plain": [
       "<function __main__.build_2layer_bar_plot(accuracy_G, accuracy_U, ordered_conds, x_label, title)>"
      ]
     },
     "execution_count": 290,
     "metadata": {},
     "output_type": "execute_result"
    }
   ],
   "source": [
    "build_2layer_bar_plot"
   ]
  },
  {
   "cell_type": "code",
   "execution_count": null,
   "metadata": {},
   "outputs": [],
   "source": [
    "# Build contingency table and test for single comparison\n",
    "trial = build_contingency_table(accuracy_tables[\"VA\"][\"exp-1.1_128-128\"], \n",
    "                        accuracy_tables[\"VA\"][\"exp-1.1_128-128\"])\n",
    "\n",
    "result = mcnemar(trial, exact=False, correction=True)\n",
    "print('statistic={}, p-value={}'.format(result.statistic, result.pvalue))"
   ]
  }
 ],
 "metadata": {
  "kernelspec": {
   "display_name": "Python [conda env:allen]",
   "language": "python",
   "name": "conda-env-allen-py"
  },
  "language_info": {
   "codemirror_mode": {
    "name": "ipython",
    "version": 3
   },
   "file_extension": ".py",
   "mimetype": "text/x-python",
   "name": "python",
   "nbconvert_exporter": "python",
   "pygments_lexer": "ipython3",
   "version": "3.6.7"
  }
 },
 "nbformat": 4,
 "nbformat_minor": 2
}
