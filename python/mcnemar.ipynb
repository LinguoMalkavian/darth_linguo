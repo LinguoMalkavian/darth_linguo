{
 "cells": [
  {
   "cell_type": "code",
   "execution_count": 1,
   "metadata": {},
   "outputs": [],
   "source": [
    "import json\n",
    "import os\n",
    "from statsmodels.stats.contingency_tables import mcnemar\n",
    "from collections import defaultdict\n",
    "from tqdm import tqdm\n",
    "results_dir = os.path.abspath(\"../results/pairtest/classifier_results/\")\n",
    "\n"
   ]
  },
  {
   "cell_type": "code",
   "execution_count": 2,
   "metadata": {},
   "outputs": [
    {
     "name": "stderr",
     "output_type": "stream",
     "text": [
      "100%|██████████| 75/75 [02:15<00:00,  1.95s/it]\n"
     ]
    }
   ],
   "source": [
    "noise_types = [\"AA\",\"RV\",\"VA\"]\n",
    "accuracy_tables = {ntype:defaultdict(list) for ntype in noise_types}\n",
    "\n",
    "for filename in tqdm(os.listdir(results_dir)):\n",
    "    fullpath = os.path.join(results_dir, filename)\n",
    "    results = []\n",
    "    if not os.path.isdir(fullpath):\n",
    "        parameters = filename.split(\"_\") \n",
    "        exp_id = parameters[0]\n",
    "        condition = parameters[1]\n",
    "        exp_name = \"_\".join(parameters[0:-2])\n",
    "        noise_type = parameters[-2]\n",
    "        with open(fullpath, \"r\") as res_file:\n",
    "            for line in res_file.readlines():\n",
    "                obj = json.loads(line)\n",
    "                results.append(obj)\n",
    "        for result in results:\n",
    "            is_correct = result[\"gold_label\"] == result[\"predicted_label\"]\n",
    "            accuracy_tables[noise_type][exp_name].append(is_correct)\n",
    "\n",
    "  "
   ]
  },
  {
   "cell_type": "code",
   "execution_count": 10,
   "metadata": {},
   "outputs": [
    {
     "name": "stdout",
     "output_type": "stream",
     "text": [
      "['exp-1_no-WS_350-1000_lab', 'exp-1.3_16-512', 'exp-2.1_2uni-2-layer', 'exp-1.3_256-512', 'exp-1_all-WS_350-1000_lab', 'exp-1.3_512-512', 'exp-2.1_6bi-3-layer', 'exp-1.1_512-512', 'exp-1.1_256-256', 'exp-1.1_32-32', 'exp-2.1_1uni-1-layer', 'exp-1.2_pretrained-freeze', 'exp-1.2_pretrained-cont', 'exp-1.1_128-128', 'exp-1.1_64-64', 'exp-2.1_5bi-2-layer', 'exp-1_quarter-WS_350-1000_lab', 'exp-1.3_128-512', 'exp-2.1_3uni-3-layer', 'exp-1.2_random', 'exp-1_half-WS_350-1000_lab', 'exp-2.1_4bi-1-layer', 'exp-1.1_512-1024', 'exp-1.3_32-512', 'exp-1.3_64-512']\n"
     ]
    }
   ],
   "source": [
    "print(list(accuracy_tables['AA']))"
   ]
  },
  {
   "cell_type": "code",
   "execution_count": 35,
   "metadata": {},
   "outputs": [],
   "source": [
    "def build_contingency_table( first_table, second_table):\n",
    "    yes_yes = 0\n",
    "    yes_no = 0\n",
    "    no_yes = 0\n",
    "    no_no = 0\n",
    "    if len(first_table) != len(second_table):\n",
    "        print(\"Warning, tables are different lengths, please reevaluate,  your life\")\n",
    "        return\n",
    "    if not first_table or not second_table:\n",
    "        print(\"Warning, one of your experiments is empty, double ch)\n",
    "    for first,second in zip(first_table, second_table):\n",
    "        if first and second:\n",
    "            yes_yes += 1\n",
    "        elif not (first or second):\n",
    "            no_no +=1\n",
    "        elif first and not second:\n",
    "            yes_no +=1\n",
    "        elif second and not first:\n",
    "            no_yes +=1\n",
    "    contingency_table = [[yes_yes,yes_no],[no_yes,no_no]]\n",
    "    return contingency_table\n",
    "    "
   ]
  },
  {
   "cell_type": "code",
   "execution_count": 50,
   "metadata": {},
   "outputs": [
    {
     "name": "stdout",
     "output_type": "stream",
     "text": [
      "statistic=78.4138823759281, p-value=8.356285342824392e-19\n"
     ]
    }
   ],
   "source": [
    "trial = build_contingency_table(accuracy_tables[\"AA\"][\"exp-1.1_128-128\"], \n",
    "                        accuracy_tables[\"AA\"][\"exp-1.3_512-512\"])\n",
    "\n",
    "result = mcnemar(trial, exact=False, correction=True)\n",
    "print('statistic={}, p-value={}'.format(result.statistic, result.pvalue))"
   ]
  },
  {
   "cell_type": "code",
   "execution_count": 46,
   "metadata": {},
   "outputs": [
    {
     "data": {
      "text/plain": [
       "[[298339, 0], [0, 23149]]"
      ]
     },
     "execution_count": 46,
     "metadata": {},
     "output_type": "execute_result"
    }
   ],
   "source": [
    "trial"
   ]
  },
  {
   "cell_type": "code",
   "execution_count": 48,
   "metadata": {},
   "outputs": [
    {
     "data": {
      "text/plain": [
       "8.356285342824392e-19"
      ]
     },
     "execution_count": 48,
     "metadata": {},
     "output_type": "execute_result"
    }
   ],
   "source": [
    "result.pvalue"
   ]
  },
  {
   "cell_type": "code",
   "execution_count": null,
   "metadata": {},
   "outputs": [],
   "source": []
  }
 ],
 "metadata": {
  "kernelspec": {
   "display_name": "Python (allennlp)",
   "language": "python",
   "name": "allenlp"
  },
  "language_info": {
   "codemirror_mode": {
    "name": "ipython",
    "version": 3
   },
   "file_extension": ".py",
   "mimetype": "text/x-python",
   "name": "python",
   "nbconvert_exporter": "python",
   "pygments_lexer": "ipython3",
   "version": "3.6.8"
  }
 },
 "nbformat": 4,
 "nbformat_minor": 2
}
