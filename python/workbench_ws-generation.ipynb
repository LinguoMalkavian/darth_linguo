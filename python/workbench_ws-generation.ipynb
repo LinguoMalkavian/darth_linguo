{
 "cells": [
  {
   "cell_type": "code",
   "execution_count": 10,
   "metadata": {},
   "outputs": [],
   "source": [
    "import os \n",
    "import random\n",
    "from tqdm import tqdm\n",
    "import csv\n",
    "from collections import defaultdict\n",
    "import math\n",
    "from numpy.random import choice\n",
    "\n",
    "# NLTK modules\n",
    "from nltk import word_tokenize\n",
    "\n",
    "from generateWS import *\n",
    "from corpus_tools import *\n",
    "corpusName = \"euro_hundo\"\n",
    "basePath = \"/\".join(os.getcwd().split(\"/\")[:-1])\n",
    "dataPath = basePath + \"/Data/\" + corpusName +\"/\" + corpusName\n",
    "corpus_fn = dataPath + \"-pretrain\"\n",
    " \n",
    "ngramOrder = 3\n"
   ]
  },
  {
   "cell_type": "code",
   "execution_count": 15,
   "metadata": {},
   "outputs": [
    {
     "name": "stdout",
     "output_type": "stream",
     "text": [
      "Full corpus has 82939 sentences,\n",
      "    \t 17061 were dumped,\n",
      "    among which 3817 interogatives or exclamatives.\n",
      "    8736 sentences had more than 55 tokens\n",
      "    1697 had fewer than 7\n",
      "Establishing vocabulary\n",
      "The corpus has a total of 2245898 tokens, with\n",
      "    20278 kept types and 24065 hapaxes\n",
      "Cleaning corpus\n"
     ]
    }
   ],
   "source": [
    "#Load file with grammatical data\n",
    "tokenized_sentences = load_raw_grammatical_corpus(corpus_fn,7,55)\n",
    "\n",
    "#Extract frequencies \n",
    "#Get vocabulary and hapaxes\n",
    "word2id = get_vocabulary(tokenized_sentences,2)\n",
    "\n",
    "#Get n gram frequencies for chosen n\n",
    "preprocessed_sentences = token_replacement(tokenized_sentences, word2id)\n",
    "n_gramFreqs = extract_ngram_freq(preprocessed_sentences, ngramOrder)\n",
    "word_salads = [generateWordSalad(n_gramFreqs,ngramOrder)]\n",
    "#Generate word salads\n",
    "\n",
    "#save Word Salads and vocabulary (word2_ID?)"
   ]
  },
  {
   "cell_type": "code",
   "execution_count": 13,
   "metadata": {},
   "outputs": [
    {
     "ename": "SyntaxError",
     "evalue": "Missing parentheses in call to 'print'. Did you mean print(lengths)? (<ipython-input-13-07d0a27b05be>, line 16)",
     "output_type": "error",
     "traceback": [
      "\u001b[0;36m  File \u001b[0;32m\"<ipython-input-13-07d0a27b05be>\"\u001b[0;36m, line \u001b[0;32m16\u001b[0m\n\u001b[0;31m    print lengths\u001b[0m\n\u001b[0m                ^\u001b[0m\n\u001b[0;31mSyntaxError\u001b[0m\u001b[0;31m:\u001b[0m Missing parentheses in call to 'print'. Did you mean print(lengths)?\n"
     ]
    }
   ],
   "source": [
    "from collections import defaultdict\n",
    "input_corpus_path = corpus_fn\n",
    "\n",
    "corpusName = \"euro_mini\"\n",
    "basePath = \"/\".join(os.getcwd().split(\"/\")[:-1])\n",
    "dataPath = basePath + \"/Data/\" + corpusName +\"/\" + corpusName\n",
    "corpus_fn = dataPath + \"-pretrain\"\n",
    "\n",
    "with open(input_corpus_path, \"r\") as infile:\n",
    "    lengths = defaultdict(int)\n",
    "    tooShortCount = 0\n",
    "    tooLongCount = 0\n",
    "    for line in in_file.readlines():\n",
    "        tokenized = word_tokenize(line)\n",
    "        lengths[len(tokenized)] +=1\n",
    "print lengths"
   ]
  },
  {
   "cell_type": "code",
   "execution_count": 160,
   "metadata": {},
   "outputs": [
    {
     "data": {
      "image/png": "[encoded data removed]",
      "text/plain": [
       "<matplotlib.figure.Figure at 0x1a23341438>"
      ]
     },
     "metadata": {},
     "output_type": "display_data"
    }
   ],
   "source": [
    "bins = range(0,200,5)\n",
    "\n",
    "import matplotlib.pyplot as plt\n",
    "lengths_ws = [len(ws) for ws in resp]\n",
    "lengths_g = [len(g) for g in preprocessed_sentences]\n",
    "\n",
    "plt.hist(lengths_ws, bins, alpha=0.5, label='Word Salads',facecolor=\"r\")\n",
    "plt.hist(lengths_g, bins, alpha=0.5, label='Grammatical Sentences',facecolor=\"b\")\n",
    "plt.legend(loc='upper right')\n",
    "\n",
    "plt.xlabel('Sentence Length')\n",
    "plt.ylabel('Count')\n",
    "#plt.title('Sequence lengths for trigram word salads and corpus sentences')\n",
    "\n",
    "plt.grid(True)\n",
    "plt.show()"
   ]
  },
  {
   "cell_type": "code",
   "execution_count": 167,
   "metadata": {},
   "outputs": [
    {
     "data": {
      "text/plain": [
       "['por',\n",
       " 'nuestra',\n",
       " 'parte',\n",
       " 'y',\n",
       " 'hasta',\n",
       " 'ahora',\n",
       " 'con',\n",
       " 'toda',\n",
       " 'claridad',\n",
       " 'estos',\n",
       " 'últimos',\n",
       " 'años',\n",
       " ',',\n",
       " 'la',\n",
       " 'representación',\n",
       " 'ante',\n",
       " 'los',\n",
       " 'tribunales',\n",
       " ',',\n",
       " 'el',\n",
       " 'gobierno',\n",
       " 'español',\n",
       " ',',\n",
       " 'ese',\n",
       " 'derroche',\n",
       " 'de',\n",
       " 'gasolina',\n",
       " 'y',\n",
       " 'del',\n",
       " 'mercado',\n",
       " 'único',\n",
       " 'europeo',\n",
       " \"''\",\n",
       " ',',\n",
       " 'según',\n",
       " 'las',\n",
       " 'cuales',\n",
       " 'implican',\n",
       " 'directamente',\n",
       " 'cuestiones',\n",
       " 'normativas',\n",
       " 'respecto',\n",
       " 'de',\n",
       " 'cualquier',\n",
       " 'tipo',\n",
       " 'de',\n",
       " 'comportamiento',\n",
       " 'intencionales',\n",
       " ',',\n",
       " 'reviste',\n",
       " 'tanta',\n",
       " 'importancia',\n",
       " ',',\n",
       " 'tengo',\n",
       " 'que',\n",
       " 'decir',\n",
       " ',',\n",
       " 'un',\n",
       " 'proyecto',\n",
       " 'mundial',\n",
       " ',',\n",
       " 'en',\n",
       " 'la',\n",
       " 'carta',\n",
       " 'social',\n",
       " '.',\n",
       " '<eos>']"
      ]
     },
     "execution_count": 167,
     "metadata": {},
     "output_type": "execute_result"
    }
   ],
   "source": [
    "generateWordSalad(n_gramFreqs,3)"
   ]
  },
  {
   "cell_type": "code",
   "execution_count": 126,
   "metadata": {},
   "outputs": [
    {
     "data": {
      "text/plain": [
       "'/Users/pablo/Dropbox/workspace/darth_linguo/Data/euro_hundo/euro_hundo-pretrain'"
      ]
     },
     "execution_count": 126,
     "metadata": {},
     "output_type": "execute_result"
    }
   ],
   "source": [
    "corpus_fn"
   ]
  },
  {
   "cell_type": "code",
   "execution_count": 162,
   "metadata": {},
   "outputs": [
    {
     "data": {
      "text/plain": [
       "3"
      ]
     },
     "execution_count": 162,
     "metadata": {},
     "output_type": "execute_result"
    }
   ],
   "source": [
    "10//3"
   ]
  },
  {
   "cell_type": "code",
   "execution_count": 192,
   "metadata": {},
   "outputs": [
    {
     "data": {
      "text/plain": [
       "['para',\n",
       " 'mayor',\n",
       " 'claridad',\n",
       " 'les',\n",
       " 'recuerdo',\n",
       " 'que',\n",
       " 'la',\n",
       " 'seguridad',\n",
       " 'de',\n",
       " 'los',\n",
       " 'buques',\n",
       " 'o',\n",
       " 'por',\n",
       " 'la',\n",
       " 'noche',\n",
       " ',',\n",
       " 'porque',\n",
       " 'no',\n",
       " 'se',\n",
       " 'incrementa',\n",
       " 'activamente',\n",
       " 'el',\n",
       " 'uso',\n",
       " 'de',\n",
       " 'las',\n",
       " 'frecuencias',\n",
       " 'no',\n",
       " 'debe',\n",
       " '<unk>',\n",
       " ',',\n",
       " 'desde',\n",
       " 'el',\n",
       " 'nacimiento',\n",
       " '.',\n",
       " '<eos>']"
      ]
     },
     "execution_count": 192,
     "metadata": {},
     "output_type": "execute_result"
    }
   ],
   "source": [
    "all_WS[4][4]"
   ]
  },
  {
   "cell_type": "code",
   "execution_count": null,
   "metadata": {
    "collapsed": true
   },
   "outputs": [],
   "source": []
  }
 ],
 "metadata": {
  "kernelspec": {
   "display_name": "Python 3",
   "language": "python",
   "name": "python3"
  },
  "language_info": {
   "codemirror_mode": {
    "name": "ipython",
    "version": 3
   },
   "file_extension": ".py",
   "mimetype": "text/x-python",
   "name": "python",
   "nbconvert_exporter": "python",
   "pygments_lexer": "ipython3",
   "version": "3.6.6"
  }
 },
 "nbformat": 4,
 "nbformat_minor": 2
}
