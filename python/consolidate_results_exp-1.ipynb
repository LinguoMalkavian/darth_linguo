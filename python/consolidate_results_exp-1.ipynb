{
 "cells": [
  {
   "cell_type": "code",
   "execution_count": 1,
   "metadata": {},
   "outputs": [
    {
     "name": "stdin",
     "output_type": "stream",
     "text": [
      "Which experiment would you like to consolidate results for? exp-1.3\n"
     ]
    }
   ],
   "source": [
    "import os\n",
    "import csv\n",
    "import json\n",
    "from collections import defaultdict\n",
    "res_top = os.path.abspath(\"../results/\")\n",
    "\n",
    "consol_folder = os.path.join(res_top,\"consolidated\")\n",
    "if not os.path.isdir(consol_folder):\n",
    "    os.mkdir(consol_folder)\n",
    "    \n",
    "\n",
    "metrics = [\"best_validation_accuracy\",\n",
    "  \"best_validation_G_accuracy\",\n",
    "  \"best_validation_AA_accuracy\",\n",
    "  \"best_validation_RV_accuracy\",\n",
    "  \"best_validation_VA_accuracy\",\n",
    "   \"training_accuracy\",\n",
    "  \"training_G_accuracy\",\n",
    "  \"training_AA_accuracy\",\n",
    "  \"training_RV_accuracy\",\n",
    "  \"training_VA_accuracy\",\n",
    "    \"best_epoch\",]\n",
    "\n",
    "experiment = input(\"Which experiment would you like to consolidate results for?\")\n",
    "\n",
    "consolidated = {}\n",
    "\n",
    "column_set = set()\n",
    "\n",
    "for fullname in os.listdir(res_top):\n",
    "    parts = fullname.split('_')\n",
    "    exp_type = parts[0]\n",
    "    if exp_type == experiment:\n",
    "        row_condition = parts[1]\n",
    "        file_path = os.path.join(res_top, fullname, 'metrics.json')\n",
    "        consolidated[row_condition] = {}\n",
    "        with open(file_path,\"r\") as exp_file:\n",
    "            results = json.loads(exp_file.read())\n",
    "        for metric in metrics:\n",
    "            consolidated[row_condition][metric] = results[metric]\n",
    "\n",
    "fieldnames = list(column_set)\n",
    "fieldnames.sort()\n",
    "fieldnames.insert(0,\"archi\")\n",
    "    "
   ]
  },
  {
   "cell_type": "code",
   "execution_count": 2,
   "metadata": {},
   "outputs": [
    {
     "data": {
      "text/plain": [
       "{'64-512': {'best_validation_accuracy': 0.9365511979666968,\n",
       "  'best_validation_G_accuracy': 0.9443866428854538,\n",
       "  'best_validation_AA_accuracy': 0.934297263681592,\n",
       "  'best_validation_RV_accuracy': 0.9464518937744885,\n",
       "  'best_validation_VA_accuracy': 0.8993935624319701,\n",
       "  'training_accuracy': 0.9883316271957187,\n",
       "  'training_G_accuracy': 0.9906712797625191,\n",
       "  'training_AA_accuracy': 0.9902999401518743,\n",
       "  'training_RV_accuracy': 0.9860480661609252,\n",
       "  'training_VA_accuracy': 0.9798373933185133,\n",
       "  'best_epoch': 2},\n",
       " '512-512': {'best_validation_accuracy': 0.9331914678481641,\n",
       "  'best_validation_G_accuracy': 0.9365916897872902,\n",
       "  'best_validation_AA_accuracy': 0.9364116915422885,\n",
       "  'best_validation_RV_accuracy': 0.9503700478885503,\n",
       "  'best_validation_VA_accuracy': 0.8999844503187685,\n",
       "  'training_accuracy': 0.982668629012152,\n",
       "  'training_G_accuracy': 0.9863795317267319,\n",
       "  'training_AA_accuracy': 0.9859240317428241,\n",
       "  'training_RV_accuracy': 0.9796667081208805,\n",
       "  'training_VA_accuracy': 0.9684424891569636,\n",
       "  'best_epoch': 2},\n",
       " '256-512': {'best_validation_accuracy': 0.9384401843944902,\n",
       "  'best_validation_G_accuracy': 0.9456913066455278,\n",
       "  'best_validation_AA_accuracy': 0.9376243781094528,\n",
       "  'best_validation_RV_accuracy': 0.9491572859008645,\n",
       "  'best_validation_VA_accuracy': 0.9012284248172913,\n",
       "  'training_accuracy': 0.9870333541286807,\n",
       "  'training_G_accuracy': 0.9899508275910474,\n",
       "  'training_AA_accuracy': 0.9894294219603759,\n",
       "  'training_RV_accuracy': 0.9837240392985948,\n",
       "  'training_VA_accuracy': 0.976961462527399,\n",
       "  'best_epoch': 2},\n",
       " '128-512': {'best_validation_accuracy': 0.9391295954995244,\n",
       "  'best_validation_G_accuracy': 0.950183313515656,\n",
       "  'best_validation_AA_accuracy': 0.9337064676616915,\n",
       "  'best_validation_RV_accuracy': 0.9482554885254058,\n",
       "  'best_validation_VA_accuracy': 0.8937956771886176,\n",
       "  'training_accuracy': 0.9888520853367525,\n",
       "  'training_G_accuracy': 0.9908900990466911,\n",
       "  'training_AA_accuracy': 0.9911160509564041,\n",
       "  'training_RV_accuracy': 0.9861802014674792,\n",
       "  'training_VA_accuracy': 0.9815862701509475,\n",
       "  'best_epoch': 2},\n",
       " '32-512': {'best_validation_accuracy': 0.9341658355432789,\n",
       "  'best_validation_G_accuracy': 0.9529247588849253,\n",
       "  'best_validation_AA_accuracy': 0.9217350746268657,\n",
       "  'best_validation_RV_accuracy': 0.9341376951302942,\n",
       "  'best_validation_VA_accuracy': 0.8759757424972788,\n",
       "  'training_accuracy': 0.9877881907703125,\n",
       "  'training_G_accuracy': 0.989975599585482,\n",
       "  'training_AA_accuracy': 0.9902299877972004,\n",
       "  'training_RV_accuracy': 0.9859081581892799,\n",
       "  'training_VA_accuracy': 0.9789901596530228,\n",
       "  'best_epoch': 3},\n",
       " '16-512': {'best_validation_accuracy': 0.9326996879265731,\n",
       "  'best_validation_G_accuracy': 0.9406956004756243,\n",
       "  'best_validation_AA_accuracy': 0.9432213930348259,\n",
       "  'best_validation_RV_accuracy': 0.9281049816530879,\n",
       "  'best_validation_VA_accuracy': 0.8966568185352201,\n",
       "  'training_accuracy': 0.9868564213390135,\n",
       "  'training_G_accuracy': 0.9894471303708781,\n",
       "  'training_AA_accuracy': 0.9886677185428148,\n",
       "  'training_RV_accuracy': 0.9848433030717573,\n",
       "  'training_VA_accuracy': 0.977303465107964,\n",
       "  'best_epoch': 4}}"
      ]
     },
     "execution_count": 2,
     "metadata": {},
     "output_type": "execute_result"
    }
   ],
   "source": [
    "consolidated"
   ]
  },
  {
   "cell_type": "code",
   "execution_count": 3,
   "metadata": {},
   "outputs": [
    {
     "name": "stdout",
     "output_type": "stream",
     "text": [
      "Results from 6 conditions of experiment exp-1.3 where consolidated in /home/lab/Pablo/darth_linguo/results/consolidated/exp-1.3.csv\n"
     ]
    }
   ],
   "source": [
    "\n",
    "consol_fn = os.path.join(consol_folder, experiment + \".csv\")\n",
    "fieldnames = ['Condition'] + metrics[:]\n",
    "with open(consol_fn,\"w\") as consol_file:\n",
    "    writer = csv.DictWriter(consol_file, fieldnames)\n",
    "    writer.writeheader()\n",
    "    for rowname in consolidated:\n",
    "        row = consolidated[rowname]\n",
    "        row['Condition'] = rowname\n",
    "        writer.writerow(row)\n",
    "    message = \"Results from {} conditions of experiment {} where consolidated in {}\"\n",
    "    message = message.format(len(consolidated), experiment, consol_fn)\n",
    "    print(message)"
   ]
  },
  {
   "cell_type": "code",
   "execution_count": 5,
   "metadata": {},
   "outputs": [
    {
     "data": {
      "text/plain": [
       "{'best_validation_accuracy': defaultdict(dict, {}),\n",
       " 'best_epoch': defaultdict(dict, {}),\n",
       " 'training_accuracy': defaultdict(dict, {})}"
      ]
     },
     "execution_count": 5,
     "metadata": {},
     "output_type": "execute_result"
    }
   ],
   "source": [
    "consolidated"
   ]
  },
  {
   "cell_type": "code",
   "execution_count": 14,
   "metadata": {},
   "outputs": [],
   "source": [
    "li = [3,2,1]"
   ]
  },
  {
   "cell_type": "code",
   "execution_count": 20,
   "metadata": {},
   "outputs": [
    {
     "data": {
      "text/plain": [
       "[1, 2, 3]"
      ]
     },
     "execution_count": 20,
     "metadata": {},
     "output_type": "execute_result"
    }
   ],
   "source": [
    "sorted(li)"
   ]
  },
  {
   "cell_type": "code",
   "execution_count": 7,
   "metadata": {},
   "outputs": [],
   "source": [
    "# generate a list of all experiments\n",
    "import os\n",
    "\n",
    "res_top = os.path.abspath(\"../results/\")\n",
    "exp_list = []\n",
    "for fullname in os.listdir(res_top):\n",
    "    if fullname.startswith(\"exp-\"):\n",
    "        exp_list.append(fullname)\n",
    "        \n",
    "bash_arr = \"(\" + \" \".join(exp_list) + \")\"\n"
   ]
  },
  {
   "cell_type": "code",
   "execution_count": 8,
   "metadata": {},
   "outputs": [
    {
     "data": {
      "text/plain": [
       "'(exp-1.2_pretrained-cont exp-1_quarter-WS_350-1000_lab exp-1.3_64-512 exp-1.3_512-512 exp-1_all-WS_350-1000_lab exp-2.1_3uni-3-layer exp-1.1_256-256 exp-1.1_512-1024 exp-2.1_6bi-3-layer exp-1.3_256-512 exp-2.1_4bi-1-layer exp-2.1_2uni-2-layer exp-1.1_512-512 exp-1.1_128-128 exp-1.1_32-32 exp-2.1_1uni-1-layer exp-1_half-WS_350-1000_lab exp-2.1_5bi-2-layer exp-1.2_pretrained-freeze exp-1.1_64-64 exp-1.3_128-512 exp-1.2_random exp-1_no-WS_350-1000_lab exp-1.3_32-512 exp-1.3_16-512)'"
      ]
     },
     "execution_count": 8,
     "metadata": {},
     "output_type": "execute_result"
    }
   ],
   "source": [
    "bash_arr"
   ]
  },
  {
   "cell_type": "code",
   "execution_count": null,
   "metadata": {},
   "outputs": [],
   "source": []
  }
 ],
 "metadata": {
  "kernelspec": {
   "display_name": "Python (allennlp)",
   "language": "python",
   "name": "allenlp"
  },
  "language_info": {
   "codemirror_mode": {
    "name": "ipython",
    "version": 3
   },
   "file_extension": ".py",
   "mimetype": "text/x-python",
   "name": "python",
   "nbconvert_exporter": "python",
   "pygments_lexer": "ipython3",
   "version": "3.6.8"
  }
 },
 "nbformat": 4,
 "nbformat_minor": 2
}
