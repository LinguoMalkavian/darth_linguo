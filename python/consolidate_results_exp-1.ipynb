{
 "cells": [
  {
   "cell_type": "code",
   "execution_count": 44,
   "metadata": {},
   "outputs": [
    {
     "name": "stdin",
     "output_type": "stream",
     "text": [
      "Which experiment would you like to consolidate results for? exp-1.2\n"
     ]
    }
   ],
   "source": [
    "import os\n",
    "import csv\n",
    "import json\n",
    "from collections import defaultdict\n",
    "res_top = os.path.abspath(\"../results/\")\n",
    "\n",
    "consol_folder = os.path.join(res_top,\"consolidated\")\n",
    "if not os.path.isdir(consol_folder):\n",
    "    os.mkdir(consol_folder)\n",
    "    \n",
    "\n",
    "metrics = [\"best_validation_accuracy\",\n",
    "  \"best_validation_G_accuracy\",\n",
    "  \"best_validation_AA_accuracy\",\n",
    "  \"best_validation_RV_accuracy\",\n",
    "  \"best_validation_VA_accuracy\",\n",
    "   \"training_accuracy\",\n",
    "  \"training_G_accuracy\",\n",
    "  \"training_AA_accuracy\",\n",
    "  \"training_RV_accuracy\",\n",
    "  \"training_VA_accuracy\",\n",
    "    \"best_epoch\",]\n",
    "\n",
    "experiment = input(\"Which experiment would you like to consolidate results for?\")\n",
    "\n",
    "consolidated = {}\n",
    "\n",
    "column_set = set()\n",
    "\n",
    "for fullname in os.listdir(res_top):\n",
    "    parts = fullname.split('_')\n",
    "    exp_type = parts[0]\n",
    "    if exp_type == experiment:\n",
    "        row_condition = parts[1]\n",
    "        file_path = os.path.join(res_top, fullname, 'metrics.json')\n",
    "        consolidated[row_condition] = {}\n",
    "        with open(file_path,\"r\") as exp_file:\n",
    "            results = json.loads(exp_file.read())\n",
    "        for metric in metrics:\n",
    "            consolidated[row_condition][metric] = results[metric]\n",
    "\n",
    "fieldnames = list(column_set)\n",
    "fieldnames.sort()\n",
    "fieldnames.insert(0,\"archi\")\n",
    "    "
   ]
  },
  {
   "cell_type": "code",
   "execution_count": 45,
   "metadata": {},
   "outputs": [
    {
     "data": {
      "text/plain": [
       "{'pretrained-cont': {'best_validation_accuracy': 0.9477058696461482,\n",
       "  'best_validation_G_accuracy': 0.9572020742502312,\n",
       "  'best_validation_AA_accuracy': 0.948476368159204,\n",
       "  'best_validation_RV_accuracy': 0.9496548292804279,\n",
       "  'best_validation_VA_accuracy': 0.9092209609703001,\n",
       "  'training_accuracy': 0.9901859747445676,\n",
       "  'training_G_accuracy': 0.9920543827851154,\n",
       "  'training_AA_accuracy': 0.9924373732113572,\n",
       "  'training_RV_accuracy': 0.9873538738962816,\n",
       "  'training_VA_accuracy': 0.9837315590654002,\n",
       "  'best_epoch': 2},\n",
       " 'pretrained-freeze': {'best_validation_accuracy': 0.9580975930360286,\n",
       "  'best_validation_G_accuracy': 0.969967961421588,\n",
       "  'best_validation_AA_accuracy': 0.9589863184079602,\n",
       "  'best_validation_RV_accuracy': 0.9555942533739661,\n",
       "  'best_validation_VA_accuracy': 0.9150054423884311,\n",
       "  'training_accuracy': 0.9854007470240249,\n",
       "  'training_G_accuracy': 0.988381934610192,\n",
       "  'training_AA_accuracy': 0.9880692372861596,\n",
       "  'training_RV_accuracy': 0.9832654520582017,\n",
       "  'training_VA_accuracy': 0.9736424829387349,\n",
       "  'best_epoch': 3},\n",
       " 'random': {'best_validation_accuracy': 0.9362754335246832,\n",
       "  'best_validation_G_accuracy': 0.9442627824019025,\n",
       "  'best_validation_AA_accuracy': 0.931405472636816,\n",
       "  'best_validation_RV_accuracy': 0.9493438646682008,\n",
       "  'best_validation_VA_accuracy': 0.897994091121132,\n",
       "  'training_accuracy': 0.9852318566338881,\n",
       "  'training_G_accuracy': 0.9882023376505414,\n",
       "  'training_AA_accuracy': 0.9879759674799276,\n",
       "  'training_RV_accuracy': 0.9821539609501306,\n",
       "  'training_VA_accuracy': 0.9743808976013183,\n",
       "  'best_epoch': 2}}"
      ]
     },
     "execution_count": 45,
     "metadata": {},
     "output_type": "execute_result"
    }
   ],
   "source": [
    "consolidated"
   ]
  },
  {
   "cell_type": "code",
   "execution_count": 46,
   "metadata": {},
   "outputs": [
    {
     "name": "stdout",
     "output_type": "stream",
     "text": [
      "Results from 3 conditions of experiment exp-1.2 where consolidated in /home/lab/Pablo/darth_linguo/results/consolidated/exp-1.2.csv\n"
     ]
    }
   ],
   "source": [
    "\n",
    "consol_fn = os.path.join(consol_folder, experiment + \".csv\")\n",
    "fieldnames = ['Condition'] + metrics[:]\n",
    "with open(consol_fn,\"w\") as consol_file:\n",
    "    writer = csv.DictWriter(consol_file, fieldnames)\n",
    "    writer.writeheader()\n",
    "    for rowname in consolidated:\n",
    "        row = consolidated[rowname]\n",
    "        row['Condition'] = rowname\n",
    "        writer.writerow(row)\n",
    "    message = \"Results from {} conditions of experiment {} where consolidated in {}\"\n",
    "    message = message.format(len(consolidated), experiment, consol_fn)\n",
    "    print(message)"
   ]
  },
  {
   "cell_type": "code",
   "execution_count": 5,
   "metadata": {},
   "outputs": [
    {
     "data": {
      "text/plain": [
       "{'best_validation_accuracy': defaultdict(dict, {}),\n",
       " 'best_epoch': defaultdict(dict, {}),\n",
       " 'training_accuracy': defaultdict(dict, {})}"
      ]
     },
     "execution_count": 5,
     "metadata": {},
     "output_type": "execute_result"
    }
   ],
   "source": [
    "consolidated"
   ]
  },
  {
   "cell_type": "code",
   "execution_count": 14,
   "metadata": {},
   "outputs": [],
   "source": [
    "li = [3,2,1]"
   ]
  },
  {
   "cell_type": "code",
   "execution_count": 20,
   "metadata": {},
   "outputs": [
    {
     "data": {
      "text/plain": [
       "[1, 2, 3]"
      ]
     },
     "execution_count": 20,
     "metadata": {},
     "output_type": "execute_result"
    }
   ],
   "source": [
    "sorted(li)"
   ]
  },
  {
   "cell_type": "code",
   "execution_count": 16,
   "metadata": {},
   "outputs": [
    {
     "data": {
      "text/plain": [
       "[1, 2, 3]"
      ]
     },
     "execution_count": 16,
     "metadata": {},
     "output_type": "execute_result"
    }
   ],
   "source": [
    "li\n"
   ]
  },
  {
   "cell_type": "code",
   "execution_count": null,
   "metadata": {},
   "outputs": [],
   "source": []
  }
 ],
 "metadata": {
  "kernelspec": {
   "display_name": "Python (allennlp)",
   "language": "python",
   "name": "allenlp"
  },
  "language_info": {
   "codemirror_mode": {
    "name": "ipython",
    "version": 3
   },
   "file_extension": ".py",
   "mimetype": "text/x-python",
   "name": "python",
   "nbconvert_exporter": "python",
   "pygments_lexer": "ipython3",
   "version": "3.6.8"
  }
 },
 "nbformat": 4,
 "nbformat_minor": 2
}
