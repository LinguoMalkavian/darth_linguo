{
 "cells": [
  {
   "cell_type": "code",
   "execution_count": 2,
   "metadata": {},
   "outputs": [],
   "source": [
    "import generateWS\n"
   ]
  },
  {
   "cell_type": "code",
   "execution_count": 3,
   "metadata": {},
   "outputs": [],
   "source": [
    "small_corpus = [[\"I\", \"am\", \"Sam\", \".\", \"<eos>\"],\n",
    "                    [\"Sam\", \"I\", \"am\", \".\", \"<eos>\"]]\n",
    "bi_freqs = generateWS.extract_ngram_freq(small_corpus, 2)\n",
    "tri_freqs = generateWS.extract_ngram_freq(small_corpus, 3)"
   ]
  },
  {
   "cell_type": "code",
   "execution_count": 4,
   "metadata": {},
   "outputs": [
    {
     "data": {
      "text/plain": [
       "defaultdict(<function generateWS.extract_ngram_freq.<locals>.<lambda>()>,\n",
       "            {'#': defaultdict(int, {'I': 1, 'Sam': 1}),\n",
       "             'I': defaultdict(int, {'am': 2}),\n",
       "             'am': defaultdict(int, {'Sam': 1, '.': 1}),\n",
       "             'Sam': defaultdict(int, {'.': 1, 'I': 1}),\n",
       "             '.': defaultdict(int, {'<eos>': 2})})"
      ]
     },
     "execution_count": 4,
     "metadata": {},
     "output_type": "execute_result"
    }
   ],
   "source": [
    "bi_freqs"
   ]
  },
  {
   "cell_type": "code",
   "execution_count": 5,
   "metadata": {},
   "outputs": [
    {
     "data": {
      "text/plain": [
       "defaultdict(<function generateWS.extract_ngram_freq.<locals>.<lambda>()>,\n",
       "            {'# #': defaultdict(int, {'I': 1, 'Sam': 1}),\n",
       "             '# I': defaultdict(int, {'am': 1}),\n",
       "             'I am': defaultdict(int, {'Sam': 1, '.': 1}),\n",
       "             'am Sam': defaultdict(int, {'.': 1}),\n",
       "             'Sam .': defaultdict(int, {'<eos>': 1}),\n",
       "             '# Sam': defaultdict(int, {'I': 1}),\n",
       "             'Sam I': defaultdict(int, {'am': 1}),\n",
       "             'am .': defaultdict(int, {'<eos>': 1})})"
      ]
     },
     "execution_count": 5,
     "metadata": {},
     "output_type": "execute_result"
    }
   ],
   "source": [
    "tri_freqs"
   ]
  },
  {
   "cell_type": "code",
   "execution_count": 6,
   "metadata": {},
   "outputs": [],
   "source": [
    "import argparse"
   ]
  },
  {
   "cell_type": "code",
   "execution_count": 7,
   "metadata": {},
   "outputs": [],
   "source": [
    "parser = argparse.ArgumentParser(description=\"testing\")"
   ]
  },
  {
   "cell_type": "code",
   "execution_count": null,
   "metadata": {},
   "outputs": [],
   "source": [
    "parser.add_argument(\"--orders\",)"
   ]
  }
 ],
 "metadata": {
  "kernelspec": {
   "display_name": "Python [conda env:allen36]",
   "language": "python",
   "name": "conda-env-allen36-py"
  },
  "language_info": {
   "codemirror_mode": {
    "name": "ipython",
    "version": 3
   },
   "file_extension": ".py",
   "mimetype": "text/x-python",
   "name": "python",
   "nbconvert_exporter": "python",
   "pygments_lexer": "ipython3",
   "version": "3.6.7"
  }
 },
 "nbformat": 4,
 "nbformat_minor": 2
}
