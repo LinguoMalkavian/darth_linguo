{
 "cells": [
  {
   "cell_type": "code",
   "execution_count": 15,
   "metadata": {},
   "outputs": [],
   "source": [
    "import math\n",
    "import random\n",
    "from corpus_tools import getDataPath, load_raw_grammatical_corpus, splitCorpus, saveCorpora \n",
    "\n",
    "\n"
   ]
  },
  {
   "cell_type": "code",
   "execution_count": 17,
   "metadata": {},
   "outputs": [
    {
     "name": "stdout",
     "output_type": "stream",
     "text": [
      "Full corpus has 10 sentences,\n",
      "    \t 8 were dumped,\n",
      "    among which 2 interogatives or exclamatives.\n",
      "    1 sentences had more than 45 tokens\n",
      "    2 had fewer than 7\n",
      "2 sentences of LM1 saved to /Users/pablo/Dropbox/workspace/darth_linguo/Data/test/test-base-LM1\n",
      "2 sentences of LM2 saved to /Users/pablo/Dropbox/workspace/darth_linguo/Data/test/test-base-LM2\n",
      "4 sentences of GT saved to /Users/pablo/Dropbox/workspace/darth_linguo/Data/test/test-base-GT\n",
      "1 sentences of GV saved to /Users/pablo/Dropbox/workspace/darth_linguo/Data/test/test-base-GV\n"
     ]
    }
   ],
   "source": [
    "\n",
    "corpusName = \"test\"\n",
    "dataPath = getDataPath(corpusName)\n",
    "\n",
    "rawDataPath = dataPath +\"-base\"\n",
    "\n",
    "tokenized_sentences = load_raw_grammatical_corpus(rawDataPath)\n",
    "\n",
    "LM1proportion = 0.25\n",
    "LM2proportion = 0.25\n",
    "GTproportion = 0.4\n",
    "GVproportion = 0.1\n",
    "\n",
    "splits = {\"LM1\":LM1proportion,\"LM2\":LM2proportion,\"GT\":GTproportion,\"GV\":GVproportion}\n",
    "corpora = splitCorpus(tokenized_sentences,splits)\n",
    "saveCorpora(rawDataPath,corpora)"
   ]
  },
  {
   "cell_type": "code",
   "execution_count": 4,
   "metadata": {
    "collapsed": true
   },
   "outputs": [],
   "source": []
  },
  {
   "cell_type": "code",
   "execution_count": 5,
   "metadata": {
    "collapsed": true
   },
   "outputs": [],
   "source": [
    "example.writelines(lines)\n",
    "example.close()"
   ]
  },
  {
   "cell_type": "code",
   "execution_count": null,
   "metadata": {
    "collapsed": true
   },
   "outputs": [],
   "source": []
  }
 ],
 "metadata": {
  "kernelspec": {
   "display_name": "Python 3",
   "language": "python",
   "name": "python3"
  },
  "language_info": {
   "codemirror_mode": {
    "name": "ipython",
    "version": 3
   },
   "file_extension": ".py",
   "mimetype": "text/x-python",
   "name": "python",
   "nbconvert_exporter": "python",
   "pygments_lexer": "ipython3",
   "version": "3.6.7"
  }
 },
 "nbformat": 4,
 "nbformat_minor": 2
}
