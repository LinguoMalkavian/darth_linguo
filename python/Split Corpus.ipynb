{
 "cells": [
  {
   "cell_type": "code",
   "execution_count": 1,
   "metadata": {},
   "outputs": [],
   "source": [
    "import math\n",
    "import random\n",
    "from corpus_tools import getDataPath, load_raw_grammatical_corpus, splitCorpus, saveCorpora \n",
    "\n",
    "\n"
   ]
  },
  {
   "cell_type": "code",
   "execution_count": 3,
   "metadata": {},
   "outputs": [
    {
     "name": "stderr",
     "output_type": "stream",
     "text": [
      "100%|██████████| 500/500 [00:00<00:00, 4103.13it/s]\n",
      "100%|██████████| 4/4 [00:00<00:00, 13117.45it/s]"
     ]
    },
    {
     "name": "stdout",
     "output_type": "stream",
     "text": [
      "Reading and tokenizing raw sentences\n",
      "Full corpus has 354 sentences,\n",
      "    \t 146 were dumped,\n",
      "    among which 13 interogatives or exclamatives.\n",
      "    111 sentences had more than 45 tokens\n",
      "    10 had fewer than 7\n",
      "Splitting corpus\n",
      "88 LM1 sentences saved to /Users/pablo/Dropbox/workspace/darth_linguo/Data/toy_ws/toy_ws-LM1\n",
      "88 LM2 sentences saved to /Users/pablo/Dropbox/workspace/darth_linguo/Data/toy_ws/toy_ws-LM2\n",
      "141 GT sentences saved to /Users/pablo/Dropbox/workspace/darth_linguo/Data/toy_ws/toy_ws-GT\n",
      "35 GV sentences saved to /Users/pablo/Dropbox/workspace/darth_linguo/Data/toy_ws/toy_ws-GV\n"
     ]
    },
    {
     "name": "stderr",
     "output_type": "stream",
     "text": [
      "\n"
     ]
    }
   ],
   "source": [
    "# Use this spliting for WS experiments\n",
    "\n",
    "corpusName = \"toy_ws\"\n",
    "dataPath = getDataPath(corpusName)\n",
    "\n",
    "rawDataPath = dataPath +\"-base\"\n",
    "\n",
    "tokenized_sentences = load_raw_grammatical_corpus(rawDataPath)\n",
    "\n",
    "LM1proportion = 0.25\n",
    "LM2proportion = 0.25\n",
    "GTproportion = 0.4\n",
    "GVproportion = 0.1\n",
    "\n",
    "splits = {\"LM1\":LM1proportion,\"LM2\":LM2proportion,\"GT\":GTproportion,\"GV\":GVproportion}\n",
    "corpora = splitCorpus(tokenized_sentences,splits)\n",
    "saveCorpora(dataPath,corpora)"
   ]
  },
  {
   "cell_type": "code",
   "execution_count": 4,
   "metadata": {},
   "outputs": [],
   "source": [
    "import corpus_tools"
   ]
  },
  {
   "cell_type": "code",
   "execution_count": 6,
   "metadata": {},
   "outputs": [],
   "source": [
    "gram_train_fn = \"/Users/pablo/Dropbox/workspace/darth_linguo/Data/toy_ws/toy_ws-GT\"\n",
    "gram_val_fn = \"/Users/pablo/Dropbox/workspace/darth_linguo/Data/toy_ws/toy_ws-GV\"\n",
    "\n",
    "gram_train_dest = \"/Users/pablo/Dropbox/workspace/darth_linguo/Data/toy_ws/toy_ws-GT-labeled\"\n",
    "gram_val_dest = \"/Users/pablo/Dropbox/workspace/darth_linguo/Data/toy_ws/toy_ws-GV-labeled\"\n",
    "\n",
    "corpus_tools.labelCorpus(gram_train_fn,gram_train_dest, 1)\n",
    "corpus_tools.labelCorpus(gram_val_fn,gram_val_dest, 1)\n"
   ]
  },
  {
   "cell_type": "code",
   "execution_count": null,
   "metadata": {},
   "outputs": [],
   "source": []
  }
 ],
 "metadata": {
  "kernelspec": {
   "display_name": "Python 3",
   "language": "python",
   "name": "python3"
  },
  "language_info": {
   "codemirror_mode": {
    "name": "ipython",
    "version": 3
   },
   "file_extension": ".py",
   "mimetype": "text/x-python",
   "name": "python",
   "nbconvert_exporter": "python",
   "pygments_lexer": "ipython3",
   "version": "3.6.6"
  }
 },
 "nbformat": 4,
 "nbformat_minor": 2
}
