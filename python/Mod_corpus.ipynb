{
 "cells": [
  {
   "cell_type": "code",
   "execution_count": 9,
   "metadata": {},
   "outputs": [],
   "source": [
    "import os\n",
    "\n",
    "dataPath= os.getcwd() + \"/../data/toy_corpus/\"\n",
    "\n",
    "ws_train_path = dataPath + \"euro_mini-mix-gramWS-train\"\n",
    "g_train_path = dataPath + \"euro_mini-grammatical-train\"\n",
    "\n",
    "corpus_path = dataPath + \"toy_training-GvsWS\"\n",
    "with open(corpus_path,\"w\") as corpus_file:\n",
    "    with open(ws_train_path, \"r\") as ws_file:\n",
    "        for line in ws_file.readlines():\n",
    "            resp = \"0 WS \"+ line\n",
    "            corpus_file.write(resp)\n",
    "    with open(g_train_path, \"r\") as g_file:\n",
    "        for line in g_file.readlines():\n",
    "            resp = \"1 G \"+ line\n",
    "            corpus_file.write(resp)\n",
    "\n",
    "\n",
    "ws_test_path = dataPath + \"euro_mini-mix-gramWS-test\"\n",
    "g_test_path = dataPath + \"euro_mini-grammatical-test\"\n",
    "\n",
    "test_corpus_path = dataPath + \"toy_testing-GvsWS\"\n",
    "\n",
    "with open(test_corpus_path,\"w\") as corpus_file:\n",
    "    with open(ws_test_path, \"r\") as ws_file:\n",
    "        for line in ws_file.readlines():\n",
    "            resp = \"0 WS \"+ line\n",
    "            corpus_file.write(resp)\n",
    "    with open(g_test_path, \"r\") as g_file:\n",
    "        for line in g_file.readlines():\n",
    "            resp = \"1 G \"+ line\n",
    "            corpus_file.write(resp)\n",
    "\n",
    "    \n"
   ]
  },
  {
   "cell_type": "code",
   "execution_count": null,
   "metadata": {},
   "outputs": [],
   "source": []
  }
 ],
 "metadata": {
  "kernelspec": {
   "display_name": "Python 3",
   "language": "python",
   "name": "python3"
  },
  "language_info": {
   "codemirror_mode": {
    "name": "ipython",
    "version": 3
   },
   "file_extension": ".py",
   "mimetype": "text/x-python",
   "name": "python",
   "nbconvert_exporter": "python",
   "pygments_lexer": "ipython3",
   "version": "3.6.7"
  }
 },
 "nbformat": 4,
 "nbformat_minor": 2
}
