{
 "cells": [
  {
   "cell_type": "code",
   "execution_count": 4,
   "metadata": {},
   "outputs": [
    {
     "name": "stdout",
     "output_type": "stream",
     "text": [
      "exp-1.2_pretrained-cont_AA\n",
      "exp-2.1_2uni-2-layer_VA\n",
      "exp-1.2_pretrained-cont_VA\n",
      "exp-1.1_512-1024_VA\n",
      "exp-1.1_128-128_VA\n",
      "exp-2.1_6bi-3-layer_AA\n",
      "exp-1.2_pretrained-freeze_VA\n",
      "exp-1.2_random_AA\n",
      "exp-1.1_512-1024_AA\n",
      "exp-2.1_2uni-2-layer_RV\n",
      "exp-2.1_1uni-1-layer_RV\n",
      "exp-2.1_5bi-2-layer_RV\n",
      "exp-1.1_128-128_RV\n",
      "exp-1.1_512-512_RV\n",
      "exp-2.1_6bi-3-layer_RV\n",
      "exp-1.2_random_VA\n",
      "exp-1.1_64-64_VA\n",
      "exp-1.1_256-256_VA\n",
      "exp-1.1_64-64_AA\n",
      "exp-2.1_1uni-1-layer_VA\n",
      "exp-2.1_1uni-1-layer_AA\n",
      "exp-1.2_pretrained-cont_RV\n",
      "exp-1.1_64-64_RV\n",
      "exp-2.1_3uni-3-layer_RV\n",
      "exp-1.1_256-256_RV\n",
      "exp-2.1_3uni-3-layer_VA\n",
      "exp-2.1_5bi-2-layer_AA\n",
      "exp-1.2_pretrained-freeze_AA\n",
      "exp-2.1_3uni-3-layer_AA\n",
      "exp-1.1_512-512_AA\n",
      "exp-2.1_4bi-1-layer_RV\n",
      "exp-2.1_4bi-1-layer_AA\n",
      "exp-1.1_32-32_VA\n",
      "exp-2.1_4bi-1-layer_VA\n",
      "exp-2.1_6bi-3-layer_VA\n",
      "exp-1.1_256-256_AA\n",
      "exp-1.1_32-32_AA\n",
      "exp-1.1_128-128_AA\n",
      "exp-2.1_2uni-2-layer_AA\n",
      "exp-1.2_random_RV\n",
      "exp-1.1_512-512_VA\n",
      "exp-2.1_5bi-2-layer_VA\n",
      "exp-1.2_pretrained-freeze_RV\n",
      "exp-1.1_32-32_RV\n",
      "exp-1.1_512-1024_RV\n"
     ]
    }
   ],
   "source": [
    "import os\n",
    "import csv\n",
    "import json\n",
    "from collections import defaultdict\n",
    "res_top = os.path.abspath(\"../results/\")\n",
    "pairtest_res = os.path.abspath(\"../results/pairtest/\")\n",
    "\n",
    "consol_folder = os.path.join(res_top,\"consolidated\")\n",
    "if not os.path.isdir(consol_folder):\n",
    "    os.mkdir(consol_folder)\n",
    "    \n",
    "\n",
    "metrics = [\"best_validation_accuracy\", \"best_epoch\", \"training_accuracy\"]\n",
    "experiment = \"exp-1\"\n",
    "\n",
    "consolidated = {}\n",
    "for metric in metrics:\n",
    "    consolidated[metric] = defaultdict(dict)\n",
    "\n",
    "results = {}\n",
    "column_set = set()\n",
    "\n",
    "for fullname in os.listdir(pairtest_res):\n",
    "    file_path = os.path.join(pairtest_res, fullname)\n",
    "    if fullname.startswith(\"exp\") and os.path.isfile(file_path):\n",
    "        print(fullname)\n",
    "        parts = fullname.split('_')\n",
    "        pref = parts[0][:3]\n",
    "        model = parts[1]\n",
    "        noise_type= parts[2]\n",
    "        column1 = \"{}_accuracy\".format(noise_type)\n",
    "        column2 = \"{}vsG_accuracy\".format(noise_type)\n",
    "        if model not in results:\n",
    "            results[model] = {}\n",
    "            results[model][\"Model\"] = model\n",
    "        with open(file_path,\"r\") as exp_file:\n",
    "            res = json.loads(exp_file.read())\n",
    "        G_accuracy = res[\"G_accuracy\"]\n",
    "        noise_accuracy = res[column1]\n",
    "        results[model][column1] = \"{:.5}\".format(noise_accuracy)\n",
    "        results[model][column2] = \"{:.5}\".format(G_accuracy)\n",
    "\n",
    "fieldnames = list(results[model].keys())\n",
    "\n",
    "consol_fn = os.path.join(consol_folder, \"pairtest_results.csv\")\n",
    "    \n",
    "with open(consol_fn,\"w\") as consol_file:\n",
    "    writer = csv.DictWriter(consol_file, fieldnames)\n",
    "    writer.writeheader()\n",
    "    for rowname in results:\n",
    "        writer.writerow(results[rowname])\n",
    "    \n",
    " "
   ]
  },
  {
   "cell_type": "code",
   "execution_count": 13,
   "metadata": {},
   "outputs": [
    {
     "data": {
      "text/plain": [
       "{'best_validation_accuracy': defaultdict(dict,\n",
       "             {'350-1000': {'quarter-WS': 0.9237235553390294,\n",
       "               'all-WS': 0.8353456477476939,\n",
       "               'half-WS': 0.9169994990279303,\n",
       "               'no-WS': 0.9355630420494814}}),\n",
       " 'best_epoch': defaultdict(dict,\n",
       "             {'350-1000': {'quarter-WS': 3,\n",
       "               'all-WS': 3,\n",
       "               'half-WS': 3,\n",
       "               'no-WS': 2}}),\n",
       " 'training_accuracy': defaultdict(dict,\n",
       "             {'350-1000': {'quarter-WS': 0.9709928473052405,\n",
       "               'all-WS': 0.8889985653971753,\n",
       "               'half-WS': 0.9572759738766274,\n",
       "               'no-WS': 0.9836716311250053}})}"
      ]
     },
     "execution_count": 13,
     "metadata": {},
     "output_type": "execute_result"
    }
   ],
   "source": [
    "consolidated"
   ]
  },
  {
   "cell_type": "code",
   "execution_count": 7,
   "metadata": {},
   "outputs": [],
   "source": [
    "for metric in consolidated:\n",
    "    consol_fn = os.path.join(consol_folder, experiment + metric + \".csv\")\n",
    "    with open(consol_fn,\"w\") as consol_file:\n",
    "        writer = csv.DictWriter(consol_file, fieldnames)\n",
    "        writer.writeheader()\n",
    "        for rowname in sorted(list(consolidated[metric].keys())):\n",
    "            row = consolidated[metric][rowname]\n",
    "            row[\"archi\"] = rowname\n",
    "            writer.writerow(row)\n",
    "    "
   ]
  },
  {
   "cell_type": "code",
   "execution_count": 5,
   "metadata": {},
   "outputs": [
    {
     "data": {
      "text/plain": [
       "{'best_validation_accuracy': defaultdict(dict, {}),\n",
       " 'best_epoch': defaultdict(dict, {}),\n",
       " 'training_accuracy': defaultdict(dict, {})}"
      ]
     },
     "execution_count": 5,
     "metadata": {},
     "output_type": "execute_result"
    }
   ],
   "source": [
    "consolidated"
   ]
  },
  {
   "cell_type": "code",
   "execution_count": 14,
   "metadata": {},
   "outputs": [],
   "source": [
    "li = [3,2,1]"
   ]
  },
  {
   "cell_type": "code",
   "execution_count": 20,
   "metadata": {},
   "outputs": [
    {
     "data": {
      "text/plain": [
       "[1, 2, 3]"
      ]
     },
     "execution_count": 20,
     "metadata": {},
     "output_type": "execute_result"
    }
   ],
   "source": [
    "sorted(li)"
   ]
  },
  {
   "cell_type": "code",
   "execution_count": 16,
   "metadata": {},
   "outputs": [
    {
     "data": {
      "text/plain": [
       "[1, 2, 3]"
      ]
     },
     "execution_count": 16,
     "metadata": {},
     "output_type": "execute_result"
    }
   ],
   "source": [
    "li\n"
   ]
  },
  {
   "cell_type": "code",
   "execution_count": null,
   "metadata": {},
   "outputs": [],
   "source": []
  }
 ],
 "metadata": {
  "kernelspec": {
   "display_name": "Python (allennlp)",
   "language": "python",
   "name": "allenlp"
  },
  "language_info": {
   "codemirror_mode": {
    "name": "ipython",
    "version": 3
   },
   "file_extension": ".py",
   "mimetype": "text/x-python",
   "name": "python",
   "nbconvert_exporter": "python",
   "pygments_lexer": "ipython3",
   "version": "3.6.8"
  }
 },
 "nbformat": 4,
 "nbformat_minor": 2
}
