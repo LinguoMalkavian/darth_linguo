{
 "cells": [
  {
   "cell_type": "code",
   "execution_count": 47,
   "metadata": {},
   "outputs": [
    {
     "name": "stdin",
     "output_type": "stream",
     "text": [
      "Which experiment would you like to consolidate results for? exp-2.1\n"
     ]
    }
   ],
   "source": [
    "import os\n",
    "import csv\n",
    "import json\n",
    "from collections import defaultdict\n",
    "res_top = os.path.abspath(\"../results/\")\n",
    "\n",
    "consol_folder = os.path.join(res_top,\"consolidated\")\n",
    "if not os.path.isdir(consol_folder):\n",
    "    os.mkdir(consol_folder)\n",
    "    \n",
    "\n",
    "metrics = [\"best_validation_accuracy\",\n",
    "  \"best_validation_G_accuracy\",\n",
    "  \"best_validation_AA_accuracy\",\n",
    "  \"best_validation_RV_accuracy\",\n",
    "  \"best_validation_VA_accuracy\",\n",
    "   \"training_accuracy\",\n",
    "  \"training_G_accuracy\",\n",
    "  \"training_AA_accuracy\",\n",
    "  \"training_RV_accuracy\",\n",
    "  \"training_VA_accuracy\",\n",
    "    \"best_epoch\",]\n",
    "\n",
    "experiment = input(\"Which experiment would you like to consolidate results for?\")\n",
    "\n",
    "consolidated = {}\n",
    "\n",
    "column_set = set()\n",
    "\n",
    "for fullname in os.listdir(res_top):\n",
    "    parts = fullname.split('_')\n",
    "    exp_type = parts[0]\n",
    "    if exp_type == experiment:\n",
    "        row_condition = parts[1]\n",
    "        file_path = os.path.join(res_top, fullname, 'metrics.json')\n",
    "        consolidated[row_condition] = {}\n",
    "        with open(file_path,\"r\") as exp_file:\n",
    "            results = json.loads(exp_file.read())\n",
    "        for metric in metrics:\n",
    "            consolidated[row_condition][metric] = results[metric]\n",
    "\n",
    "fieldnames = list(column_set)\n",
    "fieldnames.sort()\n",
    "fieldnames.insert(0,\"archi\")\n",
    "    "
   ]
  },
  {
   "cell_type": "code",
   "execution_count": 48,
   "metadata": {},
   "outputs": [
    {
     "data": {
      "text/plain": [
       "{'3uni-3-layer': {'best_validation_accuracy': 0.9310221209043236,\n",
       "  'best_validation_G_accuracy': 0.9496796142158805,\n",
       "  'best_validation_AA_accuracy': 0.9192164179104477,\n",
       "  'best_validation_RV_accuracy': 0.9354126500404254,\n",
       "  'best_validation_VA_accuracy': 0.8681698025190484,\n",
       "  'training_accuracy': 0.9749054156369523,\n",
       "  'training_G_accuracy': 0.9805539843688715,\n",
       "  'training_AA_accuracy': 0.9799159017247142,\n",
       "  'training_RV_accuracy': 0.9701996020395474,\n",
       "  'training_VA_accuracy': 0.9533321933247314,\n",
       "  'best_epoch': 3},\n",
       " '6bi-3-layer': {'best_validation_accuracy': 0.9306682232037393,\n",
       "  'best_validation_G_accuracy': 0.9345190910291981,\n",
       "  'best_validation_AA_accuracy': 0.9312189054726369,\n",
       "  'best_validation_RV_accuracy': 0.9497792151253187,\n",
       "  'best_validation_VA_accuracy': 0.8965013217229046,\n",
       "  'training_accuracy': 0.9691711847718314,\n",
       "  'training_G_accuracy': 0.9761610840224765,\n",
       "  'training_AA_accuracy': 0.9717547936794161,\n",
       "  'training_RV_accuracy': 0.9661889068523816,\n",
       "  'training_VA_accuracy': 0.9432508899839881,\n",
       "  'best_epoch': 5},\n",
       " '4bi-1-layer': {'best_validation_accuracy': 0.9340968944327755,\n",
       "  'best_validation_G_accuracy': 0.9457656229356586,\n",
       "  'best_validation_AA_accuracy': 0.9254042288557214,\n",
       "  'best_validation_RV_accuracy': 0.944119659182785,\n",
       "  'best_validation_VA_accuracy': 0.8888197791945265,\n",
       "  'training_accuracy': 0.9801111459615091,\n",
       "  'training_G_accuracy': 0.9844369944964886,\n",
       "  'training_AA_accuracy': 0.9823642341383035,\n",
       "  'training_RV_accuracy': 0.9768918666832483,\n",
       "  'training_VA_accuracy': 0.9647892797736565,\n",
       "  'best_epoch': 2},\n",
       " '2uni-2-layer': {'best_validation_accuracy': 0.939184748387927,\n",
       "  'best_validation_G_accuracy': 0.9512485136741974,\n",
       "  'best_validation_AA_accuracy': 0.9399875621890548,\n",
       "  'best_validation_RV_accuracy': 0.9401082156850551,\n",
       "  'best_validation_VA_accuracy': 0.8920230135282227,\n",
       "  'training_accuracy': 0.9807166237547206,\n",
       "  'training_G_accuracy': 0.9849716567097011,\n",
       "  'training_AA_accuracy': 0.9855587250017488,\n",
       "  'training_RV_accuracy': 0.976751958711603,\n",
       "  'training_VA_accuracy': 0.9638176815334152,\n",
       "  'best_epoch': 2},\n",
       " '1uni-1-layer': {'best_validation_accuracy': 0.9354251598284745,\n",
       "  'best_validation_G_accuracy': 0.9466161315893777,\n",
       "  'best_validation_AA_accuracy': 0.9332711442786069,\n",
       "  'best_validation_RV_accuracy': 0.940543566142173,\n",
       "  'best_validation_VA_accuracy': 0.8903125485927539,\n",
       "  'training_accuracy': 0.9814530777688546,\n",
       "  'training_G_accuracy': 0.9853576869563063,\n",
       "  'training_AA_accuracy': 0.9846882068102504,\n",
       "  'training_RV_accuracy': 0.9782054470836961,\n",
       "  'training_VA_accuracy': 0.9667635673978268,\n",
       "  'best_epoch': 2},\n",
       " '5bi-2-layer': {'best_validation_accuracy': 0.9315874380104515,\n",
       "  'best_validation_G_accuracy': 0.9468968820187608,\n",
       "  'best_validation_AA_accuracy': 0.9273942786069652,\n",
       "  'best_validation_RV_accuracy': 0.9287891037999876,\n",
       "  'best_validation_VA_accuracy': 0.8809205411289068,\n",
       "  'training_accuracy': 0.9768103154114204,\n",
       "  'training_G_accuracy': 0.9819783740488587,\n",
       "  'training_AA_accuracy': 0.9808563722708866,\n",
       "  'training_RV_accuracy': 0.9731065787837334,\n",
       "  'training_VA_accuracy': 0.9570087210658044,\n",
       "  'best_epoch': 3}}"
      ]
     },
     "execution_count": 48,
     "metadata": {},
     "output_type": "execute_result"
    }
   ],
   "source": [
    "consolidated"
   ]
  },
  {
   "cell_type": "code",
   "execution_count": 49,
   "metadata": {},
   "outputs": [
    {
     "name": "stdout",
     "output_type": "stream",
     "text": [
      "Results from 6 conditions of experiment exp-2.1 where consolidated in /home/lab/Pablo/darth_linguo/results/consolidated/exp-2.1.csv\n"
     ]
    }
   ],
   "source": [
    "\n",
    "consol_fn = os.path.join(consol_folder, experiment + \".csv\")\n",
    "fieldnames = ['Condition'] + metrics[:]\n",
    "with open(consol_fn,\"w\") as consol_file:\n",
    "    writer = csv.DictWriter(consol_file, fieldnames)\n",
    "    writer.writeheader()\n",
    "    for rowname in consolidated:\n",
    "        row = consolidated[rowname]\n",
    "        row['Condition'] = rowname\n",
    "        writer.writerow(row)\n",
    "    message = \"Results from {} conditions of experiment {} where consolidated in {}\"\n",
    "    message = message.format(len(consolidated), experiment, consol_fn)\n",
    "    print(message)"
   ]
  },
  {
   "cell_type": "code",
   "execution_count": 5,
   "metadata": {},
   "outputs": [
    {
     "data": {
      "text/plain": [
       "{'best_validation_accuracy': defaultdict(dict, {}),\n",
       " 'best_epoch': defaultdict(dict, {}),\n",
       " 'training_accuracy': defaultdict(dict, {})}"
      ]
     },
     "execution_count": 5,
     "metadata": {},
     "output_type": "execute_result"
    }
   ],
   "source": [
    "consolidated"
   ]
  },
  {
   "cell_type": "code",
   "execution_count": 14,
   "metadata": {},
   "outputs": [],
   "source": [
    "li = [3,2,1]"
   ]
  },
  {
   "cell_type": "code",
   "execution_count": 20,
   "metadata": {},
   "outputs": [
    {
     "data": {
      "text/plain": [
       "[1, 2, 3]"
      ]
     },
     "execution_count": 20,
     "metadata": {},
     "output_type": "execute_result"
    }
   ],
   "source": [
    "sorted(li)"
   ]
  },
  {
   "cell_type": "code",
   "execution_count": 16,
   "metadata": {},
   "outputs": [
    {
     "data": {
      "text/plain": [
       "[1, 2, 3]"
      ]
     },
     "execution_count": 16,
     "metadata": {},
     "output_type": "execute_result"
    }
   ],
   "source": [
    "li\n"
   ]
  },
  {
   "cell_type": "code",
   "execution_count": null,
   "metadata": {},
   "outputs": [],
   "source": []
  }
 ],
 "metadata": {
  "kernelspec": {
   "display_name": "Python (allennlp)",
   "language": "python",
   "name": "allenlp"
  },
  "language_info": {
   "codemirror_mode": {
    "name": "ipython",
    "version": 3
   },
   "file_extension": ".py",
   "mimetype": "text/x-python",
   "name": "python",
   "nbconvert_exporter": "python",
   "pygments_lexer": "ipython3",
   "version": "3.6.8"
  }
 },
 "nbformat": 4,
 "nbformat_minor": 2
}
