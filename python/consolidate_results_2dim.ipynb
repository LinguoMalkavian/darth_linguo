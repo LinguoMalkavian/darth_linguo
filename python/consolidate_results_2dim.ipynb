{
 "cells": [
  {
   "cell_type": "code",
   "execution_count": 12,
   "metadata": {},
   "outputs": [],
   "source": [
    "import os\n",
    "import csv\n",
    "import json\n",
    "from collections import defaultdict\n",
    "res_top = os.path.abspath(\"../results/\")\n",
    "\n",
    "consol_folder = os.path.join(res_top,\"consolidated\")\n",
    "if not os.path.isdir(consol_folder):\n",
    "    os.mkdir(consol_folder)\n",
    "    \n",
    "\n",
    "metrics = [\"best_validation_accuracy\", \"best_epoch\", \"training_accuracy\"]\n",
    "experiment = \"exp-1\"\n",
    "\n",
    "consolidated = {}\n",
    "for metric in metrics:\n",
    "    consolidated[metric] = defaultdict(dict)\n",
    "\n",
    "column_set = set()\n",
    "\n",
    "for fullname in os.listdir(res_top):\n",
    "    parts = fullname.split('_')\n",
    "    exp_type = parts[0]\n",
    "    if exp_type == experiment:\n",
    "        column_condition = parts[1]\n",
    "        column_set.add(column_condition)\n",
    "        row_condition = parts[2]\n",
    "        file_path = os.path.join(res_top, fullname, 'metrics.json')\n",
    "        with open(file_path,\"r\") as exp_file:\n",
    "            results = json.loads(exp_file.read())\n",
    "        for metric in consolidated:\n",
    "            consolidated[metric][row_condition][column_condition] = results[metric]\n",
    "\n",
    "fieldnames = list(column_set)\n",
    "fieldnames.sort()\n",
    "fieldnames.insert(0,\"archi\")\n",
    "    "
   ]
  },
  {
   "cell_type": "code",
   "execution_count": 13,
   "metadata": {},
   "outputs": [
    {
     "data": {
      "text/plain": [
       "{'best_validation_accuracy': defaultdict(dict,\n",
       "             {'350-1000': {'quarter-WS': 0.9237235553390294,\n",
       "               'all-WS': 0.8353456477476939,\n",
       "               'half-WS': 0.9169994990279303,\n",
       "               'no-WS': 0.9355630420494814}}),\n",
       " 'best_epoch': defaultdict(dict,\n",
       "             {'350-1000': {'quarter-WS': 3,\n",
       "               'all-WS': 3,\n",
       "               'half-WS': 3,\n",
       "               'no-WS': 2}}),\n",
       " 'training_accuracy': defaultdict(dict,\n",
       "             {'350-1000': {'quarter-WS': 0.9709928473052405,\n",
       "               'all-WS': 0.8889985653971753,\n",
       "               'half-WS': 0.9572759738766274,\n",
       "               'no-WS': 0.9836716311250053}})}"
      ]
     },
     "execution_count": 13,
     "metadata": {},
     "output_type": "execute_result"
    }
   ],
   "source": [
    "consolidated"
   ]
  },
  {
   "cell_type": "code",
   "execution_count": 7,
   "metadata": {},
   "outputs": [],
   "source": [
    "for metric in consolidated:\n",
    "    consol_fn = os.path.join(consol_folder, experiment + metric + \".csv\")\n",
    "    with open(consol_fn,\"w\") as consol_file:\n",
    "        writer = csv.DictWriter(consol_file, fieldnames)\n",
    "        writer.writeheader()\n",
    "        for rowname in sorted(list(consolidated[metric].keys())):\n",
    "            row = consolidated[metric][rowname]\n",
    "            row[\"archi\"] = rowname\n",
    "            writer.writerow(row)\n",
    "    "
   ]
  },
  {
   "cell_type": "code",
   "execution_count": 5,
   "metadata": {},
   "outputs": [
    {
     "data": {
      "text/plain": [
       "{'best_validation_accuracy': defaultdict(dict, {}),\n",
       " 'best_epoch': defaultdict(dict, {}),\n",
       " 'training_accuracy': defaultdict(dict, {})}"
      ]
     },
     "execution_count": 5,
     "metadata": {},
     "output_type": "execute_result"
    }
   ],
   "source": [
    "consolidated"
   ]
  },
  {
   "cell_type": "code",
   "execution_count": 14,
   "metadata": {},
   "outputs": [],
   "source": [
    "li = [3,2,1]"
   ]
  },
  {
   "cell_type": "code",
   "execution_count": 20,
   "metadata": {},
   "outputs": [
    {
     "data": {
      "text/plain": [
       "[1, 2, 3]"
      ]
     },
     "execution_count": 20,
     "metadata": {},
     "output_type": "execute_result"
    }
   ],
   "source": [
    "sorted(li)"
   ]
  },
  {
   "cell_type": "code",
   "execution_count": 16,
   "metadata": {},
   "outputs": [
    {
     "data": {
      "text/plain": [
       "[1, 2, 3]"
      ]
     },
     "execution_count": 16,
     "metadata": {},
     "output_type": "execute_result"
    }
   ],
   "source": [
    "li\n"
   ]
  },
  {
   "cell_type": "code",
   "execution_count": null,
   "metadata": {},
   "outputs": [],
   "source": []
  }
 ],
 "metadata": {
  "kernelspec": {
   "display_name": "Python (allennlp)",
   "language": "python",
   "name": "allenlp"
  },
  "language_info": {
   "codemirror_mode": {
    "name": "ipython",
    "version": 3
   },
   "file_extension": ".py",
   "mimetype": "text/x-python",
   "name": "python",
   "nbconvert_exporter": "python",
   "pygments_lexer": "ipython3",
   "version": "3.6.8"
  }
 },
 "nbformat": 4,
 "nbformat_minor": 2
}
