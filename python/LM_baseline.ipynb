{
 "cells": [
  {
   "cell_type": "code",
   "execution_count": 2,
   "metadata": {},
   "outputs": [],
   "source": [
    "import sys\n",
    "import os\n",
    "sys.path.append(os.path.abspath(\"../Legacy_QP2\"))\n",
    "from Linguo_tools import *\n",
    "import nltk\n",
    "from nltk.collocations import *\n",
    "from nltk.probability import FreqDist\n",
    "from tqdm import tqdm\n",
    "import math"
   ]
  },
  {
   "cell_type": "code",
   "execution_count": 3,
   "metadata": {},
   "outputs": [],
   "source": [
    "def load_corpus_from_file(corpus_fn, labeled=True):\n",
    "    if labeled:\n",
    "        offset=2\n",
    "    else:\n",
    "        offset=0\n",
    "    with open(corpus_fn) as file:\n",
    "        sentences = []\n",
    "        for line in tqdm(file.readlines()):\n",
    "            tokens = []\n",
    "            for token in line.split()[offset:]:\n",
    "                tokens.append(token.lower())\n",
    "            if tokens:\n",
    "                sentences.append(tokens)\n",
    "\n",
    "    return sentences"
   ]
  },
  {
   "cell_type": "code",
   "execution_count": 4,
   "metadata": {},
   "outputs": [
    {
     "name": "stderr",
     "output_type": "stream",
     "text": [
      "100%|██████████| 605524/605524 [00:06<00:00, 93345.55it/s] \n",
      "100%|██████████| 605520/605520 [00:05<00:00, 114084.75it/s]\n",
      "100%|██████████| 151381/151381 [00:02<00:00, 72395.49it/s]\n",
      "100%|██████████| 151380/151380 [00:00<00:00, 154833.07it/s]\n"
     ]
    }
   ],
   "source": [
    "exp = Experimenter()\n",
    "noise_order= 2\n",
    "\n",
    "data_path = \"/Volumes/Elements/workspace/darth_linguo/Data/full_ws\"\n",
    "gram_train_fn = os.path.join(data_path, \"full_ws-GT\")\n",
    "ws_train_fn = os.path.join(data_path, \"full_ws-LM1-mix-gramWS-train\")\n",
    "gram_test_fn = os.path.join(data_path, \"full_ws-GV\")\n",
    "ws_test_fn = os.path.join(data_path, \"full_ws-LM2-mix-gramWS-val\")\n",
    "\n",
    "training_gram = load_corpus_from_file(gram_train_fn, labeled=False)\n",
    "training_ws = load_corpus_from_file(ws_train_fn)\n",
    "\n",
    "testing_gram = load_corpus_from_file(gram_test_fn, labeled=False)\n",
    "testing_ws = load_corpus_from_file(ws_test_fn)\n",
    "\n"
   ]
  },
  {
   "cell_type": "code",
   "execution_count": 9,
   "metadata": {},
   "outputs": [
    {
     "name": "stderr",
     "output_type": "stream",
     "text": [
      "100%|██████████| 605524/605524 [00:00<00:00, 1408627.82it/s]\n"
     ]
    }
   ],
   "source": [
    "for sentence in tqdm(training_gram):\n",
    "    if \"#unk\" in sentence:\n",
    "        print(sentence)\n"
   ]
  },
  {
   "cell_type": "code",
   "execution_count": null,
   "metadata": {},
   "outputs": [],
   "source": []
  },
  {
   "cell_type": "code",
   "execution_count": null,
   "metadata": {},
   "outputs": [],
   "source": []
  },
  {
   "cell_type": "code",
   "execution_count": 10,
   "metadata": {},
   "outputs": [],
   "source": [
    "import math\n",
    "from nltk import ConditionalFreqDist\n",
    "import matplotlib.pyplot as plt\n",
    "class Lau_classif: \n",
    "    def __init__ (self,ngram_order,hapax_thresh=1):\n",
    "        self.ngram_order = ngram_order\n",
    "        self.hapax_thresh = hapax_thresh\n",
    "        \n",
    "    def train_single_LM (self,sentences,order):\n",
    "        pad = self.ngram_order -1\n",
    "        model = ConditionalFreqDist()\n",
    "        print(\"Training {}-gram language model\".format(order))\n",
    "        for sentence in tqdm(sentences):\n",
    "            sentence= [\"#\"]*pad + sentence\n",
    "            for i in range(len(sentence) - order):\n",
    "                context = tuple(sentence[i:i+order-1])\n",
    "                word = sentence[i+order-1]\n",
    "                model[context][word]+=1\n",
    "        return model\n",
    "        \n",
    "    def train_full_LM(self, sentences):\n",
    "        \"Trains LMs of orders 1 to ngram_order\"\n",
    "        self.ngram_models = []\n",
    "        self.unigram_fd= FreqDist()\n",
    "        #Get unigram distribution\n",
    "        for sentence in sentences:\n",
    "            for token in sentence: \n",
    "                self.unigram_fd[token]+=1\n",
    "        #define vocabulary by taking each word with count>hapax_thresh\n",
    "        self.vocab = set()\n",
    "        for word,count in self.unigram_fd:\n",
    "            if count>self.hapax_thresh:\n",
    "                self.vocab.add(word)\n",
    "        \n",
    "        for n in range(self.ngram_order,1,-1):\n",
    "            self.ngram_models.append(self.train_single_LM(sentences,n))\n",
    "\n",
    "        \n",
    "        \n",
    "    def LM_logprob_sent(self, sentence):\n",
    "        sent_logprob = 0\n",
    "        pad = self.ngram_order-1\n",
    "        sentence = self.preprocess_sentence(sentence)\n",
    "        sentence = (pad* [\"#\"]) + sentence\n",
    "        for i in range(pad,len(sentence)):\n",
    "            full_context = sentence[i-pad:i]\n",
    "            word = sentence[i]\n",
    "            counted = False\n",
    "            mod_ind = 0\n",
    "            while not counted and mod_ind<len(self.ngram_models):\n",
    "                context = tuple(full_context[mod_ind:])\n",
    "                if word in self.ngram_models[mod_ind][context]:\n",
    "                    wprob = self.ngram_models[mod_ind][context].freq(word)\n",
    "                    counted=True \n",
    "                else:\n",
    "                    mod_ind+=1\n",
    "            if not counted:\n",
    "                wprob = self.unigram_fd.freq(word)\n",
    "            try:\n",
    "                wlogprob = math.log(wprob)\n",
    "                sent_logprob += wlogprob\n",
    "            except ValueError :\n",
    "                print(f\"Encounterd a word with probability {wprob}, {word} in the sentence {sentence}\")\n",
    "            \n",
    "        return sent_logprob\n",
    "        \n",
    "    def uni_logprob_sent(self,sentence):\n",
    "        sentence = self.preprocess_sentence(sentence)\n",
    "        result = 0\n",
    "        for word in sentence:\n",
    "            result+= math.log(self.unigram_fd[word])\n",
    "        return result\n",
    "    \n",
    "    def SLORscore(self,sentence):\n",
    "        sentlength = len(sentence)\n",
    "        sentLP = self.LM_logprob_sent(sentence)\n",
    "        sentUNI= self.uni_logprob_sent(sentence)\n",
    "        slor = (sentLP - sentUNI)/sentlength\n",
    "        return slor\n",
    "    \n",
    "    def preprocess_sentence(self,sentence):\n",
    "        newsentence = []\n",
    "        for word in sentence:\n",
    "            word = word.lower()\n",
    "            if word not in self.vocab:\n",
    "                newsentence.append(\"#unk\")\n",
    "            else:\n",
    "                newsentence.append(word)\n",
    "        return newsentence\n",
    "    def plot_scores(self, gram_sentences, ws_sentences, ws_ord):\n",
    "        gram_scores = [self.SLORscore(sent) for sent in gram_sentences]\n",
    "        ws_scores = [self.SLORscore(sent) for sent in ws_sentences]\n",
    "        n_bins = 50\n",
    "\n",
    "        plt.hist(gram_scores, bins=n_bins, alpha=0.5, label='Word Salads',facecolor=\"r\")\n",
    "        plt.hist(ws_scores, bins=n_bins, alpha=0.5, label='Sentences',facecolor=\"b\")\n",
    "        plt.legend(loc='upper left')\n",
    "        plt.axvline(x=self.threshold,color=\"g\",alpha=1.0)\n",
    "        plt.xlabel('SLOR score')\n",
    "        plt.ylabel('Count')\n",
    "        plt.title(\"SLOR scores on {WSorder}-gram WS with {order}-gram model\".format(order=self.ngram_order,\n",
    "                                                                           WSorder=ws_ord))\n",
    "        #plt.title('Sequence lengths for trigram word salads and corpus sentences')\n",
    "\n",
    "        plt.grid(True)\n",
    "        plt.show()\n",
    "    \n",
    "    def train_classifier(self,train_sent_gram, train_sent_ws ):\n",
    "        scored_pairs = []\n",
    "        num_gram = len(train_sent_gram)\n",
    "        num_ws = len(train_sent_ws)\n",
    "        num_total = num_gram + num_ws\n",
    "        for sentence in train_sent_gram:\n",
    "            scored_pairs.append((self.SLORscore(sentence),1))\n",
    "        for sentence in train_sent_ws:\n",
    "            scored_pairs.append((self.SLORscore(sentence),0))\n",
    "        scored_pairs.sort(key = lambda t: t[0])\n",
    "        cutoff_data = []\n",
    "        passed_ws = 0\n",
    "        passed_gram = 0\n",
    "        for cutoff,label in scored_pairs:\n",
    "            if label == 0:\n",
    "                passed_ws +=1\n",
    "            else :\n",
    "                passed_gram +=1\n",
    "            accuracy = (passed_ws + (num_gram - passed_gram)) / num_total\n",
    "            cutoff_data.append((accuracy,cutoff))\n",
    "        accuracy, threshold = max(cutoff_data,key= lambda t: t[0])\n",
    "        self.threshold =threshold\n",
    "        self.training_accuracy = accuracy\n",
    "        return accuracy, threshold\n",
    "    \n",
    "    def train_classifier_sandwich(self,train_sent_gram, train_sent_ws ):\n",
    "        print(\"Training sandwich model\")\n",
    "        scored_pairs = []\n",
    "        num_gram = len(train_sent_gram)\n",
    "        num_ws = len(train_sent_ws)\n",
    "        num_total = num_gram + num_ws\n",
    "        print(\"Scoring grammatical\")\n",
    "        for sentence in tqdm(train_sent_gram):\n",
    "            scored_pairs.append((self.SLORscore(sentence),1))\n",
    "        print(\"Scoring Ungrammatical\")\n",
    "        for sentence in tqdm(train_sent_ws):\n",
    "            scored_pairs.append((self.SLORscore(sentence),0))\n",
    "        scored_pairs.sort(key = lambda t: t[0])\n",
    "        cutoff_data = []\n",
    "        passed_ws = 0\n",
    "        passed_gram = 0\n",
    "        for cutoff,label in scored_pairs:\n",
    "            if label == 0:\n",
    "                passed_ws +=1\n",
    "            else :\n",
    "                passed_gram +=1\n",
    "            tp_left = passed_gram \n",
    "            fp_left = passed_ws\n",
    "            tp_right = num_gram - passed_gram \n",
    "            fp_right = num_ws - passed_ws\n",
    "            correct_left = tp_left-fp_left\n",
    "            correct_right= tp_right - fp_right\n",
    "            cutoff_data.append((cutoff,correct_left,correct_right))\n",
    "            \n",
    "        max_correct = 0 \n",
    "        self.left_thresh = 0\n",
    "        self.right_thresh = 0\n",
    "        print(\"Finding optimal cutoff\")\n",
    "        for i in tqdm(range(len(cutoff_data))):\n",
    "            left_score = cutoff_data[i][1]\n",
    "            for j in range(i,len(cutoff_data)):\n",
    "                right_score = cutoff_data[j][2]\n",
    "                score = left_score+right_score\n",
    "                if score >= max_correct:\n",
    "                    max_correct = score\n",
    "                    self.left_thresh = cutoff_data[i][0]\n",
    "                    self.right_thresh = cutoff_data[j][0]\n",
    "                    #print(self.left_thresh)\n",
    "                    #print(self.right_thresh)\n",
    "        \n",
    "        accuracy = max_correct/num_total\n",
    "        return self.left_thresh,self.right_thresh\n",
    "    \n",
    "    \n",
    "    \n",
    "    def train_full_model (self, train_sentences, train_ws,sandwich=False):\n",
    "        cutoff= int( math.floor(0.8*len(train_sentences)))\n",
    "        ngram_train = train_sentences[:cutoff]\n",
    "        class_train_gram = train_sentences[cutoff:]\n",
    "        class_train_ws = train_ws[cutoff:]\n",
    "        \n",
    "        self.train_full_LM(ngram_train)\n",
    "        print(\"Language models trained, determining thresholds\")\n",
    "        self.train_classifier(class_train_gram,class_train_ws)\n",
    "        if sandwich:\n",
    "            self.train_classifier_sandwich(class_train_gram,class_train_ws)\n",
    "        \n",
    "    \n",
    "        \n",
    "    def test_model(self,test_gram, test_ws):\n",
    "        tp=0\n",
    "        tn=0\n",
    "        fn=0\n",
    "        fp=0\n",
    "        correct = 0\n",
    "        for sentence in test_gram:\n",
    "            score = self.SLORscore(sentence)\n",
    "            if score > self.threshold:\n",
    "                correct+=1\n",
    "                tp+=1\n",
    "            else:\n",
    "                fn +=1\n",
    "        for sentence in test_ws:\n",
    "            score = self.SLORscore(sentence)\n",
    "            if score <= self.threshold:\n",
    "                correct+=1\n",
    "                tn+=1\n",
    "            else:\n",
    "                fp +=1\n",
    "        total = len(test_gram+test_ws)\n",
    "        accuracy = correct / total\n",
    "        precision = tp / (tp+fp)\n",
    "        recall = tp/(tp+fn)\n",
    "        fmeasure =2*( precision*recall / (precision+recall))\n",
    "        response = \"The model has accuracy {:.4}, with F-measure {:.4} precision {:.4} and recall {:.4}\".format(accuracy,\n",
    "                                                                                                                fmeasure,\n",
    "                                                                                                                precision,\n",
    "                                                                                                                recall)\n",
    "        print(response)\n",
    "        return accuracy, fmeasure\n",
    "\n",
    "    def test_model_sandwich(self,test_gram, test_ws):\n",
    "        tp=0\n",
    "        tn=0\n",
    "        fn=0\n",
    "        fp=0\n",
    "        correct = 0\n",
    "        for sentence in test_gram:\n",
    "            score = self.SLORscore(sentence)\n",
    "            if score > self.right_thresh or score < self.left_thresh:\n",
    "                correct+=1\n",
    "                tp+=1\n",
    "            else:\n",
    "                fn +=1\n",
    "        for sentence in test_ws:\n",
    "            score = self.SLORscore(sentence)\n",
    "            if score <= self.right_thresh and score >= self.left_thresh:\n",
    "                correct+=1\n",
    "                tn+=1\n",
    "            else:\n",
    "                fp +=1\n",
    "        total = len(test_gram+test_ws)\n",
    "        accuracy = correct / total\n",
    "        precision = tp / (tp+fp)\n",
    "        recall = tp/(tp+fn)\n",
    "        fmeasure =2*( precision*recall / (precision+recall))\n",
    "        response = \"The sandwich model has accuracy {:.4}, with F-measure {:.4} precision {:.4} and recall {:.4}\".format(accuracy,\n",
    "                                                                                                                fmeasure,\n",
    "                                                                                                                precision,\n",
    "                                                                                                                recall)\n",
    "        print(response)\n",
    "        return accuracy, fmeasure\n",
    "\n",
    "def train_and_test_lau(ngram_order,training_gram,training_ws,testing_gram,testing_ws,ws_ord,sandwich=False):\n",
    "    baseline = Lau_classif(ngram_order)\n",
    "    print(\"Training classifier\")\n",
    "    baseline.train_full_model(training_gram,training_ws,sandwich)\n",
    "    print(\"The scores on {}-grams are:\".format(ngram_order)) \n",
    "    AF= baseline.test_model(testing_gram,testing_ws)\n",
    "    if sandwich:\n",
    "        sand= baseline.test_model_sandwich(testing_gram,testing_ws)\n",
    "    baseline.plot_scores( testing_gram, testing_ws,ws_ord)\n",
    "    return baseline"
   ]
  },
  {
   "cell_type": "code",
   "execution_count": 11,
   "metadata": {},
   "outputs": [
    {
     "name": "stderr",
     "output_type": "stream",
     "text": [
      "  1%|          | 4422/484419 [00:00<00:25, 18536.28it/s]"
     ]
    },
    {
     "name": "stdout",
     "output_type": "stream",
     "text": [
      "Training classifier\n",
      "Training 2-gram language model\n"
     ]
    },
    {
     "name": "stderr",
     "output_type": "stream",
     "text": [
      "100%|██████████| 484419/484419 [00:18<00:00, 26220.97it/s]\n"
     ]
    },
    {
     "name": "stdout",
     "output_type": "stream",
     "text": [
      "Language models trained, determining thresholds\n",
      "Encounterd a word with probability 0.0, #unk in the sentence ['#', 'además', ',', 'estas', 'mismas', 'ayudas', 'también', 'suelen', 'ser', '#unk', 'por', 'los', 'dirigentes', 'locales', '.', '<eos>']\n"
     ]
    },
    {
     "ename": "ValueError",
     "evalue": "math domain error",
     "output_type": "error",
     "traceback": [
      "\u001b[0;31m---------------------------------------------------------------------------\u001b[0m",
      "\u001b[0;31mValueError\u001b[0m                                Traceback (most recent call last)",
      "\u001b[0;32m<ipython-input-11-86db9dee7448>\u001b[0m in \u001b[0;36m<module>\u001b[0;34m\u001b[0m\n\u001b[1;32m      1\u001b[0m \u001b[0mmodels\u001b[0m \u001b[0;34m=\u001b[0m \u001b[0;34m[\u001b[0m\u001b[0;34m]\u001b[0m\u001b[0;34m\u001b[0m\u001b[0;34m\u001b[0m\u001b[0m\n\u001b[1;32m      2\u001b[0m \u001b[0;32mfor\u001b[0m \u001b[0mn\u001b[0m \u001b[0;32min\u001b[0m \u001b[0mrange\u001b[0m\u001b[0;34m(\u001b[0m\u001b[0;36m2\u001b[0m\u001b[0;34m,\u001b[0m\u001b[0;36m7\u001b[0m\u001b[0;34m)\u001b[0m\u001b[0;34m:\u001b[0m\u001b[0;34m\u001b[0m\u001b[0;34m\u001b[0m\u001b[0m\n\u001b[0;32m----> 3\u001b[0;31m     \u001b[0mmodels\u001b[0m\u001b[0;34m.\u001b[0m\u001b[0mappend\u001b[0m\u001b[0;34m(\u001b[0m\u001b[0mtrain_and_test_lau\u001b[0m\u001b[0;34m(\u001b[0m\u001b[0mn\u001b[0m\u001b[0;34m,\u001b[0m\u001b[0mtraining_gram\u001b[0m\u001b[0;34m,\u001b[0m\u001b[0mtraining_ws\u001b[0m\u001b[0;34m,\u001b[0m\u001b[0mtesting_gram\u001b[0m\u001b[0;34m,\u001b[0m\u001b[0mtesting_ws\u001b[0m\u001b[0;34m,\u001b[0m\u001b[0mnoise_order\u001b[0m\u001b[0;34m)\u001b[0m\u001b[0;34m)\u001b[0m\u001b[0;34m\u001b[0m\u001b[0;34m\u001b[0m\u001b[0m\n\u001b[0m",
      "\u001b[0;32m<ipython-input-10-36c0dd2a3d30>\u001b[0m in \u001b[0;36mtrain_and_test_lau\u001b[0;34m(ngram_order, training_gram, training_ws, testing_gram, testing_ws, ws_ord, sandwich)\u001b[0m\n\u001b[1;32m    252\u001b[0m     \u001b[0mbaseline\u001b[0m \u001b[0;34m=\u001b[0m \u001b[0mLau_classif\u001b[0m\u001b[0;34m(\u001b[0m\u001b[0mngram_order\u001b[0m\u001b[0;34m)\u001b[0m\u001b[0;34m\u001b[0m\u001b[0;34m\u001b[0m\u001b[0m\n\u001b[1;32m    253\u001b[0m     \u001b[0mprint\u001b[0m\u001b[0;34m(\u001b[0m\u001b[0;34m\"Training classifier\"\u001b[0m\u001b[0;34m)\u001b[0m\u001b[0;34m\u001b[0m\u001b[0;34m\u001b[0m\u001b[0m\n\u001b[0;32m--> 254\u001b[0;31m     \u001b[0mbaseline\u001b[0m\u001b[0;34m.\u001b[0m\u001b[0mtrain_full_model\u001b[0m\u001b[0;34m(\u001b[0m\u001b[0mtraining_gram\u001b[0m\u001b[0;34m,\u001b[0m\u001b[0mtraining_ws\u001b[0m\u001b[0;34m,\u001b[0m\u001b[0msandwich\u001b[0m\u001b[0;34m)\u001b[0m\u001b[0;34m\u001b[0m\u001b[0;34m\u001b[0m\u001b[0m\n\u001b[0m\u001b[1;32m    255\u001b[0m     \u001b[0mprint\u001b[0m\u001b[0;34m(\u001b[0m\u001b[0;34m\"The scores on {}-grams are:\"\u001b[0m\u001b[0;34m.\u001b[0m\u001b[0mformat\u001b[0m\u001b[0;34m(\u001b[0m\u001b[0mngram_order\u001b[0m\u001b[0;34m)\u001b[0m\u001b[0;34m)\u001b[0m\u001b[0;34m\u001b[0m\u001b[0;34m\u001b[0m\u001b[0m\n\u001b[1;32m    256\u001b[0m     \u001b[0mAF\u001b[0m\u001b[0;34m=\u001b[0m \u001b[0mbaseline\u001b[0m\u001b[0;34m.\u001b[0m\u001b[0mtest_model\u001b[0m\u001b[0;34m(\u001b[0m\u001b[0mtesting_gram\u001b[0m\u001b[0;34m,\u001b[0m\u001b[0mtesting_ws\u001b[0m\u001b[0;34m)\u001b[0m\u001b[0;34m\u001b[0m\u001b[0;34m\u001b[0m\u001b[0m\n",
      "\u001b[0;32m<ipython-input-10-36c0dd2a3d30>\u001b[0m in \u001b[0;36mtrain_full_model\u001b[0;34m(self, train_sentences, train_ws, sandwich)\u001b[0m\n\u001b[1;32m    179\u001b[0m         \u001b[0mself\u001b[0m\u001b[0;34m.\u001b[0m\u001b[0mtrain_full_LM\u001b[0m\u001b[0;34m(\u001b[0m\u001b[0mngram_train\u001b[0m\u001b[0;34m)\u001b[0m\u001b[0;34m\u001b[0m\u001b[0;34m\u001b[0m\u001b[0m\n\u001b[1;32m    180\u001b[0m         \u001b[0mprint\u001b[0m\u001b[0;34m(\u001b[0m\u001b[0;34m\"Language models trained, determining thresholds\"\u001b[0m\u001b[0;34m)\u001b[0m\u001b[0;34m\u001b[0m\u001b[0;34m\u001b[0m\u001b[0m\n\u001b[0;32m--> 181\u001b[0;31m         \u001b[0mself\u001b[0m\u001b[0;34m.\u001b[0m\u001b[0mtrain_classifier\u001b[0m\u001b[0;34m(\u001b[0m\u001b[0mclass_train_gram\u001b[0m\u001b[0;34m,\u001b[0m\u001b[0mclass_train_ws\u001b[0m\u001b[0;34m)\u001b[0m\u001b[0;34m\u001b[0m\u001b[0;34m\u001b[0m\u001b[0m\n\u001b[0m\u001b[1;32m    182\u001b[0m         \u001b[0;32mif\u001b[0m \u001b[0msandwich\u001b[0m\u001b[0;34m:\u001b[0m\u001b[0;34m\u001b[0m\u001b[0;34m\u001b[0m\u001b[0m\n\u001b[1;32m    183\u001b[0m             \u001b[0mself\u001b[0m\u001b[0;34m.\u001b[0m\u001b[0mtrain_classifier_sandwich\u001b[0m\u001b[0;34m(\u001b[0m\u001b[0mclass_train_gram\u001b[0m\u001b[0;34m,\u001b[0m\u001b[0mclass_train_ws\u001b[0m\u001b[0;34m)\u001b[0m\u001b[0;34m\u001b[0m\u001b[0;34m\u001b[0m\u001b[0m\n",
      "\u001b[0;32m<ipython-input-10-36c0dd2a3d30>\u001b[0m in \u001b[0;36mtrain_classifier\u001b[0;34m(self, train_sent_gram, train_sent_ws)\u001b[0m\n\u001b[1;32m    102\u001b[0m         \u001b[0mnum_total\u001b[0m \u001b[0;34m=\u001b[0m \u001b[0mnum_gram\u001b[0m \u001b[0;34m+\u001b[0m \u001b[0mnum_ws\u001b[0m\u001b[0;34m\u001b[0m\u001b[0;34m\u001b[0m\u001b[0m\n\u001b[1;32m    103\u001b[0m         \u001b[0;32mfor\u001b[0m \u001b[0msentence\u001b[0m \u001b[0;32min\u001b[0m \u001b[0mtrain_sent_gram\u001b[0m\u001b[0;34m:\u001b[0m\u001b[0;34m\u001b[0m\u001b[0;34m\u001b[0m\u001b[0m\n\u001b[0;32m--> 104\u001b[0;31m             \u001b[0mscored_pairs\u001b[0m\u001b[0;34m.\u001b[0m\u001b[0mappend\u001b[0m\u001b[0;34m(\u001b[0m\u001b[0;34m(\u001b[0m\u001b[0mself\u001b[0m\u001b[0;34m.\u001b[0m\u001b[0mSLORscore\u001b[0m\u001b[0;34m(\u001b[0m\u001b[0msentence\u001b[0m\u001b[0;34m)\u001b[0m\u001b[0;34m,\u001b[0m\u001b[0;36m1\u001b[0m\u001b[0;34m)\u001b[0m\u001b[0;34m)\u001b[0m\u001b[0;34m\u001b[0m\u001b[0;34m\u001b[0m\u001b[0m\n\u001b[0m\u001b[1;32m    105\u001b[0m         \u001b[0;32mfor\u001b[0m \u001b[0msentence\u001b[0m \u001b[0;32min\u001b[0m \u001b[0mtrain_sent_ws\u001b[0m\u001b[0;34m:\u001b[0m\u001b[0;34m\u001b[0m\u001b[0;34m\u001b[0m\u001b[0m\n\u001b[1;32m    106\u001b[0m             \u001b[0mscored_pairs\u001b[0m\u001b[0;34m.\u001b[0m\u001b[0mappend\u001b[0m\u001b[0;34m(\u001b[0m\u001b[0;34m(\u001b[0m\u001b[0mself\u001b[0m\u001b[0;34m.\u001b[0m\u001b[0mSLORscore\u001b[0m\u001b[0;34m(\u001b[0m\u001b[0msentence\u001b[0m\u001b[0;34m)\u001b[0m\u001b[0;34m,\u001b[0m\u001b[0;36m0\u001b[0m\u001b[0;34m)\u001b[0m\u001b[0;34m)\u001b[0m\u001b[0;34m\u001b[0m\u001b[0;34m\u001b[0m\u001b[0m\n",
      "\u001b[0;32m<ipython-input-10-36c0dd2a3d30>\u001b[0m in \u001b[0;36mSLORscore\u001b[0;34m(self, sentence)\u001b[0m\n\u001b[1;32m     65\u001b[0m         \u001b[0msentlength\u001b[0m \u001b[0;34m=\u001b[0m \u001b[0mlen\u001b[0m\u001b[0;34m(\u001b[0m\u001b[0msentence\u001b[0m\u001b[0;34m)\u001b[0m\u001b[0;34m\u001b[0m\u001b[0;34m\u001b[0m\u001b[0m\n\u001b[1;32m     66\u001b[0m         \u001b[0msentLP\u001b[0m \u001b[0;34m=\u001b[0m \u001b[0mself\u001b[0m\u001b[0;34m.\u001b[0m\u001b[0mLM_logprob_sent\u001b[0m\u001b[0;34m(\u001b[0m\u001b[0msentence\u001b[0m\u001b[0;34m)\u001b[0m\u001b[0;34m\u001b[0m\u001b[0;34m\u001b[0m\u001b[0m\n\u001b[0;32m---> 67\u001b[0;31m         \u001b[0msentUNI\u001b[0m\u001b[0;34m=\u001b[0m \u001b[0mself\u001b[0m\u001b[0;34m.\u001b[0m\u001b[0muni_logprob_sent\u001b[0m\u001b[0;34m(\u001b[0m\u001b[0msentence\u001b[0m\u001b[0;34m)\u001b[0m\u001b[0;34m\u001b[0m\u001b[0;34m\u001b[0m\u001b[0m\n\u001b[0m\u001b[1;32m     68\u001b[0m         \u001b[0mslor\u001b[0m \u001b[0;34m=\u001b[0m \u001b[0;34m(\u001b[0m\u001b[0msentLP\u001b[0m \u001b[0;34m-\u001b[0m \u001b[0msentUNI\u001b[0m\u001b[0;34m)\u001b[0m\u001b[0;34m/\u001b[0m\u001b[0msentlength\u001b[0m\u001b[0;34m\u001b[0m\u001b[0;34m\u001b[0m\u001b[0m\n\u001b[1;32m     69\u001b[0m         \u001b[0;32mreturn\u001b[0m \u001b[0mslor\u001b[0m\u001b[0;34m\u001b[0m\u001b[0;34m\u001b[0m\u001b[0m\n",
      "\u001b[0;32m<ipython-input-10-36c0dd2a3d30>\u001b[0m in \u001b[0;36muni_logprob_sent\u001b[0;34m(self, sentence)\u001b[0m\n\u001b[1;32m     59\u001b[0m         \u001b[0mresult\u001b[0m \u001b[0;34m=\u001b[0m \u001b[0;36m0\u001b[0m\u001b[0;34m\u001b[0m\u001b[0;34m\u001b[0m\u001b[0m\n\u001b[1;32m     60\u001b[0m         \u001b[0;32mfor\u001b[0m \u001b[0mword\u001b[0m \u001b[0;32min\u001b[0m \u001b[0msentence\u001b[0m\u001b[0;34m:\u001b[0m\u001b[0;34m\u001b[0m\u001b[0;34m\u001b[0m\u001b[0m\n\u001b[0;32m---> 61\u001b[0;31m             \u001b[0mresult\u001b[0m\u001b[0;34m+=\u001b[0m \u001b[0mmath\u001b[0m\u001b[0;34m.\u001b[0m\u001b[0mlog\u001b[0m\u001b[0;34m(\u001b[0m\u001b[0mself\u001b[0m\u001b[0;34m.\u001b[0m\u001b[0munigram_fd\u001b[0m\u001b[0;34m[\u001b[0m\u001b[0mword\u001b[0m\u001b[0;34m]\u001b[0m\u001b[0;34m)\u001b[0m\u001b[0;34m\u001b[0m\u001b[0;34m\u001b[0m\u001b[0m\n\u001b[0m\u001b[1;32m     62\u001b[0m         \u001b[0;32mreturn\u001b[0m \u001b[0mresult\u001b[0m\u001b[0;34m\u001b[0m\u001b[0;34m\u001b[0m\u001b[0m\n\u001b[1;32m     63\u001b[0m \u001b[0;34m\u001b[0m\u001b[0m\n",
      "\u001b[0;31mValueError\u001b[0m: math domain error"
     ]
    }
   ],
   "source": [
    "models = []\n",
    "for n in range(2,7):\n",
    "    models.append(train_and_test_lau(n,training_gram,training_ws,testing_gram,testing_ws,noise_order))"
   ]
  },
  {
   "cell_type": "code",
   "execution_count": null,
   "metadata": {
    "collapsed": true
   },
   "outputs": [],
   "source": [
    "## baseline_bi = Lau_classif(2)\n",
    "baseline_tri = Lau_classif(3)\n",
    "baseline_quad = Lau_classif(4)\n",
    "baseline_pent = Lau_classif(5)\n",
    "baseline_hex = Lau_classif(6)\n",
    "\n",
    "baseline_bi.train_full_LM(training_gram)\n",
    "baseline_tri.train_full_LM(training_gram)\n",
    "baseline_quad.train_full_LM(training_gram)\n",
    "baseline_pent.train_full_LM(training_gram)\n",
    "baseline_hex.train_full_LM(training_gram)\n",
    "\n",
    "baseline_bi.plot_scores( training_gram, training_ws,\"training\")\n",
    "baseline_tri.plot_scores( training_gram, training_ws,\"training\")\n",
    "baseline_quad.plot_scores( training_gram, training_ws,\"training\")\n",
    "baseline_pent.plot_scores( training_gram, training_ws,\"training\")\n",
    "baseline_hex.plot_scores( training_gram, training_ws,\"training\")\n",
    "\n",
    "baseline_bi.plot_scores( testing_gram, testing_ws,\"testing\")\n",
    "baseline_tri.plot_scores( testing_gram, testing_ws,\"testing\")\n",
    "baseline_quad.plot_scores( testing_gram, testing_ws,\"testing\")\n",
    "baseline_pent.plot_scores( testing_gram, testing_ws,\"testing\")\n",
    "baseline_hex.plot_scores( testing_gram, testing_ws,\"testing\")\n"
   ]
  },
  {
   "cell_type": "code",
   "execution_count": 10,
   "metadata": {},
   "outputs": [
    {
     "name": "stderr",
     "output_type": "stream",
     "text": [
      "  2%|▏         | 979/59757 [00:00<00:06, 9786.16it/s]"
     ]
    },
    {
     "name": "stdout",
     "output_type": "stream",
     "text": [
      "Training 2-gram language model\n"
     ]
    },
    {
     "name": "stderr",
     "output_type": "stream",
     "text": [
      "100%|██████████| 59757/59757 [00:03<00:00, 19866.68it/s]\n"
     ]
    },
    {
     "name": "stdout",
     "output_type": "stream",
     "text": [
      "The scores on 2-grams are:\n",
      "The model has accuracy 0.77, with F-measure 0.7496 precision 0.697 and recall 0.8108\n"
     ]
    },
    {
     "data": {
      "image/png": "[encoded data removed]",
      "text/plain": [
       "<matplotlib.figure.Figure at 0x1a5aadb860>"
      ]
     },
     "metadata": {},
     "output_type": "display_data"
    },
    {
     "name": "stderr",
     "output_type": "stream",
     "text": [
      "  2%|▏         | 1171/59757 [00:00<00:05, 11704.49it/s]"
     ]
    },
    {
     "name": "stdout",
     "output_type": "stream",
     "text": [
      "Training 3-gram language model\n"
     ]
    },
    {
     "name": "stderr",
     "output_type": "stream",
     "text": [
      "100%|██████████| 59757/59757 [01:00<00:00, 988.42it/s]  \n",
      "  2%|▏         | 1345/59757 [00:00<00:04, 13432.72it/s]"
     ]
    },
    {
     "name": "stdout",
     "output_type": "stream",
     "text": [
      "Training 2-gram language model\n"
     ]
    },
    {
     "name": "stderr",
     "output_type": "stream",
     "text": [
      "100%|██████████| 59757/59757 [00:03<00:00, 15813.98it/s]\n"
     ]
    },
    {
     "name": "stdout",
     "output_type": "stream",
     "text": [
      "The scores on 3-grams are:\n",
      "The model has accuracy 0.7853, with F-measure 0.7648 precision 0.715 and recall 0.8221\n"
     ]
    },
    {
     "data": {
      "image/png": "[encoded data removed]",
      "text/plain": [
       "<matplotlib.figure.Figure at 0x1c7e4a99e8>"
      ]
     },
     "metadata": {},
     "output_type": "display_data"
    },
    {
     "name": "stderr",
     "output_type": "stream",
     "text": [
      "  1%|▏         | 888/59757 [00:00<00:06, 8863.50it/s]"
     ]
    },
    {
     "name": "stdout",
     "output_type": "stream",
     "text": [
      "Training 4-gram language model\n"
     ]
    },
    {
     "name": "stderr",
     "output_type": "stream",
     "text": [
      "100%|██████████| 59757/59757 [00:05<00:00, 10537.75it/s]\n",
      "  2%|▏         | 1101/59757 [00:00<00:05, 10994.39it/s]"
     ]
    },
    {
     "name": "stdout",
     "output_type": "stream",
     "text": [
      "Training 3-gram language model\n"
     ]
    },
    {
     "name": "stderr",
     "output_type": "stream",
     "text": [
      "100%|██████████| 59757/59757 [00:04<00:00, 13757.15it/s]\n",
      "  3%|▎         | 1528/59757 [00:00<00:03, 15263.67it/s]"
     ]
    },
    {
     "name": "stdout",
     "output_type": "stream",
     "text": [
      "Training 2-gram language model\n"
     ]
    },
    {
     "name": "stderr",
     "output_type": "stream",
     "text": [
      "100%|██████████| 59757/59757 [00:02<00:00, 20778.15it/s]\n"
     ]
    },
    {
     "name": "stdout",
     "output_type": "stream",
     "text": [
      "The scores on 4-grams are:\n",
      "The model has accuracy 0.7877, with F-measure 0.7707 precision 0.7118 and recall 0.8402\n"
     ]
    },
    {
     "data": {
      "image/png": "[encoded data removed]",
      "text/plain": [
       "<matplotlib.figure.Figure at 0x1cc7a09470>"
      ]
     },
     "metadata": {},
     "output_type": "display_data"
    },
    {
     "name": "stderr",
     "output_type": "stream",
     "text": [
      "  1%|▏         | 805/59757 [00:00<00:07, 8047.51it/s]"
     ]
    },
    {
     "name": "stdout",
     "output_type": "stream",
     "text": [
      "Training 5-gram language model\n"
     ]
    },
    {
     "name": "stderr",
     "output_type": "stream",
     "text": [
      "100%|██████████| 59757/59757 [00:06<00:00, 9741.20it/s]\n",
      "  2%|▏         | 904/59757 [00:00<00:06, 9034.37it/s]"
     ]
    },
    {
     "name": "stdout",
     "output_type": "stream",
     "text": [
      "Training 4-gram language model\n"
     ]
    },
    {
     "name": "stderr",
     "output_type": "stream",
     "text": [
      "100%|██████████| 59757/59757 [00:55<00:00, 1072.66it/s]\n",
      "  4%|▎         | 2237/59757 [00:00<00:05, 11180.36it/s]"
     ]
    },
    {
     "name": "stdout",
     "output_type": "stream",
     "text": [
      "Training 3-gram language model\n"
     ]
    },
    {
     "name": "stderr",
     "output_type": "stream",
     "text": [
      "100%|██████████| 59757/59757 [00:04<00:00, 13256.47it/s]\n",
      "  3%|▎         | 1969/59757 [00:00<00:02, 19676.18it/s]"
     ]
    },
    {
     "name": "stdout",
     "output_type": "stream",
     "text": [
      "Training 2-gram language model\n"
     ]
    },
    {
     "name": "stderr",
     "output_type": "stream",
     "text": [
      "100%|██████████| 59757/59757 [00:03<00:00, 18246.27it/s]\n"
     ]
    },
    {
     "name": "stdout",
     "output_type": "stream",
     "text": [
      "The scores on 5-grams are:\n",
      "The model has accuracy 0.7881, with F-measure 0.772 precision 0.7105 and recall 0.8452\n"
     ]
    },
    {
     "data": {
      "image/png": "[encoded data removed]",
      "text/plain": [
       "<matplotlib.figure.Figure at 0x1d5f02a2b0>"
      ]
     },
     "metadata": {},
     "output_type": "display_data"
    },
    {
     "name": "stderr",
     "output_type": "stream",
     "text": [
      "  1%|▏         | 829/59757 [00:00<00:07, 8278.40it/s]"
     ]
    },
    {
     "name": "stdout",
     "output_type": "stream",
     "text": [
      "Training 6-gram language model\n"
     ]
    },
    {
     "name": "stderr",
     "output_type": "stream",
     "text": [
      "100%|██████████| 59757/59757 [01:28<00:00, 671.58it/s] \n",
      "  1%|          | 676/59757 [00:00<00:08, 6756.24it/s]"
     ]
    },
    {
     "name": "stdout",
     "output_type": "stream",
     "text": [
      "Training 5-gram language model\n"
     ]
    },
    {
     "name": "stderr",
     "output_type": "stream",
     "text": [
      "100%|██████████| 59757/59757 [00:07<00:00, 8245.59it/s]\n",
      "  1%|▏         | 859/59757 [00:00<00:06, 8584.36it/s]"
     ]
    },
    {
     "name": "stdout",
     "output_type": "stream",
     "text": [
      "Training 4-gram language model\n"
     ]
    },
    {
     "name": "stderr",
     "output_type": "stream",
     "text": [
      "100%|██████████| 59757/59757 [00:06<00:00, 9580.57it/s]\n",
      "  2%|▏         | 1070/59757 [00:00<00:05, 10646.65it/s]"
     ]
    },
    {
     "name": "stdout",
     "output_type": "stream",
     "text": [
      "Training 3-gram language model\n"
     ]
    },
    {
     "name": "stderr",
     "output_type": "stream",
     "text": [
      "100%|██████████| 59757/59757 [00:05<00:00, 10545.75it/s]\n",
      "  3%|▎         | 1622/59757 [00:00<00:03, 16216.27it/s]"
     ]
    },
    {
     "name": "stdout",
     "output_type": "stream",
     "text": [
      "Training 2-gram language model\n"
     ]
    },
    {
     "name": "stderr",
     "output_type": "stream",
     "text": [
      "100%|██████████| 59757/59757 [00:03<00:00, 18287.66it/s]\n"
     ]
    },
    {
     "name": "stdout",
     "output_type": "stream",
     "text": [
      "The scores on 6-grams are:\n",
      "The model has accuracy 0.7929, with F-measure 0.7703 precision 0.7278 and recall 0.8182\n"
     ]
    },
    {
     "data": {
      "image/png": "[encoded data removed]",
      "text/plain": [
       "<matplotlib.figure.Figure at 0x1e55ef1198>"
      ]
     },
     "metadata": {},
     "output_type": "display_data"
    }
   ],
   "source": [
    "labeled_gram,labeled_ws = exp.load_corpora_from_file(\"Data/hundo_gram\",\"Data/euro.hundo2-mix\")\n",
    "datasplit = int(math.floor(0.8*len(labeled_gram)))\n",
    "training_gram = [sent for sent,label in labeled_gram[:datasplit]]\n",
    "testing_gram = [sent for sent,label in labeled_gram[datasplit:]]\n",
    "\n",
    "training_ws = [sent for sent,label in labeled_ws[:datasplit]]\n",
    "testing_ws = [sent for sent,label in labeled_ws[datasplit:]]\n",
    "\n",
    "models_mix = []\n",
    "for n in range(2,7):\n",
    "    models.append(train_and_test_lau(n,training_gram,training_ws,testing_gram,testing_ws,\"mixed\"))\n"
   ]
  },
  {
   "cell_type": "code",
   "execution_count": null,
   "metadata": {
    "collapsed": true
   },
   "outputs": [],
   "source": []
  }
 ],
 "metadata": {
  "kernelspec": {
   "display_name": "Python [conda env:allen]",
   "language": "python",
   "name": "conda-env-allen-py"
  },
  "language_info": {
   "codemirror_mode": {
    "name": "ipython",
    "version": 3
   },
   "file_extension": ".py",
   "mimetype": "text/x-python",
   "name": "python",
   "nbconvert_exporter": "python",
   "pygments_lexer": "ipython3",
   "version": "3.6.7"
  }
 },
 "nbformat": 4,
 "nbformat_minor": 2
}
