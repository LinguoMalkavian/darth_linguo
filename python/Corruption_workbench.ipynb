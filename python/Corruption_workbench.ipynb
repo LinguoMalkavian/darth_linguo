{
 "cells": [
  {
   "cell_type": "code",
   "execution_count": 1,
   "metadata": {},
   "outputs": [],
   "source": [
    "import spacy\n",
    "import corpus_tools\n",
    "import corruption_tools \n",
    "import os\n",
    "from tqdm import tqdm"
   ]
  },
  {
   "cell_type": "code",
   "execution_count": 2,
   "metadata": {},
   "outputs": [],
   "source": [
    "nlp_med = spacy.load('es_core_news_md')"
   ]
  },
  {
   "cell_type": "code",
   "execution_count": 9,
   "metadata": {
    "scrolled": true
   },
   "outputs": [
    {
     "name": "stderr",
     "output_type": "stream",
     "text": [
      "6it [00:00, 56.35it/s]"
     ]
    },
    {
     "name": "stdout",
     "output_type": "stream",
     "text": [
      "Begining Corruption\n"
     ]
    },
    {
     "name": "stderr",
     "output_type": "stream",
     "text": [
      "235it [00:02, 113.86it/s]"
     ]
    },
    {
     "name": "stdout",
     "output_type": "stream",
     "text": [
      "verbRM:60\n",
      "verbInfl:58\n",
      "adjInfl:62\n",
      "Total: 180\n",
      "Incorruptible: 55\n"
     ]
    },
    {
     "name": "stderr",
     "output_type": "stream",
     "text": [
      "\n"
     ]
    }
   ],
   "source": [
    "\n",
    "# Initialize the array of corruptors\n",
    "corruptortypes = [\"verbRM\", \"verbInfl\", \"adjInfl\"]\n",
    "corruptors = {}\n",
    "corruptors[\"verbRM\"] = corruption_tools.VerbRemover(\"verbRM\", nlp_med)\n",
    "corruptors[\"verbInfl\"] = corruption_tools.VerbInflCorruptor(\"verbInfl\", nlp_med)\n",
    "corruptors[\"adjInfl\"] = corruption_tools.AdjInflCorruptor(\"adjInfl\", nlp_med)\n",
    "# Initialize counters for corrupted sentences\n",
    "corruptCount = {}\n",
    "uncorrupted_count = 0\n",
    "for typ in corruptortypes:\n",
    "    corruptCount[typ] = 0\n",
    "\n",
    "# Load sentence generator\n",
    "# in_corpus_filename = sys.argv[1]()\n",
    "in_corpus_filename = os.path.abspath(\"../data/exp1_mini/exp1_mini-CT\")\n",
    "out_corpus_folder = in_corpus_filename + \"_\"\n",
    "in_corpus_file = open(in_corpus_filename, \"r\")\n",
    "sentence_gen = corpus_tools.sentence_generator(in_corpus_file, nlp_med)\n",
    "\n",
    "# Create outfiles for each type of corrupted sentence\n",
    "outfiles = {}\n",
    "for kind in corruptortypes:\n",
    "    outname = out_corpus_folder + \"corrupted-by_\" + kind\n",
    "    outfiles[kind] = open(outname, \"w\")\n",
    "\n",
    "processed_count = 0\n",
    "# Iterate parsed sentences and test for coruptibility\n",
    "print(\"Begining Corruption\")\n",
    "for parsed_sentence in tqdm(sentence_gen):\n",
    "    \n",
    "    # Test for each corruptor, store the possible transformations\n",
    "    possib_trans = {}\n",
    "    for cor_type in corruptortypes:\n",
    "        target = corruptors[cor_type].test_possible(parsed_sentence)\n",
    "        if target is not None:\n",
    "            possib_trans[cor_type]=target\n",
    "    # Choose corruptor that has the fewest sentences so far\n",
    "    \n",
    "    \n",
    "    success = False\n",
    "    while possib_trans and not success:\n",
    "        #Choose the valid corruption with the fewest sentences\n",
    "        kind, target = corruption_tools.select_corruption(possib_trans, corruptCount)\n",
    "        # Corrupt sentence\n",
    "        corruptedVersion = corruptors[kind].transform(parsed_sentence, target)\n",
    "        if corruptedVersion is not None:\n",
    "            # Save corrupted sentence to corresponding file\n",
    "            outfiles[kind].write(corruptedVersion + \" <eos>\\n\")\n",
    "            corruptCount[kind] += 1\n",
    "            # Finish the while loop\n",
    "            success=True\n",
    "    if not success:\n",
    "        uncorrupted_count += 1\n",
    "    processed_count += 1\n",
    "    \n",
    "# Close files\n",
    "for kind in outfiles:\n",
    "    outfiles[kind].close()\n",
    "# Print summary to console\n",
    "total = 0\n",
    "for trans_type in corruptCount:\n",
    "    print(trans_type + \":\" + str(corruptCount[trans_type]))\n",
    "    total += corruptCount[trans_type]\n",
    "print(\"Total: {0}\".format(total))\n",
    "print(\"Incorruptible: {0}\".format(uncorrupted_count))\n",
    "\n"
   ]
  },
  {
   "cell_type": "code",
   "execution_count": 7,
   "metadata": {},
   "outputs": [],
   "source": [
    "sent = nlp_med(\"Señor Presidente , quieren que mis primeras palabras , al iniciar mi intervención sobre el Libro Blanco , sean de felicitación al ponente , Sr. von Wogau .\")\n",
    "root = [ sentence for sentence in sent.sents ][0].root \n"
   ]
  },
  {
   "cell_type": "code",
   "execution_count": 8,
   "metadata": {},
   "outputs": [
    {
     "name": "stdout",
     "output_type": "stream",
     "text": [
      "Presidente: nsubj, PROPN___\n",
      "felicitación: ccomp, NOUN__Gender=Fem|Number=Sing\n",
      ".: punct, PUNCT__PunctType=Peri\n"
     ]
    }
   ],
   "source": [
    "\n",
    "for child in root.children:\n",
    "    print(str(child) + \": \"+  child.dep_ + \", \"+ child.tag_) "
   ]
  },
  {
   "cell_type": "code",
   "execution_count": 17,
   "metadata": {},
   "outputs": [
    {
     "data": {
      "text/plain": [
       "'amod'"
      ]
     },
     "execution_count": 17,
     "metadata": {},
     "output_type": "execute_result"
    }
   ],
   "source": [
    "adj.dep_"
   ]
  },
  {
   "cell_type": "code",
   "execution_count": 20,
   "metadata": {},
   "outputs": [
    {
     "data": {
      "text/plain": [
       "'NOUN'"
      ]
     },
     "execution_count": 20,
     "metadata": {},
     "output_type": "execute_result"
    }
   ],
   "source": [
    "adj.head.pos_"
   ]
  },
  {
   "cell_type": "code",
   "execution_count": null,
   "metadata": {},
   "outputs": [],
   "source": []
  }
 ],
 "metadata": {
  "kernelspec": {
   "display_name": "Python [conda env:allen]",
   "language": "python",
   "name": "conda-env-allen-py"
  },
  "language_info": {
   "codemirror_mode": {
    "name": "ipython",
    "version": 3
   },
   "file_extension": ".py",
   "mimetype": "text/x-python",
   "name": "python",
   "nbconvert_exporter": "python",
   "pygments_lexer": "ipython3",
   "version": "3.6.7"
  }
 },
 "nbformat": 4,
 "nbformat_minor": 2
}
