{
 "cells": [
  {
   "cell_type": "code",
   "execution_count": 1,
   "metadata": {},
   "outputs": [
    {
     "ename": "FileNotFoundError",
     "evalue": "[Errno 2] No such file or directory: 'lemario_snowball.txt'",
     "output_type": "error",
     "traceback": [
      "\u001b[0;31m---------------------------------------------------------------------------\u001b[0m",
      "\u001b[0;31mFileNotFoundError\u001b[0m                         Traceback (most recent call last)",
      "\u001b[0;32m<ipython-input-1-dccf58f32ae7>\u001b[0m in \u001b[0;36m<module>\u001b[0;34m\u001b[0m\n\u001b[1;32m      1\u001b[0m \u001b[0;32mimport\u001b[0m \u001b[0mspacy\u001b[0m\u001b[0;34m\u001b[0m\u001b[0m\n\u001b[1;32m      2\u001b[0m \u001b[0;32mimport\u001b[0m \u001b[0mcorpus_tools\u001b[0m\u001b[0;34m\u001b[0m\u001b[0m\n\u001b[0;32m----> 3\u001b[0;31m \u001b[0;32mimport\u001b[0m \u001b[0mcorruption_tools\u001b[0m\u001b[0;34m\u001b[0m\u001b[0m\n\u001b[0m",
      "\u001b[0;32m~/Dropbox/workspace/darth_linguo/python/corruption_tools.py\u001b[0m in \u001b[0;36m<module>\u001b[0;34m\u001b[0m\n\u001b[1;32m      6\u001b[0m \u001b[0;31m# Load the dictionary\u001b[0m\u001b[0;34m\u001b[0m\u001b[0;34m\u001b[0m\u001b[0m\n\u001b[1;32m      7\u001b[0m \u001b[0mlemma_list\u001b[0m \u001b[0;34m=\u001b[0m \u001b[0;34m[\u001b[0m\u001b[0;34m]\u001b[0m\u001b[0;34m\u001b[0m\u001b[0m\n\u001b[0;32m----> 8\u001b[0;31m \u001b[0mlemma_file\u001b[0m \u001b[0;34m=\u001b[0m \u001b[0mopen\u001b[0m\u001b[0;34m(\u001b[0m\u001b[0;34m\"lemario_snowball.txt\"\u001b[0m\u001b[0;34m,\u001b[0m \u001b[0;34m\"r\"\u001b[0m\u001b[0;34m)\u001b[0m\u001b[0;34m\u001b[0m\u001b[0m\n\u001b[0m\u001b[1;32m      9\u001b[0m \u001b[0;32mfor\u001b[0m \u001b[0mline\u001b[0m \u001b[0;32min\u001b[0m \u001b[0mlemma_file\u001b[0m\u001b[0;34m.\u001b[0m\u001b[0mreadlines\u001b[0m\u001b[0;34m(\u001b[0m\u001b[0;34m)\u001b[0m\u001b[0;34m:\u001b[0m\u001b[0;34m\u001b[0m\u001b[0m\n\u001b[1;32m     10\u001b[0m     \u001b[0mlemma_list\u001b[0m\u001b[0;34m.\u001b[0m\u001b[0mappend\u001b[0m\u001b[0;34m(\u001b[0m\u001b[0mline\u001b[0m\u001b[0;34m.\u001b[0m\u001b[0mstrip\u001b[0m\u001b[0;34m(\u001b[0m\u001b[0;34m)\u001b[0m\u001b[0;34m)\u001b[0m\u001b[0;34m\u001b[0m\u001b[0m\n",
      "\u001b[0;31mFileNotFoundError\u001b[0m: [Errno 2] No such file or directory: 'lemario_snowball.txt'"
     ]
    }
   ],
   "source": [
    "import spacy\n",
    "import corpus_tools\n",
    "import corruption_tools "
   ]
  },
  {
   "cell_type": "code",
   "execution_count": 2,
   "metadata": {},
   "outputs": [],
   "source": [
    "nlp_small = spacy.load('es_core_news_sm')\n",
    "nlp_med = spacy.load('es_core_news_md')"
   ]
  },
  {
   "cell_type": "code",
   "execution_count": 40,
   "metadata": {},
   "outputs": [
    {
     "name": "stdout",
     "output_type": "stream",
     "text": [
      "37940\n",
      "1232137\n"
     ]
    }
   ],
   "source": [
    "print(len (nlp_small.vocab))\n",
    "print(len (nlp_med.vocab))"
   ]
  },
  {
   "cell_type": "code",
   "execution_count": 36,
   "metadata": {},
   "outputs": [],
   "source": [
    "import os\n",
    "# Load the inflected verb form list\n",
    "verb_list = []\n",
    "verb_list_fn = os.path.abspath(\"../resources/verbos-espanol-conjugaciones.txt\")\n",
    "with open(verb_list_fn) as verb_file:\n",
    "    for line in verb_file.readlines():\n",
    "        verb_list.append(line.strip())"
   ]
  },
  {
   "cell_type": "code",
   "execution_count": 39,
   "metadata": {},
   "outputs": [
    {
     "name": "stdout",
     "output_type": "stream",
     "text": [
      "68926\n",
      "474644\n"
     ]
    }
   ],
   "source": [
    "verbs_in = 0\n",
    "verbs_not_in = 0\n",
    "for verb in verb_list:\n",
    "    verb_id = nlp_med.vocab.strings[verb]\n",
    "    if verb_id in nlp_med.vocab:\n",
    "        verbs_in += 1\n",
    "    else:\n",
    "        verbs_not_in += 1\n",
    "print(verbs_in)\n",
    "print(verbs_not_in)"
   ]
  },
  {
   "cell_type": "code",
   "execution_count": 3,
   "metadata": {
    "scrolled": true
   },
   "outputs": [
    {
     "name": "stdout",
     "output_type": "stream",
     "text": [
      "37940\n",
      "1232137\n"
     ]
    },
    {
     "ename": "NameError",
     "evalue": "name 'transformer' is not defined",
     "output_type": "error",
     "traceback": [
      "\u001b[0;31m---------------------------------------------------------------------------\u001b[0m",
      "\u001b[0;31mNameError\u001b[0m                                 Traceback (most recent call last)",
      "\u001b[0;32m<ipython-input-3-d1f3f0c023af>\u001b[0m in \u001b[0;36m<module>\u001b[0;34m\u001b[0m\n\u001b[1;32m      5\u001b[0m \u001b[0mcorruptortypes\u001b[0m \u001b[0;34m=\u001b[0m \u001b[0;34m[\u001b[0m\u001b[0;34m\"verbRM\"\u001b[0m\u001b[0;34m,\u001b[0m \u001b[0;34m\"verbInfl\"\u001b[0m\u001b[0;34m,\u001b[0m \u001b[0;34m\"adjInfl\"\u001b[0m\u001b[0;34m]\u001b[0m\u001b[0;34m\u001b[0m\u001b[0m\n\u001b[1;32m      6\u001b[0m \u001b[0mcorruptors\u001b[0m \u001b[0;34m=\u001b[0m \u001b[0;34m{\u001b[0m\u001b[0;34m}\u001b[0m\u001b[0;34m\u001b[0m\u001b[0m\n\u001b[0;32m----> 7\u001b[0;31m \u001b[0mcorruptors\u001b[0m\u001b[0;34m[\u001b[0m\u001b[0;34m\"verbRM\"\u001b[0m\u001b[0;34m]\u001b[0m \u001b[0;34m=\u001b[0m \u001b[0mtransformer\u001b[0m\u001b[0;34m.\u001b[0m\u001b[0mVerbRemover\u001b[0m\u001b[0;34m(\u001b[0m\u001b[0;34m\"verbRM\"\u001b[0m\u001b[0;34m)\u001b[0m\u001b[0;34m\u001b[0m\u001b[0m\n\u001b[0m\u001b[1;32m      8\u001b[0m \u001b[0mcorruptors\u001b[0m\u001b[0;34m[\u001b[0m\u001b[0;34m\"verbInfl\"\u001b[0m\u001b[0;34m]\u001b[0m \u001b[0;34m=\u001b[0m \u001b[0mtransformer\u001b[0m\u001b[0;34m.\u001b[0m\u001b[0mVerbInflCorruptor\u001b[0m\u001b[0;34m(\u001b[0m\u001b[0;34m\"verbInfl\"\u001b[0m\u001b[0;34m)\u001b[0m\u001b[0;34m\u001b[0m\u001b[0m\n\u001b[1;32m      9\u001b[0m \u001b[0mcorruptors\u001b[0m\u001b[0;34m[\u001b[0m\u001b[0;34m\"adjInfl\"\u001b[0m\u001b[0;34m]\u001b[0m \u001b[0;34m=\u001b[0m \u001b[0mtransformer\u001b[0m\u001b[0;34m.\u001b[0m\u001b[0mAdjInflCorruptor\u001b[0m\u001b[0;34m(\u001b[0m\u001b[0;34m\"adjInfl\"\u001b[0m\u001b[0;34m)\u001b[0m\u001b[0;34m\u001b[0m\u001b[0m\n",
      "\u001b[0;31mNameError\u001b[0m: name 'transformer' is not defined"
     ]
    }
   ],
   "source": [
    "print( len(nlp_small.vocab))\n",
    "print(len(nlp_med.vocab))\n",
    "\n",
    "# Initialize the array of corruptors\n",
    "corruptortypes = [\"verbRM\", \"verbInfl\", \"adjInfl\"]\n",
    "corruptors = {}\n",
    "corruptors[\"verbRM\"] = transformer.VerbRemover(\"verbRM\")\n",
    "corruptors[\"verbInfl\"] = transformer.VerbInflCorruptor(\"verbInfl\")\n",
    "corruptors[\"adjInfl\"] = transformer.AdjInflCorruptor(\"adjInfl\")\n",
    "# Initialize counters for corrupted sentences\n",
    "corruptCount = {}\n",
    "uncorrupted_count = 0\n",
    "for typ in corruptortypes:\n",
    "    corruptCount[typ] = 0\n",
    "\n",
    "# Load sentence generator\n",
    "# in_corpus_filename = sys.argv[1]()\n",
    "in_corpus_filename = os.path.abspath(\"../data/exp1_mini/exp1_mini-CT\")\n",
    "out_corpus_folder = in_corpus_filename + \".\"\n",
    "in_corpus_file = open(in_corpus_filename, \"r\")\n",
    "sentence_gen = sentence_generator(in_corpus_file, nlp_med)\n",
    "\n",
    "# Create outfiles for each type of corrupted sentence\n",
    "outfiles = {}\n",
    "for kind in corruptortypes:\n",
    "    outname = out_corpus_folder + \"corrupted_by.\" + kind\n",
    "    outfiles[kind] = open(outname, \"w\")\n",
    "\n",
    "processed_count = 0\n",
    "# Iterate parsed sentences and test for coruptibility\n",
    "print(\"Begining Corruption\")\n",
    "for parsed_sentence in sentence_gen:\n",
    "    posib_trans = []\n",
    "    # Test for each corruptor\n",
    "    for corr in corruptortypes:\n",
    "        possibility = corruptors[corr].test_possible(parsed_sentence)\n",
    "        if possibility:\n",
    "            posib_trans.append(corr)\n",
    "\n",
    "    # Choose corruptor that has the fewest sentences so far\n",
    "    select = None\n",
    "    selectCount = float(\"inf\")\n",
    "    for possib in posib_trans:\n",
    "        if corruptCount[possib] < selectCount:\n",
    "            select = possib\n",
    "            selectCount = corruptCount[possib]\n",
    "\n",
    "    if select:\n",
    "        # Corrupt sentence\n",
    "        corruptedVersion = corruptors[select].transform(parsed_sentence)\n",
    "        if corruptedVersion != -1:\n",
    "            # Save corrupted sentence to corresponding file\n",
    "            outfiles[select].write(corruptedVersion)\n",
    "            corruptCount[select] += 1\n",
    "        else:\n",
    "            uncorrupted_count += 1\n",
    "    else:\n",
    "        uncorrupted_count += 1\n",
    "    processed_count += 1\n",
    "    # Progress checker, for sanity\n",
    "    if processed_count % 500 == 0:\n",
    "        print(\"{} sentences processed\".format(processed_count))\n",
    "# Close files\n",
    "for kind in outfiles:\n",
    "    outfiles[kind].close()\n",
    "# Print summary to console\n",
    "total = 0\n",
    "for trans_type in corruptCount:\n",
    "    print(trans_type + \":\" + str(corruptCount[trans_type]))\n",
    "    total += corruptCount[trans_type]\n",
    "print(\"Total: {0}\".format(total))\n",
    "print(\"Incorruptible: {0}\".format(uncorrupted_count))\n",
    "\n"
   ]
  },
  {
   "cell_type": "code",
   "execution_count": null,
   "metadata": {},
   "outputs": [],
   "source": []
  }
 ],
 "metadata": {
  "kernelspec": {
   "display_name": "Python [conda env:allen]",
   "language": "python",
   "name": "conda-env-allen-py"
  },
  "language_info": {
   "codemirror_mode": {
    "name": "ipython",
    "version": 3
   },
   "file_extension": ".py",
   "mimetype": "text/x-python",
   "name": "python",
   "nbconvert_exporter": "python",
   "pygments_lexer": "ipython3",
   "version": "3.6.6"
  }
 },
 "nbformat": 4,
 "nbformat_minor": 2
}
