{
 "cells": [
  {
   "cell_type": "code",
   "execution_count": 4,
   "metadata": {},
   "outputs": [],
   "source": [
    "import spacy\n",
    "import corpus_tools"
   ]
  },
  {
   "cell_type": "code",
   "execution_count": 2,
   "metadata": {},
   "outputs": [],
   "source": [
    "nlp_small = spacy.load('es_core_news_sm')\n",
    "nlp_med = spacy.load('es_core_news_md')"
   ]
  },
  {
   "cell_type": "code",
   "execution_count": 3,
   "metadata": {
    "scrolled": true
   },
   "outputs": [
    {
     "name": "stdout",
     "output_type": "stream",
     "text": [
      "37940\n",
      "1232137\n",
      "Hello I am just a string in the console\n"
     ]
    }
   ],
   "source": [
    "print( len(nlp_small.vocab))\n",
    "print(len(nlp_med.vocab))\n",
    "\n",
    "# Initialize the array of corruptors\n",
    "corruptortypes = [\"prepRM\", \"verbRM\", \"verbInfl\", \"adjInfl\"]\n",
    "corruptors = {}\n",
    "corruptors[\"verbRM\"] = transformer.VerbRemover(\"verbRM\")\n",
    "corruptors[\"verbInfl\"] = transformer.VerbInflCorruptor(\"verbInfl\")\n",
    "corruptors[\"adjInfl\"] = transformer.AdjInflCorruptor(\"adjInfl\")\n",
    "# Initialize counters for corrupted sentences\n",
    "corruptCount = {}\n",
    "uncorrupted_count = 0\n",
    "for typ in corruptortypes:\n",
    "    corruptCount[typ] = 0\n",
    "\n",
    "# Load sentence generator\n",
    "# in_corpus_filename = sys.argv[1]()\n",
    "in_corpus_filename = \"../data/\"\n",
    "out_corpus_folder = in_corpus_filename + \".\"\n",
    "in_corpus_file = open(in_corpus_filename, \"r\")\n",
    "sentence_gen = sentence_generator(in_corpus_file, nlp_mod)\n",
    "\n",
    "# Create outfiles for each type of corrupted sentence\n",
    "outfiles = {}\n",
    "for kind in corruptortypes:\n",
    "    outname = out_corpus_folder + \"corrupted_by.\" + kind\n",
    "    outfiles[kind] = open(outname, \"w\")\n",
    "\n",
    "processed_count = 0\n",
    "# Iterate parsed sentences and test for coruptibility\n",
    "print(\"Begining Corruption\")\n",
    "for parsed_sentence in sentence_gen:\n",
    "    posib_trans = []\n",
    "    # Test for each corruptor\n",
    "    for corr in corruptortypes:\n",
    "        possibility = corruptors[corr].test_possible(parsed_sentence)\n",
    "        if possibility:\n",
    "            posib_trans.append(corr)\n",
    "\n",
    "    # Choose corruptor that has the fewest sentences so far\n",
    "    select = None\n",
    "    selectCount = float(\"inf\")\n",
    "    for possib in posib_trans:\n",
    "        if corruptCount[possib] < selectCount:\n",
    "            select = possib\n",
    "            selectCount = corruptCount[possib]\n",
    "\n",
    "    if select:\n",
    "        # Corrupt sentence\n",
    "        corruptedVersion = corruptors[select].transform(parsed_sentence)\n",
    "        if corruptedVersion != -1:\n",
    "            # Save corrupted sentence to corresponding file\n",
    "            outfiles[select].write(corruptedVersion)\n",
    "            corruptCount[select] += 1\n",
    "        else:\n",
    "            uncorrupted_count += 1\n",
    "    else:\n",
    "        uncorrupted_count += 1\n",
    "    processed_count += 1\n",
    "    # Progress checker, for sanity\n",
    "    if processed_count % 500 == 0:\n",
    "        print(\"{} sentences processed\".format(processed_count))\n",
    "# Close files\n",
    "for kind in outfiles:\n",
    "    outfiles[kind].close()\n",
    "# Print summary to console\n",
    "total = 0\n",
    "for trans_type in corruptCount:\n",
    "    print(trans_type + \":\" + str(corruptCount[trans_type]))\n",
    "    total += corruptCount[trans_type]\n",
    "print(\"Total: {0}\".format(total))\n",
    "print(\"Incorruptible: {0}\".format(uncorrupted_count))\n",
    "\n"
   ]
  },
  {
   "cell_type": "code",
   "execution_count": null,
   "metadata": {},
   "outputs": [],
   "source": []
  }
 ],
 "metadata": {
  "kernelspec": {
   "display_name": "Python [conda env:allen]",
   "language": "python",
   "name": "conda-env-allen-py"
  },
  "language_info": {
   "codemirror_mode": {
    "name": "ipython",
    "version": 3
   },
   "file_extension": ".py",
   "mimetype": "text/x-python",
   "name": "python",
   "nbconvert_exporter": "python",
   "pygments_lexer": "ipython3",
   "version": "3.6.6"
  }
 },
 "nbformat": 4,
 "nbformat_minor": 2
}
