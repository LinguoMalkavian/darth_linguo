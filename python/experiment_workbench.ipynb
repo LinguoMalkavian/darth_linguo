{
 "cells": [
  {
   "cell_type": "markdown",
   "metadata": {},
   "source": [
    "# Experiment to check on behaviour of trained model with any sentence\n",
    "\n",
    "The following cells load a trained model and provide a way to test it on any sentence or collection of sentences"
   ]
  },
  {
   "cell_type": "code",
   "execution_count": 1,
   "metadata": {},
   "outputs": [],
   "source": [
    "#Imports only\n",
    "import experimenter\n",
    "from experimenter import Linguo\n",
    "import corpus_tools\n",
    "from time import time"
   ]
  },
  {
   "cell_type": "code",
   "execution_count": 2,
   "metadata": {},
   "outputs": [],
   "source": [
    "\n",
    "corpus_name = \"euro_mini\"\n",
    "embed_dim = 32\n",
    "lstm_dim = 32\n",
    "hidden_dim = 32\n",
    "epochs = 5\n",
    "learning_rate = 0.1\n",
    "use_gpu = False\n",
    "noiseName=\"mix-gramWS\"\n",
    "\n",
    "exp = experimenter.Experimenter(corpus_name, embed_dim, lstm_dim, hidden_dim,\n",
    "                           epochs, learning_rate, use_gpu)\n"
   ]
  },
  {
   "cell_type": "code",
   "execution_count": 3,
   "metadata": {},
   "outputs": [],
   "source": [
    "#Load a model, if there are no available models, train it\n",
    "model = exp.loadModel(noiseName)\n",
    "if not model:\n",
    "    print(\"Training model against {} noise\".format(noiseName))\n",
    "    # Load the training corpus\n",
    "    exp.word2id = corpus_tools.loadWord2Id(exp.corpusPath)\n",
    "    gramTrain_fn = exp.corpusPath + \"-grammatical-train\"\n",
    "    noiseTrain_fn = exp.corpusPath + \"-\" + noiseName + \"-train\"\n",
    "    labeledTrain = corpus_tools.getLabeledData(gramTrain_fn, noiseTrain_fn)\n",
    "\n",
    "    # Train the Model\n",
    "    model = exp.train_model(labeledTrain)\n",
    "    exp.saveModel(model, noiseName)\n",
    "    trainDoneT = time()\n",
    "    training_time = corpus_tools.seconds_to_hms(trainDoneT - startingTime)\n"
   ]
  },
  {
   "cell_type": "code",
   "execution_count": 7,
   "metadata": {},
   "outputs": [
    {
     "ename": "NameError",
     "evalue": "name 'torch' is not defined",
     "output_type": "error",
     "traceback": [
      "\u001b[0;31m---------------------------------------------------------------------------\u001b[0m",
      "\u001b[0;31mNameError\u001b[0m                                 Traceback (most recent call last)",
      "\u001b[0;32m<ipython-input-7-3b0bada935d3>\u001b[0m in \u001b[0;36m<module>\u001b[0;34m()\u001b[0m\n\u001b[1;32m      1\u001b[0m \u001b[0mwordId\u001b[0m \u001b[0;34m=\u001b[0m \u001b[0mexp\u001b[0m\u001b[0;34m.\u001b[0m\u001b[0mword2id\u001b[0m\u001b[0;34m\u001b[0m\u001b[0m\n\u001b[0;32m----> 2\u001b[0;31m \u001b[0mmodel\u001b[0m\u001b[0;34m.\u001b[0m\u001b[0mword_embeddings\u001b[0m\u001b[0;34m(\u001b[0m\u001b[0mtorch\u001b[0m\u001b[0;34m.\u001b[0m\u001b[0mtensor\u001b[0m\u001b[0;34m(\u001b[0m\u001b[0mwordId\u001b[0m\u001b[0;34m[\u001b[0m\u001b[0;34m\"diversos\"\u001b[0m\u001b[0;34m]\u001b[0m\u001b[0;34m)\u001b[0m\u001b[0;34m)\u001b[0m\u001b[0;34m\u001b[0m\u001b[0m\n\u001b[0m",
      "\u001b[0;31mNameError\u001b[0m: name 'torch' is not defined"
     ]
    }
   ],
   "source": [
    "wordId = exp.word2id\n"
   ]
  },
  {
   "cell_type": "code",
   "execution_count": 10,
   "metadata": {},
   "outputs": [],
   "source": [
    "exp.word2id = corpus_tools.loadWord2Id(exp.corpusPath)\n",
    "gramTrain_fn = exp.corpusPath + \"-grammatical-train\"\n",
    "noiseTrain_fn = exp.corpusPath + \"-\" + noiseName + \"-train\"\n",
    "labeledTrain = corpus_tools.getLabeledData(gramTrain_fn, noiseTrain_fn)"
   ]
  },
  {
   "cell_type": "code",
   "execution_count": 13,
   "metadata": {},
   "outputs": [
    {
     "data": {
      "text/plain": [
       "(['Por',\n",
       "  'lo',\n",
       "  'demás',\n",
       "  ',',\n",
       "  'constato',\n",
       "  'que',\n",
       "  'esta',\n",
       "  'cifra',\n",
       "  'de',\n",
       "  '90',\n",
       "  'animales',\n",
       "  'es',\n",
       "  'aplicable',\n",
       "  'a',\n",
       "  'todas',\n",
       "  'las',\n",
       "  'explotaciones',\n",
       "  ';',\n",
       "  'no',\n",
       "  'es',\n",
       "  'así',\n",
       "  'pues',\n",
       "  'que',\n",
       "  'las',\n",
       "  'explotaciones',\n",
       "  'con',\n",
       "  'más',\n",
       "  'animales',\n",
       "  'queden',\n",
       "  'fuera',\n",
       "  'de',\n",
       "  'la',\n",
       "  'norma',\n",
       "  ',',\n",
       "  'lo',\n",
       "  'que',\n",
       "  'figuraba',\n",
       "  'erróneamente',\n",
       "  'en',\n",
       "  'el',\n",
       "  'periódico',\n",
       "  '.',\n",
       "  '<eos>'],\n",
       " 1)"
      ]
     },
     "execution_count": 13,
     "metadata": {},
     "output_type": "execute_result"
    }
   ],
   "source": [
    "labeledTrain[2]"
   ]
  },
  {
   "cell_type": "code",
   "execution_count": null,
   "metadata": {
    "collapsed": true
   },
   "outputs": [],
   "source": []
  }
 ],
 "metadata": {
  "kernelspec": {
   "display_name": "Python 3",
   "language": "python",
   "name": "python3"
  },
  "language_info": {
   "codemirror_mode": {
    "name": "ipython",
    "version": 3
   },
   "file_extension": ".py",
   "mimetype": "text/x-python",
   "name": "python",
   "nbconvert_exporter": "python",
   "pygments_lexer": "ipython3",
   "version": "3.6.7"
  }
 },
 "nbformat": 4,
 "nbformat_minor": 2
}
