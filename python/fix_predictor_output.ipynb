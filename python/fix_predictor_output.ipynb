{
 "cells": [
  {
   "cell_type": "code",
   "execution_count": 3,
   "metadata": {},
   "outputs": [],
   "source": [
    "import json\n",
    "import os\n",
    "\n",
    "results_dir = os.path.abspath(\"../results/pairtest/classifier_results/\")\n",
    "\n",
    "for filename in os.listdir(results_dir):\n",
    "    fullpath = os.path.join(results_dir, filename)\n",
    "    results = []\n",
    "    if not os.path.isdir(fullpath):\n",
    "        with open(fullpath, \"r\") as res_file:\n",
    "            for line in res_file.readlines():\n",
    "                obj = json.loads(line)\n",
    "                results.append(obj)\n",
    "        with open(fullpath,\"w\") as res_file:\n",
    "            for outcome in results:\n",
    "                scores = outcome[\"tag_logits\"]\n",
    "                if scores[0] > scores[1]:\n",
    "                    outcome[\"predicted_label\"] = \"grammatical\"\n",
    "                else:\n",
    "                    outcome[\"predicted_label\"] = \"ungrammatical\"\n",
    "                print(json.dumps(outcome), file=res_file)"
   ]
  },
  {
   "cell_type": "code",
   "execution_count": null,
   "metadata": {},
   "outputs": [],
   "source": []
  }
 ],
 "metadata": {
  "kernelspec": {
   "display_name": "Python (allennlp)",
   "language": "python",
   "name": "allenlp"
  },
  "language_info": {
   "codemirror_mode": {
    "name": "ipython",
    "version": 3
   },
   "file_extension": ".py",
   "mimetype": "text/x-python",
   "name": "python",
   "nbconvert_exporter": "python",
   "pygments_lexer": "ipython3",
   "version": "3.6.8"
  }
 },
 "nbformat": 4,
 "nbformat_minor": 2
}
