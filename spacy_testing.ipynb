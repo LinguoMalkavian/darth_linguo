{
 "cells": [
  {
   "cell_type": "code",
   "execution_count": 1,
   "metadata": {},
   "outputs": [],
   "source": [
    "import spacy\n",
    "mod = spacy.load('es')\n",
    "doc = mod(u\"Esta es una oración.\")"
   ]
  },
  {
   "cell_type": "code",
   "execution_count": 2,
   "metadata": {},
   "outputs": [
    {
     "name": "stdout",
     "output_type": "stream",
     "text": [
      "Que 754 que 689 SCONJ___ 96 SCONJ\n",
      "los 761 los 525 DET__Definite=Def|Gender=Masc|Number=Plur|PronType=Art 88 DET\n",
      "buenos 1396 buenos 456 ADJ__Gender=Masc|Number=Plur 82 ADJ\n",
      "jueces 7184 jueces 585 NOUN__Number=Plur 90 NOUN\n",
      "comieron 47588 comieron 716 VERB__Mood=Ind|Number=Plur|Person=3|Tense=Past|VerbForm=Fin 98 VERB\n",
      "en 759 en 465 ADP__AdpType=Prep 83 ADP\n",
      "la 750 la 524 DET__Definite=Def|Gender=Fem|Number=Sing|PronType=Art 88 DET\n",
      "celebración 4642 celebración 579 NOUN__Gender=Fem|Number=Sing 90 NOUN\n"
     ]
    }
   ],
   "source": [
    "doc = mod(u\"Que los buenos jueces comieron en la celebración\")\n",
    "for word in doc:\n",
    "    print(word.text, word.lemma, word.lemma_, word.tag, word.tag_, word.pos, word.pos_)"
   ]
  },
  {
   "cell_type": "code",
   "execution_count": 3,
   "metadata": {},
<<<<<<< HEAD
   "outputs": [],
   "source": [
    "import re\n",
    "feat_regex = \"(\\w+)=(\\w+)\"\n",
    "type(doc[2].tag_)\n",
    "sentence = next(doc.sents)"
   ]
  },
  {
   "cell_type": "code",
   "execution_count": 4,
   "metadata": {},
||||||| merged common ancestors
=======
   "outputs": [],
   "source": [
    "import re\n",
    "feat_regex = \"(\\w+)=(\\w+)\"\n",
    "type(doc[2].tag_)\n",
    "sentence = next(doc.sents)"
   ]
  },
  {
   "cell_type": "code",
   "execution_count": 4,
   "metadata": {},
   "outputs": [
    {
     "name": "stdout",
     "output_type": "stream",
     "text": [
      "que\n",
      "los\n",
      "buenos\n",
      "jueces\n",
      "comieron\n",
      "en\n",
      "la\n",
      "celebración\n"
     ]
    }
   ],
   "source": [
    "import transformer\n",
    "type(sentence)\n",
    "for token in sentence:\n",
    "    print(token.lemma_)"
   ]
  },
  {
   "cell_type": "code",
   "execution_count": 5,
   "metadata": {},
>>>>>>> 9b48918b36f9fd95b735584b320a07bdffa0ab2b
   "outputs": [
    {
<<<<<<< HEAD
     "name": "stdout",
     "output_type": "stream",
     "text": [
      "que\n",
      "los\n",
      "buenos\n",
      "jueces\n",
      "comieron\n",
      "en\n",
      "la\n",
      "celebración\n"
     ]
||||||| merged common ancestors
     "data": {
      "text/plain": [
       "{'author': 'recogn.ai',\n",
       " 'description': 'Spanish model with dependency parser, tagger, NER and GloVe vectors from CommonCrawl',\n",
       " 'email': 'daniel@recogn.ai',\n",
       " 'lang': 'es',\n",
       " 'license': 'CC BY-SA 3.0',\n",
       " 'name': 'core_web_md',\n",
       " 'spacy_version': '>=1.8.0,<2.0.0',\n",
       " 'url': 'recogn.ai',\n",
       " 'version': '1.0.0'}"
      ]
     },
     "execution_count": 3,
     "metadata": {},
     "output_type": "execute_result"
=======
     "data": {
      "text/plain": [
       "'Que los buenos jueces comió en la celebración'"
      ]
     },
     "execution_count": 5,
     "metadata": {},
     "output_type": "execute_result"
>>>>>>> 9b48918b36f9fd95b735584b320a07bdffa0ab2b
    }
   ],
   "source": [
<<<<<<< HEAD
    "import transformer\n",
    "type(sentence)\n",
    "for token in sentence:\n",
    "    print(token.lemma_)"
||||||| merged common ancestors
    "mod.meta"
=======
    "transformer.extract_token_features(doc[2])\n",
    "verbCorruptor = transformer.VerbInflCorruptor(\"verbInf\")\n",
    "verbCorruptor.transform(sentence)\n"
>>>>>>> 9b48918b36f9fd95b735584b320a07bdffa0ab2b
   ]
<<<<<<< HEAD
  },
  {
   "cell_type": "code",
   "execution_count": 7,
   "metadata": {},
   "outputs": [
    {
     "name": "stdout",
     "output_type": "stream",
     "text": [
      "Que los buenos jueces comisteis en la celebración\n",
      "Que los buena jueces comieron en la celebración\n"
     ]
    }
   ],
   "source": [
    "transformer.extract_token_features(doc[2])\n",
    "verbCorruptor = transformer.VerbInflCorruptor(\"verbInf\")\n",
    "print(verbCorruptor.transform(sentence))\n",
    "adjCorruptor = transformer.AdjInflCorruptor(\"adjInf\")\n",
    "print(adjCorruptor.transform(sentence))"
   ]
  },
  {
   "cell_type": "code",
   "execution_count": null,
   "metadata": {
    "collapsed": true
   },
   "outputs": [],
   "source": []
||||||| merged common ancestors
=======
  },
  {
   "cell_type": "code",
   "execution_count": null,
   "metadata": {
    "collapsed": true
   },
   "outputs": [],
   "source": []
>>>>>>> 9b48918b36f9fd95b735584b320a07bdffa0ab2b
  }
 ],
 "metadata": {
  "kernelspec": {
   "display_name": "Python 3",
   "language": "python",
   "name": "python3"
  },
  "language_info": {
   "codemirror_mode": {
    "name": "ipython",
    "version": 3
   },
   "file_extension": ".py",
   "mimetype": "text/x-python",
   "name": "python",
   "nbconvert_exporter": "python",
   "pygments_lexer": "ipython3",
   "version": "3.6.2"
  }
 },
 "nbformat": 4,
 "nbformat_minor": 2
}
