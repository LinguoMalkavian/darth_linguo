{
 "cells": [
  {
   "cell_type": "code",
   "execution_count": 2,
   "metadata": {},
   "outputs": [],
   "source": [
    "import spacy\n",
    "mod = spacy.load('es')\n",
    "doc = mod(u\"Esta es una oración.\")"
   ]
  },
  {
   "cell_type": "code",
   "execution_count": 3,
   "metadata": {},
   "outputs": [
    {
     "data": {
      "text/plain": [
       "{'author': 'recogn.ai',\n",
       " 'description': 'Spanish model with dependency parser, tagger, NER and GloVe vectors from CommonCrawl',\n",
       " 'email': 'daniel@recogn.ai',\n",
       " 'lang': 'es',\n",
       " 'license': 'CC BY-SA 3.0',\n",
       " 'name': 'core_web_md',\n",
       " 'spacy_version': '>=1.8.0,<2.0.0',\n",
       " 'url': 'recogn.ai',\n",
       " 'version': '1.0.0'}"
      ]
     },
     "execution_count": 3,
     "metadata": {},
     "output_type": "execute_result"
    }
   ],
   "source": [
    "mod.meta"
   ]
  }
 ],
 "metadata": {
  "kernelspec": {
   "display_name": "Python 3",
   "language": "python",
   "name": "python3"
  },
  "language_info": {
   "codemirror_mode": {
    "name": "ipython",
    "version": 3
   },
   "file_extension": ".py",
   "mimetype": "text/x-python",
   "name": "python",
   "nbconvert_exporter": "python",
   "pygments_lexer": "ipython3",
   "version": "3.6.2"
  }
 },
 "nbformat": 4,
 "nbformat_minor": 2
}
