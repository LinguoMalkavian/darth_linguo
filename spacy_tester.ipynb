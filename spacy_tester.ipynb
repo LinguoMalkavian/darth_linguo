{
 "cells": [
  {
   "cell_type": "code",
   "execution_count": 1,
   "metadata": {
    "collapsed": true
   },
   "outputs": [],
   "source": [
    "import spacy\n",
    "mod = spacy.load('es')\n"
   ]
  },
  {
   "cell_type": "code",
   "execution_count": 2,
   "metadata": {},
   "outputs": [],
   "source": [
    "doc = mod(u\"Cuando los cerdos vuelen, esa niña bonita saldrá contigo para comer.\")"
   ]
  },
  {
   "cell_type": "code",
   "execution_count": 3,
   "metadata": {},
   "outputs": [
    {
     "name": "stdout",
     "output_type": "stream",
     "text": [
      "Token:Cuando\n",
      "Head:vuelen\n",
      "Dependency:mark\n",
      "Dependency code:419\n",
      "Features:SCONJ___\n"
     ]
    },
    {
     "ename": "NameError",
     "evalue": "name 'transformer' is not defined",
     "output_type": "error",
     "traceback": [
      "\u001b[0;31m---------------------------------------------------------------------------\u001b[0m",
      "\u001b[0;31mNameError\u001b[0m                                 Traceback (most recent call last)",
      "\u001b[0;32m<ipython-input-3-d32065dbdb36>\u001b[0m in \u001b[0;36m<module>\u001b[0;34m()\u001b[0m\n\u001b[1;32m      7\u001b[0m     \u001b[0mprint\u001b[0m\u001b[0;34m(\u001b[0m\u001b[0;34m\"Dependency code:{}\"\u001b[0m\u001b[0;34m.\u001b[0m\u001b[0mformat\u001b[0m\u001b[0;34m(\u001b[0m\u001b[0mtoken\u001b[0m\u001b[0;34m.\u001b[0m\u001b[0mdep\u001b[0m\u001b[0;34m)\u001b[0m\u001b[0;34m)\u001b[0m\u001b[0;34m\u001b[0m\u001b[0m\n\u001b[1;32m      8\u001b[0m     \u001b[0mprint\u001b[0m\u001b[0;34m(\u001b[0m\u001b[0;34m\"Features:{}\"\u001b[0m\u001b[0;34m.\u001b[0m\u001b[0mformat\u001b[0m\u001b[0;34m(\u001b[0m\u001b[0mtoken\u001b[0m\u001b[0;34m.\u001b[0m\u001b[0mtag_\u001b[0m\u001b[0;34m)\u001b[0m\u001b[0;34m)\u001b[0m\u001b[0;34m\u001b[0m\u001b[0m\n\u001b[0;32m----> 9\u001b[0;31m     \u001b[0mfeatures\u001b[0m \u001b[0;34m=\u001b[0m \u001b[0mtransformer\u001b[0m\u001b[0;34m.\u001b[0m\u001b[0mextract_token_features\u001b[0m\u001b[0;34m(\u001b[0m\u001b[0mtoken\u001b[0m\u001b[0;34m)\u001b[0m\u001b[0;34m\u001b[0m\u001b[0m\n\u001b[0m\u001b[1;32m     10\u001b[0m     \u001b[0mprint\u001b[0m\u001b[0;34m(\u001b[0m\u001b[0mfeatures\u001b[0m\u001b[0;34m)\u001b[0m\u001b[0;34m\u001b[0m\u001b[0m\n\u001b[1;32m     11\u001b[0m     \u001b[0mprint\u001b[0m\u001b[0;34m(\u001b[0m\u001b[0;34m\"-------------\"\u001b[0m\u001b[0;34m)\u001b[0m\u001b[0;34m\u001b[0m\u001b[0m\n",
      "\u001b[0;31mNameError\u001b[0m: name 'transformer' is not defined"
     ]
    }
   ],
   "source": [
    "from spacy import symbols\n",
    "\n",
    "for token in doc:\n",
    "    print(\"Token:{}\".format(token))\n",
    "    print(\"Head:{}\".format(token.head))\n",
    "    print(\"Dependency:{}\".format(token.dep_)) \n",
    "    print(\"Dependency code:{}\".format(token.dep)) \n",
    "    print(\"Features:{}\".format(token.tag_))\n",
    "    features = transformer.extract_token_features(token)\n",
    "    print(features)\n",
    "    print(\"-------------\")\n",
    "    \n",
    "print(doc[1].pos_)\n"
   ]
  },
  {
   "cell_type": "code",
   "execution_count": null,
   "metadata": {},
   "outputs": [],
   "source": [
    "import transformer\n",
    "trans_VerbRM = transformer.VerbRemover(\"VerbRm\")\n",
    "trans_VerbInfl = transformer.VerbInflCorruptor(\"VerbInfl\")\n",
    "trans_AdjInfl = transformer.AdjInflCorruptor(\"AdjInfl\")\n",
    "trans_PrepRM = transformer.PrepRemover(\"AdjInfl\")\n",
    "print(\"Adjectival Corruption\")\n",
    "print(trans_AdjInfl.test_possible(doc))\n",
    "print(trans_AdjInfl.transform(doc))\n",
    "print(\"---------\")\n",
    "print(\"Verbal Corruption\")\n",
    "print(trans_VerbInfl.test_possible(doc))\n",
    "print(trans_VerbInfl.transform(doc))\n",
    "print(\"---------\")\n",
    "print(\"Verbal Corruption\")\n",
    "print(\"Verb Removal\")\n",
    "print(trans_VerbRM.test_possible(doc))\n",
    "print(trans_VerbRM.transform(doc))\n",
    "print(\"---------\")\n",
    "print(\"Prep Removal\")\n",
    "print(trans_PrepRM.test_possible(doc))\n",
    "print(trans_PrepRM.transform(doc))\n",
    "print(\"---------\")"
   ]
  },
  {
   "cell_type": "code",
   "execution_count": null,
   "metadata": {},
   "outputs": [],
   "source": []
  },
  {
   "cell_type": "code",
   "execution_count": null,
   "metadata": {
    "collapsed": true
   },
   "outputs": [],
   "source": []
  }
 ],
 "metadata": {
  "kernelspec": {
   "display_name": "Python 3",
   "language": "python",
   "name": "python3"
  },
  "language_info": {
   "codemirror_mode": {
    "name": "ipython",
    "version": 3
   },
   "file_extension": ".py",
   "mimetype": "text/x-python",
   "name": "python",
   "nbconvert_exporter": "python",
   "pygments_lexer": "ipython3",
   "version": "3.6.2"
  }
 },
 "nbformat": 4,
 "nbformat_minor": 2
}
