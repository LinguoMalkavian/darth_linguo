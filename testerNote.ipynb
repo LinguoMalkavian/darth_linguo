{
 "cells": [
  {
   "cell_type": "code",
   "execution_count": 1,
   "metadata": {
    "collapsed": true
   },
   "outputs": [],
   "source": [
    "import tree_handler"
   ]
  },
  {
   "cell_type": "code",
   "execution_count": 2,
   "metadata": {},
   "outputs": [
    {
     "name": "stdout",
     "output_type": "stream",
     "text": [
      "Esta es la primera oración de el ejemplo \n"
     ]
    }
   ],
   "source": [
    "testString=\"\"\"(ROOT\n",
    "  (sentence\n",
    "    (sn\n",
    "      (grup.nom (pd000000 Esta)))\n",
    "    (grup.verb (vsip000 es))\n",
    "    (sn\n",
    "      (spec (da0000 la))\n",
    "      (grup.nom\n",
    "        (s.a\n",
    "          (grup.a (ao0000 primera)))\n",
    "        (nc0s000 oración)\n",
    "        (sp\n",
    "          (prep (sp000 de))\n",
    "          (sn\n",
    "            (spec (da0000 el))\n",
    "            (grup.nom (nc0s000 ejemplo))))))\n",
    "    (fp .)))\"\"\"\n",
    "sampleTree= tree_handler.loadTree(testString)\n",
    "\n",
    "print(sampleTree.consolidateText())\n"
   ]
  },
  {
   "cell_type": "code",
   "execution_count": 3,
   "metadata": {},
   "outputs": [
    {
     "name": "stdout",
     "output_type": "stream",
     "text": [
      "ROOT\n",
      "sn\n",
      "grup.verb\n",
      "sn\n",
      "fp\n"
     ]
    }
   ],
   "source": [
    "print(sampleTree.kind)\n",
    "for daughter in sampleTree.daughters[0].daughters:\n",
    "    print(daughter.kind)\n"
   ]
  },
  {
   "cell_type": "code",
   "execution_count": 4,
   "metadata": {},
   "outputs": [
    {
     "name": "stdout",
     "output_type": "stream",
     "text": [
      "pd000000\n",
      "True\n"
     ]
    }
   ],
   "source": [
    "reviewnode=sampleTree.daughters[0].daughters[0].daughters[0].daughters[0]\n",
    "print(reviewnode.kind)\n",
    "print(reviewnode.isTerminal)"
   ]
  },
  {
   "cell_type": "code",
   "execution_count": 3,
   "metadata": {},
   "outputs": [
    {
     "name": "stdout",
     "output_type": "stream",
     "text": [
      "Nueva Frase\n",
      "6066\n",
      "Nueva Frase\n",
      "2660\n",
      "Nueva Frase\n",
      "2835\n",
      "Nueva Frase\n",
      "3674\n",
      "Nueva Frase\n",
      "6641\n",
      "Nueva Frase\n",
      "2547\n",
      "Nueva Frase\n",
      "2912\n"
     ]
    }
   ],
   "source": [
    "import tree_handler\n",
    "\n",
    "in_file=open(\"euro.head\",\"r\")\n",
    "gen = tree_handler.sentence_generator(in_file)\n",
    "for sent_item in gen:\n",
    "    print(\"Nueva Frase\")\n",
    "    print(len(sent_item))\n"
   ]
  },
  {
   "cell_type": "code",
   "execution_count": 14,
   "metadata": {},
   "outputs": [
    {
     "name": "stdout",
     "output_type": "stream",
     "text": [
      "booo\n"
     ]
    }
   ],
   "source": [
    "import re\n",
    "item_regex = re.compile(\n",
    "    \"\\[Text=([A-Za-záéíóúñÑÁÉÍÓÚ0-9]+|[\\\",.;:]) CharacterOffsetBegin=\\d+ CharacterOffsetEnd=\\d+ PartOfSpeech=([a-z0]{1,8}) NamedEntityTag=\\w+\\]\")\n",
    "match=item_regex.match(\"[Text=Reanudación CharacterOffsetBegin=0 CharacterOffsetEnd=11 PartOfSpeech=nc0s000 NamedEntityTag=O]\")\n",
    "non_match = item_regex.match(\"foo\")\n",
    "if non_match:\n",
    "    print(\"yeyy\")\n",
    "else:\n",
    "    print(\"booo\")"
   ]
  },
  {
   "cell_type": "code",
   "execution_count": 17,
   "metadata": {},
   "outputs": [
    {
     "data": {
      "text/plain": [
       "True"
      ]
     },
     "execution_count": 17,
     "metadata": {},
     "output_type": "execute_result"
    }
   ],
   "source": [
    "non_match == None"
   ]
  },
  {
   "cell_type": "code",
   "execution_count": null,
   "metadata": {
    "collapsed": true
   },
   "outputs": [],
   "source": []
  },
  {
   "cell_type": "code",
   "execution_count": null,
   "metadata": {
    "collapsed": true
   },
   "outputs": [],
   "source": []
  }
 ],
 "metadata": {
  "kernelspec": {
   "display_name": "Python 3",
   "language": "python",
   "name": "python3"
  },
  "language_info": {
   "codemirror_mode": {
    "name": "ipython",
    "version": 3
   },
   "file_extension": ".py",
   "mimetype": "text/x-python",
   "name": "python",
   "nbconvert_exporter": "python",
   "pygments_lexer": "ipython3",
   "version": "3.6.1"
  }
 },
 "nbformat": 4,
 "nbformat_minor": 2
}
