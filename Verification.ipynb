{
 "cells": [
  {
   "cell_type": "code",
   "execution_count": 2,
   "metadata": {
    "collapsed": true
   },
   "outputs": [],
   "source": [
    "from Linguo_tools import *\n",
    "import nltk\n",
    "from tqdm import tqdm\n",
    "import math\n",
    "import random\n",
    "\n"
   ]
  },
  {
   "cell_type": "code",
   "execution_count": 3,
   "metadata": {},
   "outputs": [],
   "source": [
    "def test_model_collect_errors(exp, test_data, model):\n",
    "        correct = 0.0\n",
    "        tp = 0.0\n",
    "        tn = 0.0\n",
    "        fp = 0.0\n",
    "        fn = 0.0\n",
    "        false_negatives = []\n",
    "        false_positives = []\n",
    "        print(\"Begining test\")\n",
    "        for testcase in tqdm(test_data):\n",
    "            target = testcase[1]\n",
    "            prepared_inputs = exp.prepare_input(testcase[0])\n",
    "            prediction_vec = model(prepared_inputs).view(2)\n",
    "            if prediction_vec.data[0] > prediction_vec.data[1]:\n",
    "                prediction = 0\n",
    "            else:\n",
    "                prediction = 1\n",
    "            if prediction == testcase[1]:\n",
    "                correct += 1\n",
    "                if target == 1:\n",
    "                    tp += 1\n",
    "                else:\n",
    "                    tn += 1\n",
    "            else:\n",
    "                if target == 1:\n",
    "                    fn += 1\n",
    "                    false_negatives.append(\" \".join(testcase[0]))\n",
    "                else:\n",
    "                    fp += 1\n",
    "                    false_positives.append(\" \".join(testcase[0]))\n",
    "\n",
    "        # Compile results\n",
    "        accuracy = correct/len(test_data)\n",
    "        if tp == 0:\n",
    "            precision=0.0\n",
    "            recall = 0.0\n",
    "            fmeasure=0\n",
    "        else:\n",
    "            precision = tp / (tp+fp)\n",
    "            recall = tp / (tp+fn+1)\n",
    "            fmeasure = 2*tp / (2*tp+fp+fn+1)\n",
    "        results = {\"accuracy\": accuracy,\n",
    "                   \"precision\": precision,\n",
    "                   \"recall\": recall,\n",
    "                   \"fmeasure\": fmeasure,\n",
    "                   \"tp\": tp,\n",
    "                   \"tn\": tn,\n",
    "                   \"fp\": fp,\n",
    "                   \"fn\": fn}\n",
    "        return results, false_negatives,false_positives"
   ]
  },
  {
   "cell_type": "code",
   "execution_count": 4,
   "metadata": {
    "collapsed": true
   },
   "outputs": [],
   "source": [
    "def run_experiment(gram_filename, ws_filename):\n",
    "    exp = Experimenter()\n",
    "    labeled_gram,labeled_ws = exp.load_corpora_from_file(gram_filename,ws_filename)\n",
    "    datasplit = int(math.floor(0.8*len(labeled_gram)))\n",
    "    training_gram = [(sent,label) for sent,label in labeled_gram[:datasplit]]\n",
    "    testing_gram = [(sent,label) for sent,label in labeled_gram[datasplit:]]\n",
    "\n",
    "    training_ws = [(sent,label) for sent,label in labeled_ws[:datasplit]]\n",
    "    testing_ws = [(sent,label) for sent,label in labeled_ws[datasplit:]]\n",
    "    #train model\n",
    "    print(\"Training\")\n",
    "    trainingData = training_gram + training_ws\n",
    "    random.shuffle(trainingData)\n",
    "    model = exp.train_model(trainingData)\n",
    "    print(\"Testing\")\n",
    "    test_data = testing_gram + testing_ws\n",
    "    random.shuffle(test_data)\n",
    "    results, false_negatives, false_positives = test_model_collect_errors(exp,test_data, model)\n",
    "    \n",
    "    return results, false_negatives, false_positives, exp, model\n",
    "\n",
    "    "
   ]
  },
  {
   "cell_type": "code",
   "execution_count": 6,
   "metadata": {},
   "outputs": [
    {
     "name": "stdout",
     "output_type": "stream",
     "text": [
      "Starting experiment on Data/hundo_gram versus Data/euro.hundo2_2-gramsWS\n",
      "Training\n"
     ]
    },
    {
     "name": "stderr",
     "output_type": "stream",
     "text": [
      "\r",
      "  0%|          | 0/149394 [00:00<?, ?it/s]"
     ]
    },
    {
     "name": "stdout",
     "output_type": "stream",
     "text": [
      "Epoch 1\n"
     ]
    },
    {
     "name": "stderr",
     "output_type": "stream",
     "text": [
      "/home/pablo/Dropbox/workspace/darth_linguo/Linguo_tools.py:503: UserWarning: Implicit dimension choice for log_softmax has been deprecated. Change the call to include dim=X as an argument.\n",
      "  decision_fin = F.log_softmax(decision_lin)\n",
      "  1%|          | 792/149394 [00:09<30:57, 80.00it/s]/home/pablo/utilities/anaconda2/envs/python36/lib/python3.6/site-packages/tqdm/_monitor.py:89: TqdmSynchronisationWarning: Set changed size during iteration (see https://github.com/tqdm/tqdm/issues/481)\n",
      "  TqdmSynchronisationWarning)\n",
      "100%|██████████| 149394/149394 [31:36<00:00, 78.78it/s]\n",
      "  0%|          | 0/149394 [00:00<?, ?it/s]"
     ]
    },
    {
     "name": "stdout",
     "output_type": "stream",
     "text": [
      "\t Epoch0:11708.974269567687\n",
      "Epoch 2\n"
     ]
    },
    {
     "name": "stderr",
     "output_type": "stream",
     "text": [
      "100%|██████████| 149394/149394 [30:52<00:00, 80.63it/s]\n",
      "  0%|          | 0/149394 [00:00<?, ?it/s]"
     ]
    },
    {
     "name": "stdout",
     "output_type": "stream",
     "text": [
      "\t Epoch1:4169.718540831603\n",
      "Epoch 3\n"
     ]
    },
    {
     "name": "stderr",
     "output_type": "stream",
     "text": [
      "100%|██████████| 149394/149394 [31:03<00:00, 80.17it/s]\n",
      "  0%|          | 25/37293 [00:00<02:30, 247.59it/s]"
     ]
    },
    {
     "name": "stdout",
     "output_type": "stream",
     "text": [
      "\t Epoch2:3057.1853849654444\n",
      "Testing\n",
      "Begining test\n"
     ]
    },
    {
     "name": "stderr",
     "output_type": "stream",
     "text": [
      "100%|██████████| 37293/37293 [02:03<00:00, 301.15it/s]\n"
     ]
    },
    {
     "name": "stdout",
     "output_type": "stream",
     "text": [
      "Results onData/hundo_gram versus Data/euro.hundo2_2-gramsWS\n",
      "{'accuracy': 0.9920896683023623, 'precision': 0.993078656508209, 'recall': 0.9910580424073677, 'fmeasure': 0.9920673205767272, 'tp': 18509.0, 'tn': 18489.0, 'fp': 129.0, 'fn': 166.0}\n",
      "Starting experiment on Data/hundo_gram versus Data/euro.hundo2_3-gramsWS\n",
      "Training\n"
     ]
    },
    {
     "name": "stderr",
     "output_type": "stream",
     "text": [
      "\r",
      "  0%|          | 0/149394 [00:00<?, ?it/s]"
     ]
    },
    {
     "name": "stdout",
     "output_type": "stream",
     "text": [
      "Epoch 1\n"
     ]
    },
    {
     "name": "stderr",
     "output_type": "stream",
     "text": [
      "100%|██████████| 149394/149394 [29:29<00:00, 84.44it/s]\n",
      "  0%|          | 0/149394 [00:00<?, ?it/s]"
     ]
    },
    {
     "name": "stdout",
     "output_type": "stream",
     "text": [
      "\t Epoch0:33747.28016980941\n",
      "Epoch 2\n"
     ]
    },
    {
     "name": "stderr",
     "output_type": "stream",
     "text": [
      "100%|██████████| 149394/149394 [29:26<00:00, 84.57it/s]\n",
      "  0%|          | 6/149394 [00:00<42:01, 59.25it/s]"
     ]
    },
    {
     "name": "stdout",
     "output_type": "stream",
     "text": [
      "\t Epoch1:16277.240669467152\n",
      "Epoch 3\n"
     ]
    },
    {
     "name": "stderr",
     "output_type": "stream",
     "text": [
      "100%|██████████| 149394/149394 [29:34<00:00, 84.18it/s]\n",
      "  0%|          | 21/37293 [00:00<02:58, 209.18it/s]"
     ]
    },
    {
     "name": "stdout",
     "output_type": "stream",
     "text": [
      "\t Epoch2:13297.128722632333\n",
      "Testing\n",
      "Begining test\n"
     ]
    },
    {
     "name": "stderr",
     "output_type": "stream",
     "text": [
      "100%|██████████| 37293/37293 [02:00<00:00, 310.30it/s]\n"
     ]
    },
    {
     "name": "stdout",
     "output_type": "stream",
     "text": [
      "Results onData/hundo_gram versus Data/euro.hundo2_3-gramsWS\n",
      "{'accuracy': 0.9643096559676079, 'precision': 0.9746059544658494, 'recall': 0.9535232383808095, 'fmeasure': 0.9639493341994154, 'tp': 17808.0, 'tn': 18154.0, 'fp': 464.0, 'fn': 867.0}\n",
      "Starting experiment on Data/hundo_gram versus Data/euro.hundo2_4-gramsWS\n",
      "Training\n"
     ]
    },
    {
     "name": "stderr",
     "output_type": "stream",
     "text": [
      "\r",
      "  0%|          | 0/149394 [00:00<?, ?it/s]"
     ]
    },
    {
     "name": "stdout",
     "output_type": "stream",
     "text": [
      "Epoch 1\n"
     ]
    },
    {
     "name": "stderr",
     "output_type": "stream",
     "text": [
      "100%|██████████| 149394/149394 [29:54<00:00, 83.27it/s]\n",
      "  0%|          | 0/149394 [00:00<?, ?it/s]"
     ]
    },
    {
     "name": "stdout",
     "output_type": "stream",
     "text": [
      "\t Epoch0:41674.651801655156\n",
      "Epoch 2\n"
     ]
    },
    {
     "name": "stderr",
     "output_type": "stream",
     "text": [
      "100%|██████████| 149394/149394 [29:53<00:00, 83.30it/s]\n",
      "  0%|          | 0/149394 [00:00<?, ?it/s]"
     ]
    },
    {
     "name": "stdout",
     "output_type": "stream",
     "text": [
      "\t Epoch1:22436.276991410283\n",
      "Epoch 3\n"
     ]
    },
    {
     "name": "stderr",
     "output_type": "stream",
     "text": [
      "100%|██████████| 149394/149394 [29:49<00:00, 83.49it/s]\n",
      "  0%|          | 19/37293 [00:00<03:19, 186.95it/s]"
     ]
    },
    {
     "name": "stdout",
     "output_type": "stream",
     "text": [
      "\t Epoch2:19382.369711506384\n",
      "Testing\n",
      "Begining test\n"
     ]
    },
    {
     "name": "stderr",
     "output_type": "stream",
     "text": [
      "100%|██████████| 37293/37293 [02:01<00:00, 306.89it/s]\n"
     ]
    },
    {
     "name": "stdout",
     "output_type": "stream",
     "text": [
      "Results onData/hundo_gram versus Data/euro.hundo2_4-gramsWS\n",
      "{'accuracy': 0.9525916391816158, 'precision': 0.9668120823899718, 'recall': 0.9374598415078175, 'fmeasure': 0.9519097458203072, 'tp': 17508.0, 'tn': 18017.0, 'fp': 601.0, 'fn': 1167.0}\n",
      "Starting experiment on Data/hundo_gram versus Data/euro.hundo2_5-gramsWS\n",
      "Training\n"
     ]
    },
    {
     "name": "stderr",
     "output_type": "stream",
     "text": [
      "\r",
      "  0%|          | 0/149394 [00:00<?, ?it/s]"
     ]
    },
    {
     "name": "stdout",
     "output_type": "stream",
     "text": [
      "Epoch 1\n"
     ]
    },
    {
     "name": "stderr",
     "output_type": "stream",
     "text": [
      "100%|██████████| 149394/149394 [29:55<00:00, 83.19it/s]\n",
      "  0%|          | 0/149394 [00:00<?, ?it/s]"
     ]
    },
    {
     "name": "stdout",
     "output_type": "stream",
     "text": [
      "\t Epoch0:39431.19855618858\n",
      "Epoch 2\n"
     ]
    },
    {
     "name": "stderr",
     "output_type": "stream",
     "text": [
      "100%|██████████| 149394/149394 [30:03<00:00, 82.82it/s]\n",
      "  0%|          | 0/149394 [00:00<?, ?it/s]"
     ]
    },
    {
     "name": "stdout",
     "output_type": "stream",
     "text": [
      "\t Epoch1:21355.058246048757\n",
      "Epoch 3\n"
     ]
    },
    {
     "name": "stderr",
     "output_type": "stream",
     "text": [
      "100%|██████████| 149394/149394 [30:09<00:00, 82.58it/s]\n",
      "  0%|          | 24/37293 [00:00<02:36, 238.13it/s]"
     ]
    },
    {
     "name": "stdout",
     "output_type": "stream",
     "text": [
      "\t Epoch2:19190.38265917506\n",
      "Testing\n",
      "Begining test\n"
     ]
    },
    {
     "name": "stderr",
     "output_type": "stream",
     "text": [
      "100%|██████████| 37293/37293 [02:03<00:00, 302.97it/s]\n"
     ]
    },
    {
     "name": "stdout",
     "output_type": "stream",
     "text": [
      "Results onData/hundo_gram versus Data/euro.hundo2_5-gramsWS\n",
      "{'accuracy': 0.9457002654653688, 'precision': 0.9423485653560042, 'recall': 0.9496144784750482, 'fmeasure': 0.9459675698741199, 'tp': 17735.0, 'tn': 17533.0, 'fp': 1085.0, 'fn': 940.0}\n",
      "Starting experiment on Data/hundo_gram versus Data/euro.hundo2_6-gramsWS\n",
      "Training\n"
     ]
    },
    {
     "name": "stderr",
     "output_type": "stream",
     "text": [
      "\r",
      "  0%|          | 0/149394 [00:00<?, ?it/s]"
     ]
    },
    {
     "name": "stdout",
     "output_type": "stream",
     "text": [
      "Epoch 1\n"
     ]
    },
    {
     "name": "stderr",
     "output_type": "stream",
     "text": [
      "100%|██████████| 149394/149394 [30:25<00:00, 81.82it/s]\n",
      "  0%|          | 0/149394 [00:00<?, ?it/s]"
     ]
    },
    {
     "name": "stdout",
     "output_type": "stream",
     "text": [
      "\t Epoch0:43495.16943224118\n",
      "Epoch 2\n"
     ]
    },
    {
     "name": "stderr",
     "output_type": "stream",
     "text": [
      "100%|██████████| 149394/149394 [30:03<00:00, 82.83it/s]\n",
      "  0%|          | 0/149394 [00:00<?, ?it/s]"
     ]
    },
    {
     "name": "stdout",
     "output_type": "stream",
     "text": [
      "\t Epoch1:25036.995738541773\n",
      "Epoch 3\n"
     ]
    },
    {
     "name": "stderr",
     "output_type": "stream",
     "text": [
      "100%|██████████| 149394/149394 [30:12<00:00, 82.40it/s]\n",
      "  0%|          | 29/37293 [00:00<02:09, 287.63it/s]"
     ]
    },
    {
     "name": "stdout",
     "output_type": "stream",
     "text": [
      "\t Epoch2:18105.718805748424\n",
      "Testing\n",
      "Begining test\n"
     ]
    },
    {
     "name": "stderr",
     "output_type": "stream",
     "text": [
      "100%|██████████| 37293/37293 [02:13<00:00, 279.89it/s]"
     ]
    },
    {
     "name": "stdout",
     "output_type": "stream",
     "text": [
      "Results onData/hundo_gram versus Data/euro.hundo2_6-gramsWS\n",
      "{'accuracy': 0.9477649961118708, 'precision': 0.937673347637239, 'recall': 0.9594131505675734, 'fmeasure': 0.9484186846632261, 'tp': 17918.0, 'tn': 17427.0, 'fp': 1191.0, 'fn': 757.0}\n"
     ]
    },
    {
     "name": "stderr",
     "output_type": "stream",
     "text": [
      "\n"
     ]
    }
   ],
   "source": [
    "#gramdata_fn =\"Data/euro.mini-pretrain\"\n",
    "gramdata_fn = \"Data/hundo_gram\"\n",
    "#ws_fn_list = [\"Data/euro.mini_2-gramsWS\",\"Data/euro.mini_3-gramsWS\"]\n",
    "ws_fn_list = [\"Data/euro.hundo2_2-gramsWS\",\"Data/euro.hundo2_3-gramsWS\",\"Data/euro.hundo2_4-gramsWS\",\"Data/euro.hundo2_5-gramsWS\",\"Data/euro.hundo2_6-gramsWS\"] \n",
    "result_list = []\n",
    "fp_list = []\n",
    "fn_list = []\n",
    "exp_list= []\n",
    "model_list = []\n",
    "\n",
    "for ws_fn in ws_fn_list:\n",
    "    mes = \"Starting experiment on {} versus {}\".format(gramdata_fn,ws_fn)\n",
    "    print(mes)\n",
    "    results, false_negatives, false_positives, exp, model = run_experiment(gramdata_fn, ws_fn)\n",
    "    result_list.append(results)\n",
    "    print(\"Results on{} versus {}\".format(gramdata_fn,ws_fn))\n",
    "    print(results)\n",
    "    fp_list.append(false_positives)\n",
    "    fn_list.append(false_negatives)\n",
    "    exp_list.append(exp)\n",
    "    model_list.append(model)\n"
   ]
  },
  {
   "cell_type": "code",
   "execution_count": 7,
   "metadata": {},
   "outputs": [
    {
     "name": "stdout",
     "output_type": "stream",
     "text": [
      "Training\n",
      "Epoch 1\n"
     ]
    },
    {
     "name": "stderr",
     "output_type": "stream",
     "text": [
      "100%|██████████| 149394/149394 [1:19:57<00:00, 31.14it/s]\n"
     ]
    },
    {
     "name": "stdout",
     "output_type": "stream",
     "text": [
      "\t Epoch0:32429.281720377607\n",
      "Epoch 2\n"
     ]
    },
    {
     "name": "stderr",
     "output_type": "stream",
     "text": [
      "100%|██████████| 149394/149394 [1:28:38<00:00, 28.09it/s]\n",
      "  0%|          | 0/149394 [00:00<?, ?it/s]"
     ]
    },
    {
     "name": "stdout",
     "output_type": "stream",
     "text": [
      "\t Epoch1:18890.074463429624\n",
      "Epoch 3\n"
     ]
    },
    {
     "name": "stderr",
     "output_type": "stream",
     "text": [
      "100%|██████████| 149394/149394 [1:24:27<00:00, 29.48it/s]\n",
      "  0%|          | 11/43978 [00:00<06:42, 109.35it/s]"
     ]
    },
    {
     "name": "stdout",
     "output_type": "stream",
     "text": [
      "\t Epoch2:16184.353482614984\n",
      "Testing\n",
      "Begining test\n"
     ]
    },
    {
     "name": "stderr",
     "output_type": "stream",
     "text": [
      "100%|██████████| 43978/43978 [06:18<00:00, 116.20it/s]\n"
     ]
    }
   ],
   "source": [
    "results, false_negatives, false_positives, exp, model = run_experiment(\"Data/hundo_gram\", \"Data/euro.hundo2-mix\")"
   ]
  },
  {
   "cell_type": "code",
   "execution_count": 13,
   "metadata": {},
   "outputs": [],
   "source": [
    "gramdata_fn = \"Data/hundo_gram\"\n",
    "ws_filename= \"Data/euro.hundo2_2-gramsWS\"\n",
    "labeled_gram,labeled_ws = exp.load_corpora_from_file(gramdata_fn,ws_filename)\n",
    "lengths = [len(sent) for sent,label in labeled_gram]"
   ]
  },
  {
   "cell_type": "code",
   "execution_count": 18,
   "metadata": {},
   "outputs": [
    {
     "name": "stdout",
     "output_type": "stream",
     "text": [
      "29.8539605021\n",
      "18.2591878687\n"
     ]
    }
   ],
   "source": [
    "import numpy as np\n",
    "print (np.mean(lengths))\n",
    "print (np.std(lengths))"
   ]
  },
  {
   "cell_type": "code",
   "execution_count": 20,
   "metadata": {},
   "outputs": [
    {
     "ename": "NameError",
     "evalue": "name 'model_list' is not defined",
     "output_type": "error",
     "traceback": [
      "\u001b[0;31m-------------------------------------------------------------------------\u001b[0m",
      "\u001b[0;31mNameError\u001b[0m                               Traceback (most recent call last)",
      "\u001b[0;32m<ipython-input-20-ba6d1d5771e5>\u001b[0m in \u001b[0;36m<module>\u001b[0;34m()\u001b[0m\n\u001b[0;32m----> 1\u001b[0;31m \u001b[0mlen\u001b[0m\u001b[0;34m(\u001b[0m\u001b[0mmodel_list\u001b[0m\u001b[0;34m)\u001b[0m\u001b[0;34m\u001b[0m\u001b[0m\n\u001b[0m",
      "\u001b[0;31mNameError\u001b[0m: name 'model_list' is not defined"
     ]
    }
   ],
   "source": [
    "len(model_list)"
   ]
  },
  {
   "cell_type": "code",
   "execution_count": null,
   "metadata": {
    "collapsed": true
   },
   "outputs": [],
   "source": []
  }
 ],
 "metadata": {
  "anaconda-cloud": {},
  "kernelspec": {
   "display_name": "Python 3",
   "language": "python",
   "name": "python3"
  },
  "language_info": {
   "codemirror_mode": {
    "name": "ipython",
    "version": 3
   },
   "file_extension": ".py",
   "mimetype": "text/x-python",
   "name": "python",
   "nbconvert_exporter": "python",
   "pygments_lexer": "ipython3",
   "version": "3.6.3"
  }
 },
 "nbformat": 4,
 "nbformat_minor": 2
}
