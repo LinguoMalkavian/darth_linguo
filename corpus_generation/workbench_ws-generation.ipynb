{
 "cells": [
  {
   "cell_type": "code",
   "execution_count": 127,
   "metadata": {
    "collapsed": true
   },
   "outputs": [],
   "source": [
    "import os \n",
    "import random\n",
    "from tqdm import tqdm\n",
    "import csv\n",
    "from collections import defaultdict\n",
    "import math\n",
    "from numpy.random import choice\n",
    "# NLTK modules\n",
    "from nltk import word_tokenize\n",
    "\n",
    "corpusName = \"euro_mini\"\n",
    "basePath = \"/\".join(os.getcwd().split(\"/\")[:-1])\n",
    "dataPath = basePath + \"/Data/\" + corpusName +\"/\" + corpusName\n",
    "corpus_fn = dataPath + \"-pretrain\"\n",
    " \n",
    "ngramOrder = 3\n"
   ]
  },
  {
   "cell_type": "code",
   "execution_count": 179,
   "metadata": {},
   "outputs": [],
   "source": [
    "def load_raw_grammatical_corpus(input_corpus_filename, minlength=7):\n",
    "    \"\"\"Load a corpus of line separated sentences\n",
    "    \n",
    "    input_corpus_filename -- the path to the file with the sentences\n",
    "    minlength -- the minimum length of sentences to be kept (in tokens)\"\"\"\n",
    "    input_corpus_path = input_corpus_filename\n",
    "    in_file = open(input_corpus_path, \"r\")\n",
    "    numlines = 0\n",
    "    inter_excl = 0\n",
    "    tokenized_sentences = []\n",
    "    for line in in_file.readlines():\n",
    "        # Keep only sentences, those have a period at the end\n",
    "        if line.strip() != \"\":\n",
    "            if line.strip()[-1] == \".\":\n",
    "                tokenized = word_tokenize(line)\n",
    "                tokenized.append(\"<eos>\") \n",
    "                if len(tokenized) >= minlength:\n",
    "                    tokenized_sentences.append(tokenized)\n",
    "            elif line.strip()[-1] == \"?\" or line.strip()[-1] == \"!\":\n",
    "                inter_excl += 1\n",
    "        numlines += 1\n",
    "    n_sent = len(tokenized_sentences)\n",
    "    print('''Full corpus has {} sentences,\n",
    "    \\t {} were dumped,\n",
    "    among which {} interogatives or exclamatives.'''.format(n_sent,\n",
    "                                                           numlines-n_sent,\n",
    "                                                           inter_excl))\n",
    "    random.shuffle(tokenized_sentences)\n",
    "    return tokenized_sentences\n",
    "\n",
    "def get_vocabulary(sentences,\n",
    "                   hap_threshold=1):\n",
    "    counts = defaultdict(int)\n",
    "    total_tokens = 0\n",
    "    print(\"Establishing vocabulary\")\n",
    "    for sentence in sentences:\n",
    "        for token in sentence:\n",
    "            counts[token.lower()] += 1\n",
    "            total_tokens += 1\n",
    "    hapaxes = []\n",
    "    counts[\"<unk>\"] = 0\n",
    "    # Identify hapaxes, count them for smoothing\n",
    "    \n",
    "    for key in counts:\n",
    "        if counts[key] <= hap_threshold:\n",
    "            counts[\"<unk>\"] += counts[key]\n",
    "            hapaxes.append(key)\n",
    "    # Remove them from the count\n",
    "    for hapax in hapaxes:\n",
    "        counts.pop(hapax)\n",
    "    # Consolidate vocabulary and word ids\n",
    "    vocabulary = []\n",
    "    unidist = []\n",
    "    for key in counts:\n",
    "        vocabulary.append(key)\n",
    "        unidist.append(counts[key])\n",
    "    # Define word ids\n",
    "    word2id = {}\n",
    "    for word in vocabulary:\n",
    "        word2id[word] = len(word2id)\n",
    "    #Print Report    \n",
    "    report = '''The corpus has a total of {} tokens, with\n",
    "    {} kept types and {} hapaxes'''.format(total_tokens,\n",
    "                  len(word2id),\n",
    "                  len(hapaxes))\n",
    "    print(\"Corpus has {} parenthesis and {} dashes\".format(counts[\"(\"],counts[\"-\"]))\n",
    "    print(report)\n",
    "    return word2id\n",
    "\n",
    "def token_replacement(sentences, word2id):\n",
    "    \"\"\"Replace out of vocabulary items \n",
    "    \n",
    "    Takes a list of sentences, each of which is a list of tokens (str)\n",
    "    Words not in word2id are replaced by <unk>, \n",
    "    everything is lower Cased.\"\"\"\n",
    "    \n",
    "    print(\"Cleaning corpus\")\n",
    "    cleaned = []\n",
    "    for sentence in sentences:\n",
    "        this_sentence = []\n",
    "        for token in sentence:\n",
    "            if token.lower() in word2id:\n",
    "                this_sentence.append(token.lower())\n",
    "            else:\n",
    "                this_sentence.append(\"<unk>\")\n",
    "        cleaned.append(this_sentence)\n",
    "    return cleaned\n",
    "\n",
    "def extract_ngram_freq(corpus, order):\n",
    "    \"\"\"Get the n-gram frequencies of the corpus\"\"\"\n",
    "    n_frequencies = defaultdict(lambda: defaultdict(int))\n",
    "    for original in corpus:\n",
    "        #Make a copy so original remains unchanged\n",
    "        sentence = original[:]\n",
    "        for _ in range(order-1):\n",
    "            sentence.insert(0, \"#\")\n",
    "        for ini in range(len(sentence) - order + 1):\n",
    "            prefix = \" \".join(sentence[ini:ini+order-1])\n",
    "            target = sentence[ini+order-1]\n",
    "            n_frequencies[prefix][target] += 1\n",
    "    return n_frequencies\n",
    "\n",
    "def generateWordSalad(n_frequencies, order):\n",
    "    \"\"\"Generate a single word salad of specified order \n",
    "    \n",
    "    n_frequencies -- a nested dictionary with:\n",
    "        first key: strings of order-1 space separated tokens (prefix)\n",
    "        second key: a string with one token (target)\n",
    "        values:relative frequency of the continuation given the prefix. \n",
    "    order -- an integer, the order of ngrams being used\"\"\"  \n",
    "    \n",
    "    #The sentence is a list of tokens, start it by padding it with #\n",
    "    sentence = [\"#\"]*(order-1)\n",
    "    while sentence[-1]!=\"<eos>\":\n",
    "        prefix = \" \".join(sentence[-(order-1):])\n",
    "        options, freqs = zip(*n_frequencies[prefix].items())\n",
    "        total = sum(freqs)\n",
    "        probs = [freq/total for freq in freqs]\n",
    "        word = choice(options,p=probs)\n",
    "        sentence.append(word)\n",
    "    return sentence[order-1:]\n",
    "\n",
    "def saveWord2Id (word2id,filenamePrefix):\n",
    "    filename = filenamePrefix+\"-word2id\"\n",
    "    with open(filename,\"w\") as outFile:\n",
    "        writer = csv.writer(outFile)\n",
    "        writer.writerows(word2id.items())\n",
    "    print(\"Data saved to \"+ filename)\n",
    "    \n",
    "def saveWordSaladCorpus(salads, filenamePrefix, tag):    \n",
    "    \"\"\"Store a corpus in a file\"\"\"\n",
    "    \n",
    "    filename = filenamePrefix + \"-{}-gramWS\".format(tag)\n",
    "    with open(filename,\"w\") as outfile:\n",
    "        for tokenList in salads:\n",
    "            sentString = \" \".join(tokenList)+\"\\n\"\n",
    "            outfile.write(sentString)\n",
    "    print(\"Word salads of order {} saved to:\\n {}\".format(tag,filename))\n",
    "            \n",
    "\n",
    "def generateMultipleOrders (corpusName, orders=[2,3,4,5,6]):\n",
    "    \"\"\"Run whole pipeline to generate ws of several orders and the mix\"\"\"\n",
    "    \n",
    "    basePath = \"/\".join(os.getcwd().split(\"/\")[:-1])\n",
    "    dataPath = basePath + \"/Data/\" + corpusName +\"/\" + corpusName\n",
    "    corpus_fn = dataPath + \"-pretrain\"\n",
    "    \n",
    "    #Load file with grammatical data\n",
    "    tokenized_sentences = load_raw_grammatical_corpus(corpus_fn)\n",
    "\n",
    "    #Extract and save vocabulary \n",
    "    word2id = get_vocabulary(tokenized_sentences,2)\n",
    "    saveWord2Id(word2id,dataPath)\n",
    "    \n",
    "    preprocessed_sentences = token_replacement(tokenized_sentences, word2id)\n",
    "    numSalads = len(preprocessed_sentences)\n",
    "    allWordSalads = {}\n",
    "    allWordSalads[\"mix\"] = []\n",
    "    for order in orders:\n",
    "        #Get n gram frequencies for chosen n\n",
    "        n_gramFreqs = extract_ngram_freq(preprocessed_sentences, order)\n",
    "        allWordSalads[order] = generateSingleOrder(n_gramFreqs,order,numSalads)\n",
    "        allWordSalads[\"mix\"] += allWordSalads[order][:numSalads//len(orders)]\n",
    "        saveWordSaladCorpus(allWordSalads[order],dataPath,order)\n",
    "    # Generate also a mix\n",
    "    saveWordSaladCorpus(allWordSalads[\"mix\"],dataPath,\"mix\")\n",
    "    \n",
    "    return allWordSalads\n",
    "    \n",
    "    \n",
    "        \n",
    "def generateSingleOrder (frequencies,order,quantity):\n",
    "    \"\"\"Generate a number of word salads of a given order\n",
    "    \n",
    "    Prints a progress bar\"\"\"\n",
    "    \n",
    "    print(\"Generating word salads of order {}\".format(order) )\n",
    "    salads = []\n",
    "    \n",
    "    for _ in tqdm(range(quantity)):\n",
    "        salad = generateWordSalad(frequencies,order)\n",
    "        salads.append(salad)\n",
    "    \n",
    "    return salads\n",
    "\n",
    "\n"
   ]
  },
  {
   "cell_type": "code",
   "execution_count": null,
   "metadata": {},
   "outputs": [
    {
     "name": "stdout",
     "output_type": "stream",
     "text": [
      "Full corpus has 91675 sentences,\n",
      "    \t 8325 were dumped,\n",
      "    among which 3817 interogatives or exclamatives.\n",
      "Establishing vocabulary\n",
      "Corpus has 2369 parenthesis and 1971 dashes\n",
      "The corpus has a total of 2869718 tokens, with\n",
      "    22873 kept types and 26888 hapaxes\n",
      "Data saved to /Users/pablo/Dropbox/workspace/darth_linguo/Data/euro_hundo/euro_hundo-word2id\n",
      "Cleaning corpus\n"
     ]
    },
    {
     "name": "stderr",
     "output_type": "stream",
     "text": [
      "  0%|          | 6/91675 [00:00<27:57, 54.64it/s]"
     ]
    },
    {
     "name": "stdout",
     "output_type": "stream",
     "text": [
      "Generating word salads of order 2\n"
     ]
    },
    {
     "name": "stderr",
     "output_type": "stream",
     "text": [
      " 36%|███▌      | 32666/91675 [34:49<1:02:55, 15.63it/s]"
     ]
    }
   ],
   "source": [
    "all_WS = generateMultipleOrders(\"euro_hundo\")"
   ]
  },
  {
   "cell_type": "code",
   "execution_count": 148,
   "metadata": {},
   "outputs": [
    {
     "name": "stdout",
     "output_type": "stream",
     "text": [
      "Full corpus has 91675 sentences,\n",
      "    \t 8325 were dumped,\n",
      "    among which 3817 interogatives or exclamatives.\n",
      "Establishing vocabulary\n",
      "Corpus has 2369 parenthesis and 1971 dashes\n",
      "The corpus has a total of 2869718 tokens, with\n",
      "    22873 kept types and 26888 hapaxes\n",
      "Cleaning corpus\n"
     ]
    }
   ],
   "source": [
    "#Load file with grammatical data\n",
    "tokenized_sentences = load_raw_grammatical_corpus(corpus_fn,7)\n",
    "\n",
    "#Extract frequencies \n",
    "#Get vocabulary and hapaxes\n",
    "word2id = get_vocabulary(tokenized_sentences,2)\n",
    "\n",
    "#Get n gram frequencies for chosen n\n",
    "preprocessed_sentences = token_replacement(tokenized_sentences, word2id)\n",
    "n_gramFreqs = extract_ngram_freq(preprocessed_sentences, ngramOrder)\n",
    "word_salads = [generateWordSalad(n_gramFreqs,ngramOrder)]\n",
    "#Generate word salads\n",
    "\n",
    "#save Word Salads and vocabulary (word2_ID?)"
   ]
  },
  {
   "cell_type": "code",
   "execution_count": 151,
   "metadata": {},
   "outputs": [
    {
     "name": "stderr",
     "output_type": "stream",
     "text": [
      "100%|██████████| 91675/91675 [06:20<00:00, 240.81it/s]\n"
     ]
    }
   ],
   "source": [
    "resp = generateSingleOrder(n_gramFreqs,ngramOrder,len(preprocessed_sentences))"
   ]
  },
  {
   "cell_type": "code",
   "execution_count": 160,
   "metadata": {},
   "outputs": [
    {
     "data": {
      "image/png": "[encoded data removed]",
      "text/plain": [
       "<matplotlib.figure.Figure at 0x1a23341438>"
      ]
     },
     "metadata": {},
     "output_type": "display_data"
    }
   ],
   "source": [
    "bins = range(0,200,5)\n",
    "\n",
    "import matplotlib.pyplot as plt\n",
    "lengths_ws = [len(ws) for ws in resp]\n",
    "lengths_g = [len(g) for g in preprocessed_sentences]\n",
    "\n",
    "plt.hist(lengths_ws, bins, alpha=0.5, label='Word Salads',facecolor=\"r\")\n",
    "plt.hist(lengths_g, bins, alpha=0.5, label='Grammatical Sentences',facecolor=\"b\")\n",
    "plt.legend(loc='upper right')\n",
    "\n",
    "plt.xlabel('Sentence Length')\n",
    "plt.ylabel('Count')\n",
    "#plt.title('Sequence lengths for trigram word salads and corpus sentences')\n",
    "\n",
    "plt.grid(True)\n",
    "plt.show()"
   ]
  },
  {
   "cell_type": "code",
   "execution_count": 167,
   "metadata": {},
   "outputs": [
    {
     "data": {
      "text/plain": [
       "['por',\n",
       " 'nuestra',\n",
       " 'parte',\n",
       " 'y',\n",
       " 'hasta',\n",
       " 'ahora',\n",
       " 'con',\n",
       " 'toda',\n",
       " 'claridad',\n",
       " 'estos',\n",
       " 'últimos',\n",
       " 'años',\n",
       " ',',\n",
       " 'la',\n",
       " 'representación',\n",
       " 'ante',\n",
       " 'los',\n",
       " 'tribunales',\n",
       " ',',\n",
       " 'el',\n",
       " 'gobierno',\n",
       " 'español',\n",
       " ',',\n",
       " 'ese',\n",
       " 'derroche',\n",
       " 'de',\n",
       " 'gasolina',\n",
       " 'y',\n",
       " 'del',\n",
       " 'mercado',\n",
       " 'único',\n",
       " 'europeo',\n",
       " \"''\",\n",
       " ',',\n",
       " 'según',\n",
       " 'las',\n",
       " 'cuales',\n",
       " 'implican',\n",
       " 'directamente',\n",
       " 'cuestiones',\n",
       " 'normativas',\n",
       " 'respecto',\n",
       " 'de',\n",
       " 'cualquier',\n",
       " 'tipo',\n",
       " 'de',\n",
       " 'comportamiento',\n",
       " 'intencionales',\n",
       " ',',\n",
       " 'reviste',\n",
       " 'tanta',\n",
       " 'importancia',\n",
       " ',',\n",
       " 'tengo',\n",
       " 'que',\n",
       " 'decir',\n",
       " ',',\n",
       " 'un',\n",
       " 'proyecto',\n",
       " 'mundial',\n",
       " ',',\n",
       " 'en',\n",
       " 'la',\n",
       " 'carta',\n",
       " 'social',\n",
       " '.',\n",
       " '<eos>']"
      ]
     },
     "execution_count": 167,
     "metadata": {},
     "output_type": "execute_result"
    }
   ],
   "source": [
    "generateWordSalad(n_gramFreqs,3)"
   ]
  },
  {
   "cell_type": "code",
   "execution_count": 126,
   "metadata": {},
   "outputs": [
    {
     "data": {
      "text/plain": [
       "'/Users/pablo/Dropbox/workspace/darth_linguo/Data/euro_hundo/euro_hundo-pretrain'"
      ]
     },
     "execution_count": 126,
     "metadata": {},
     "output_type": "execute_result"
    }
   ],
   "source": [
    "corpus_fn"
   ]
  },
  {
   "cell_type": "code",
   "execution_count": 162,
   "metadata": {},
   "outputs": [
    {
     "data": {
      "text/plain": [
       "3"
      ]
     },
     "execution_count": 162,
     "metadata": {},
     "output_type": "execute_result"
    }
   ],
   "source": [
    "10//3"
   ]
  },
  {
   "cell_type": "code",
   "execution_count": null,
   "metadata": {
    "collapsed": true
   },
   "outputs": [],
   "source": []
  }
 ],
 "metadata": {
  "kernelspec": {
   "display_name": "Python 3",
   "language": "python",
   "name": "python3"
  },
  "language_info": {
   "codemirror_mode": {
    "name": "ipython",
    "version": 3
   },
   "file_extension": ".py",
   "mimetype": "text/x-python",
   "name": "python",
   "nbconvert_exporter": "python",
   "pygments_lexer": "ipython3",
   "version": "3.6.3"
  }
 },
 "nbformat": 4,
 "nbformat_minor": 2
}
