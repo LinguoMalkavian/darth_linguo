{
 "cells": [
  {
   "cell_type": "code",
   "execution_count": 1,
   "metadata": {
    "collapsed": true
   },
   "outputs": [],
   "source": [
    "import spacy\n",
    "mod = spacy.load('es')\n"
   ]
  },
  {
   "cell_type": "code",
   "execution_count": 6,
   "metadata": {},
   "outputs": [],
   "source": [
    "doc = mod(u\"Cuando los cerdos vuelen, esa niña bonita saldrá contigo para comer.\")"
   ]
  },
  {
   "cell_type": "code",
   "execution_count": 7,
   "metadata": {},
   "outputs": [
    {
     "name": "stdout",
     "output_type": "stream",
     "text": [
      "Token:Cuando\n",
      "Head:vuelen\n",
      "Dependency:mark\n",
      "Dependency code:419\n",
      "Features:SCONJ___\n",
      "-------------\n",
      "Token:los\n",
      "Head:cerdos\n",
      "Dependency:det\n",
      "Dependency code:411\n",
      "Features:DET__Definite=Def|Gender=Masc|Number=Plur|PronType=Art\n",
      "-------------\n",
      "Token:cerdos\n",
      "Head:vuelen\n",
      "Dependency:nsubj\n",
      "Dependency code:425\n",
      "Features:NOUN__Gender=Masc|Number=Plur\n",
      "-------------\n",
      "Token:vuelen\n",
      "Head:saldrá\n",
      "Dependency:advcl\n",
      "Dependency code:395\n",
      "Features:VERB__Mood=Ind|Number=Plur|Person=3|Tense=Pres|VerbForm=Fin\n",
      "-------------\n",
      "Token:,\n",
      "Head:vuelen\n",
      "Dependency:punct\n",
      "Dependency code:441\n",
      "Features:PUNCT__PunctType=Comm\n",
      "-------------\n",
      "Token:esa\n",
      "Head:niña\n",
      "Dependency:det\n",
      "Dependency code:411\n",
      "Features:DET__Gender=Fem|Number=Sing|PronType=Dem\n",
      "-------------\n",
      "Token:niña\n",
      "Head:saldrá\n",
      "Dependency:nsubj\n",
      "Dependency code:425\n",
      "Features:NOUN__Gender=Fem|Number=Sing\n",
      "-------------\n",
      "Token:bonita\n",
      "Head:niña\n",
      "Dependency:amod\n",
      "Dependency code:398\n",
      "Features:ADJ__Gender=Fem|Number=Sing\n",
      "-------------\n",
      "Token:saldrá\n",
      "Head:saldrá\n",
      "Dependency:ROOT\n",
      "Dependency code:158075\n",
      "Features:VERB__Mood=Ind|Number=Sing|Person=3|Tense=Fut|VerbForm=Fin\n",
      "-------------\n",
      "Token:contigo\n",
      "Head:saldrá\n",
      "Dependency:advmod\n",
      "Dependency code:396\n",
      "Features:ADV___\n",
      "-------------\n",
      "Token:para\n",
      "Head:comer\n",
      "Dependency:mark\n",
      "Dependency code:419\n",
      "Features:ADP__AdpType=Prep\n",
      "-------------\n",
      "Token:comer\n",
      "Head:contigo\n",
      "Dependency:advcl\n",
      "Dependency code:395\n",
      "Features:VERB__VerbForm=Inf\n",
      "-------------\n",
      "Token:.\n",
      "Head:saldrá\n",
      "Dependency:punct\n",
      "Dependency code:441\n",
      "Features:PUNCT__PunctType=Peri\n",
      "-------------\n",
      "DET\n"
     ]
    }
   ],
   "source": [
    "from spacy import symbols\n",
    "\n",
    "for token in doc:\n",
    "    print(\"Token:{}\".format(token))\n",
    "    print(\"Head:{}\".format(token.head))\n",
    "    print(\"Dependency:{}\".format(token.dep_)) \n",
    "    print(\"Dependency code:{}\".format(token.dep)) \n",
    "    print(\"Features:{}\".format(token.tag_))\n",
    "    print(\"-------------\")\n",
    "    \n",
    "print(doc[1].pos_)\n"
   ]
  },
  {
   "cell_type": "code",
   "execution_count": 4,
   "metadata": {},
   "outputs": [
    {
     "name": "stdout",
     "output_type": "stream",
     "text": [
      "Adjectival Corruption\n",
      "False\n",
      "Cuando los cerdos vuelen, esa niña bonitos saldrá contigo.\n",
      "---------\n",
      "Verbal Corruption\n",
      "True\n",
      "Cuando los cerdos vuele, esa niña bonita saldrá contigo.\n",
      "---------\n",
      "Verbal Corruption\n",
      "Verb Removal\n",
      "True\n",
      "Cuando los cerdos vuelen, esa niña bonita contigo.\n",
      "---------\n"
     ]
    }
   ],
   "source": [
    "import transformer\n",
    "trans_VerbRM = transformer.VerbRemover(\"VerbRm\")\n",
    "trans_VerbInfl = transformer.VerbInflCorruptor(\"VerbInfl\")\n",
    "trans_AdjInfl = transformer.AdjInflCorruptor(\"AdjInfl\")\n",
    "trans_PrepRM = transformer.PrepRemover(\"AdjInfl\")\n",
    "print(\"Adjectival Corruption\")\n",
    "print(trans_AdjInfl.test_possible(doc))\n",
    "print(trans_AdjInfl.transform(doc))\n",
    "print(\"---------\")\n",
    "print(\"Verbal Corruption\")\n",
    "print(trans_VerbInfl.test_possible(doc))\n",
    "print(trans_VerbInfl.transform(doc))\n",
    "print(\"---------\")\n",
    "print(\"Verbal Corruption\")\n",
    "print(\"Verb Removal\")\n",
    "print(trans_VerbRM.test_possible(doc))\n",
    "print(trans_VerbRM.transform(doc))\n",
    "print(\"---------\")\n",
    "print(\"Prep Removal\")\n",
    "print(trans_PrepRM.test_possible(doc))\n",
    "print(trans_PrepRM.transform(doc))\n",
    "print(\"---------\")"
   ]
  },
  {
   "cell_type": "code",
   "execution_count": null,
   "metadata": {},
   "outputs": [],
   "source": []
  },
  {
   "cell_type": "code",
   "execution_count": null,
   "metadata": {
    "collapsed": true
   },
   "outputs": [],
   "source": []
  }
 ],
 "metadata": {
  "kernelspec": {
   "display_name": "Python 3",
   "language": "python",
   "name": "python3"
  },
  "language_info": {
   "codemirror_mode": {
    "name": "ipython",
    "version": 3
   },
   "file_extension": ".py",
   "mimetype": "text/x-python",
   "name": "python",
   "nbconvert_exporter": "python",
   "pygments_lexer": "ipython3",
   "version": "3.6.2"
  }
 },
 "nbformat": 4,
 "nbformat_minor": 2
}
