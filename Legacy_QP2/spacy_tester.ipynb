{
 "cells": [
  {
   "cell_type": "code",
   "execution_count": 2,
   "metadata": {},
   "outputs": [
    {
     "ename": "RuntimeError",
     "evalue": "Language not supported: es",
     "output_type": "error",
     "traceback": [
      "\u001b[0;31m---------------------------------------------------------------------------\u001b[0m",
      "\u001b[0;31mRuntimeError\u001b[0m                              Traceback (most recent call last)",
      "\u001b[0;32m<ipython-input-2-4f32ead1e7be>\u001b[0m in \u001b[0;36m<module>\u001b[0;34m()\u001b[0m\n\u001b[1;32m      1\u001b[0m \u001b[0;32mimport\u001b[0m \u001b[0mspacy\u001b[0m\u001b[0;34m\u001b[0m\u001b[0m\n\u001b[0;32m----> 2\u001b[0;31m \u001b[0mmod\u001b[0m \u001b[0;34m=\u001b[0m \u001b[0mspacy\u001b[0m\u001b[0;34m.\u001b[0m\u001b[0mload\u001b[0m\u001b[0;34m(\u001b[0m\u001b[0;34m'es'\u001b[0m\u001b[0;34m)\u001b[0m\u001b[0;34m\u001b[0m\u001b[0m\n\u001b[0m",
      "\u001b[0;32m~/anaconda3/lib/python3.6/site-packages/spacy/__init__.py\u001b[0m in \u001b[0;36mload\u001b[0;34m(name, vocab, tokenizer, parser, tagger, entity, matcher, serializer, vectors, via)\u001b[0m\n\u001b[1;32m     13\u001b[0m         util.deprecated(\n\u001b[1;32m     14\u001b[0m             \u001b[0;34m\"As of spaCy v2.0, the keyword argument `path=` is deprecated. \"\u001b[0m\u001b[0;34m\u001b[0m\u001b[0m\n\u001b[0;32m---> 15\u001b[0;31m             \u001b[0;34m\"You can now call spacy.load with the path as its first argument, \"\u001b[0m\u001b[0;34m\u001b[0m\u001b[0m\n\u001b[0m\u001b[1;32m     16\u001b[0m             \u001b[0;34m\"and the model's meta.json will be used to determine the language \"\u001b[0m\u001b[0;34m\u001b[0m\u001b[0m\n\u001b[1;32m     17\u001b[0m             \u001b[0;34m\"to load. For example:\\nnlp = spacy.load('{}')\"\u001b[0m\u001b[0;34m.\u001b[0m\u001b[0mformat\u001b[0m\u001b[0;34m(\u001b[0m\u001b[0mdepr_path\u001b[0m\u001b[0;34m)\u001b[0m\u001b[0;34m,\u001b[0m\u001b[0;34m\u001b[0m\u001b[0m\n",
      "\u001b[0;32m~/anaconda3/lib/python3.6/site-packages/spacy/util.py\u001b[0m in \u001b[0;36mget_package_by_name\u001b[0;34m(name, via)\u001b[0m\n\u001b[1;32m     39\u001b[0m \u001b[0;32mdef\u001b[0m \u001b[0mget_lang_class\u001b[0m\u001b[0;34m(\u001b[0m\u001b[0mlang\u001b[0m\u001b[0;34m)\u001b[0m\u001b[0;34m:\u001b[0m\u001b[0;34m\u001b[0m\u001b[0m\n\u001b[1;32m     40\u001b[0m     \"\"\"Import and load a Language class.\n\u001b[0;32m---> 41\u001b[0;31m \u001b[0;34m\u001b[0m\u001b[0m\n\u001b[0m\u001b[1;32m     42\u001b[0m     \u001b[0mlang\u001b[0m \u001b[0;34m(\u001b[0m\u001b[0municode\u001b[0m\u001b[0;34m)\u001b[0m\u001b[0;34m:\u001b[0m \u001b[0mTwo\u001b[0m\u001b[0;34m-\u001b[0m\u001b[0mletter\u001b[0m \u001b[0mlanguage\u001b[0m \u001b[0mcode\u001b[0m\u001b[0;34m,\u001b[0m \u001b[0me\u001b[0m\u001b[0;34m.\u001b[0m\u001b[0mg\u001b[0m\u001b[0;34m.\u001b[0m \u001b[0;34m'en'\u001b[0m\u001b[0;34m.\u001b[0m\u001b[0;34m\u001b[0m\u001b[0m\n\u001b[1;32m     43\u001b[0m     \u001b[0mRETURNS\u001b[0m \u001b[0;34m(\u001b[0m\u001b[0mLanguage\u001b[0m\u001b[0;34m)\u001b[0m\u001b[0;34m:\u001b[0m \u001b[0mLanguage\u001b[0m \u001b[0;32mclass\u001b[0m\u001b[0;34m.\u001b[0m\u001b[0;34m\u001b[0m\u001b[0m\n",
      "\u001b[0;32m~/anaconda3/lib/python3.6/site-packages/spacy/util.py\u001b[0m in \u001b[0;36mget_lang_class\u001b[0;34m(name)\u001b[0m\n\u001b[1;32m     26\u001b[0m \u001b[0mmsgpack_numpy\u001b[0m\u001b[0;34m.\u001b[0m\u001b[0mpatch\u001b[0m\u001b[0;34m(\u001b[0m\u001b[0;34m)\u001b[0m\u001b[0;34m\u001b[0m\u001b[0m\n\u001b[1;32m     27\u001b[0m \u001b[0;34m\u001b[0m\u001b[0m\n\u001b[0;32m---> 28\u001b[0;31m \u001b[0;34m\u001b[0m\u001b[0m\n\u001b[0m\u001b[1;32m     29\u001b[0m \u001b[0mLANGUAGES\u001b[0m \u001b[0;34m=\u001b[0m \u001b[0;34m{\u001b[0m\u001b[0;34m}\u001b[0m\u001b[0;34m\u001b[0m\u001b[0m\n\u001b[1;32m     30\u001b[0m \u001b[0m_data_path\u001b[0m \u001b[0;34m=\u001b[0m \u001b[0mPath\u001b[0m\u001b[0;34m(\u001b[0m\u001b[0m__file__\u001b[0m\u001b[0;34m)\u001b[0m\u001b[0;34m.\u001b[0m\u001b[0mparent\u001b[0m \u001b[0;34m/\u001b[0m \u001b[0;34m'data'\u001b[0m\u001b[0;34m\u001b[0m\u001b[0m\n",
      "\u001b[0;31mRuntimeError\u001b[0m: Language not supported: es"
     ]
    }
   ],
   "source": [
    "import spacy\n",
    "mod = spacy.load('es')\n"
   ]
  },
  {
   "cell_type": "code",
   "execution_count": 2,
   "metadata": {
    "collapsed": true
   },
   "outputs": [],
   "source": [
    "doc = mod(u\"Cuando los cerdos vuelen, esa niña bonita saldrá contigo para comer.\")"
   ]
  },
  {
   "cell_type": "code",
   "execution_count": 5,
   "metadata": {},
   "outputs": [
    {
     "name": "stdout",
     "output_type": "stream",
     "text": [
      "Token:Cuando\n",
      "Head:vuelen\n",
      "Dependency:mark\n",
      "Dependency code:419\n",
      "Features:SCONJ___\n",
      "-------------\n",
      "Token:los\n",
      "Head:cerdos\n",
      "Dependency:det\n",
      "Dependency code:411\n",
      "Features:DET__Definite=Def|Gender=Masc|Number=Plur|PronType=Art\n",
      "-------------\n",
      "Token:cerdos\n",
      "Head:vuelen\n",
      "Dependency:nsubj\n",
      "Dependency code:425\n",
      "Features:NOUN__Gender=Masc|Number=Plur\n",
      "-------------\n",
      "Token:vuelen\n",
      "Head:saldrá\n",
      "Dependency:advcl\n",
      "Dependency code:395\n",
      "Features:VERB__Mood=Ind|Number=Plur|Person=3|Tense=Pres|VerbForm=Fin\n",
      "-------------\n",
      "Token:,\n",
      "Head:vuelen\n",
      "Dependency:punct\n",
      "Dependency code:441\n",
      "Features:PUNCT__PunctType=Comm\n",
      "-------------\n",
      "Token:esa\n",
      "Head:niña\n",
      "Dependency:det\n",
      "Dependency code:411\n",
      "Features:DET__Gender=Fem|Number=Sing|PronType=Dem\n",
      "-------------\n",
      "Token:niña\n",
      "Head:saldrá\n",
      "Dependency:nsubj\n",
      "Dependency code:425\n",
      "Features:NOUN__Gender=Fem|Number=Sing\n",
      "-------------\n",
      "Token:bonita\n",
      "Head:niña\n",
      "Dependency:amod\n",
      "Dependency code:398\n",
      "Features:ADJ__Gender=Fem|Number=Sing\n",
      "-------------\n",
      "Token:saldrá\n",
      "Head:saldrá\n",
      "Dependency:ROOT\n",
      "Dependency code:158075\n",
      "Features:VERB__Mood=Ind|Number=Sing|Person=3|Tense=Fut|VerbForm=Fin\n",
      "-------------\n",
      "Token:contigo\n",
      "Head:saldrá\n",
      "Dependency:advmod\n",
      "Dependency code:396\n",
      "Features:ADV___\n",
      "-------------\n",
      "Token:para\n",
      "Head:comer\n",
      "Dependency:mark\n",
      "Dependency code:419\n",
      "Features:ADP__AdpType=Prep\n",
      "-------------\n",
      "Token:comer\n",
      "Head:contigo\n",
      "Dependency:advcl\n",
      "Dependency code:395\n",
      "Features:VERB__VerbForm=Inf\n",
      "-------------\n",
      "Token:.\n",
      "Head:saldrá\n",
      "Dependency:punct\n",
      "Dependency code:441\n",
      "Features:PUNCT__PunctType=Peri\n",
      "-------------\n",
      "DET\n"
     ]
    }
   ],
   "source": [
    "from spacy import symbols\n",
    "\n",
    "for token in doc:\n",
    "    print(\"Token:{}\".format(token))\n",
    "    print(\"Head:{}\".format(token.head))\n",
    "    print(\"Dependency:{}\".format(token.dep_)) \n",
    "    print(\"Dependency code:{}\".format(token.dep)) \n",
    "    print(\"Features:{}\".format(token.tag_))\n",
    "    print(\"-------------\")\n",
    "    \n",
    "print(doc[1].pos_)\n"
   ]
  },
  {
   "cell_type": "code",
   "execution_count": 6,
   "metadata": {},
   "outputs": [
    {
     "name": "stdout",
     "output_type": "stream",
     "text": [
      "Adjectival Corruption\n",
      "True\n",
      "Cuando los cerdos vuelen, esa niña bonitas saldrá contigo para comer.\n",
      "---------\n",
      "Verbal Corruption\n",
      "True\n",
      "Cuando los cerdos vuela, esa niña bonita saldrá contigo para comer.\n",
      "---------\n",
      "Verbal Corruption\n",
      "Verb Removal\n",
      "True\n",
      "Cuando los cerdos vuelen, esa niña bonita contigo para comer.\n",
      "---------\n",
      "Prep Removal\n",
      "True\n",
      "Cuando los cerdos vuelen, esa niña bonita saldrá contigo comer.\n",
      "---------\n"
     ]
    }
   ],
   "source": [
    "import transformer\n",
    "trans_VerbRM = transformer.VerbRemover(\"VerbRm\")\n",
    "trans_VerbInfl = transformer.VerbInflCorruptor(\"VerbInfl\")\n",
    "trans_AdjInfl = transformer.AdjInflCorruptor(\"AdjInfl\")\n",
    "trans_PrepRM = transformer.PrepRemover(\"AdjInfl\")\n",
    "print(\"Adjectival Corruption\")\n",
    "print(trans_AdjInfl.test_possible(doc))\n",
    "print(trans_AdjInfl.transform(doc))\n",
    "print(\"---------\")\n",
    "print(\"Verbal Corruption\")\n",
    "print(trans_VerbInfl.test_possible(doc))\n",
    "print(trans_VerbInfl.transform(doc))\n",
    "print(\"---------\")\n",
    "print(\"Verbal Corruption\")\n",
    "print(\"Verb Removal\")\n",
    "print(trans_VerbRM.test_possible(doc))\n",
    "print(trans_VerbRM.transform(doc))\n",
    "print(\"---------\")\n",
    "print(\"Prep Removal\")\n",
    "print(trans_PrepRM.test_possible(doc))\n",
    "print(trans_PrepRM.transform(doc))\n",
    "print(\"---------\")"
   ]
  },
  {
   "cell_type": "code",
   "execution_count": null,
   "metadata": {
    "collapsed": true
   },
   "outputs": [],
   "source": []
  },
  {
   "cell_type": "code",
   "execution_count": null,
   "metadata": {
    "collapsed": true
   },
   "outputs": [],
   "source": []
  }
 ],
 "metadata": {
  "kernelspec": {
   "display_name": "Python 3",
   "language": "python",
   "name": "python3"
  },
  "language_info": {
   "codemirror_mode": {
    "name": "ipython",
    "version": 3
   },
   "file_extension": ".py",
   "mimetype": "text/x-python",
   "name": "python",
   "nbconvert_exporter": "python",
   "pygments_lexer": "ipython3",
   "version": "3.6.2"
  }
 },
 "nbformat": 4,
 "nbformat_minor": 2
}
