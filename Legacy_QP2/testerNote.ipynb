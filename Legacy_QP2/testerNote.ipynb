{
 "cells": [
  {
   "cell_type": "code",
   "execution_count": 1,
   "metadata": {
    "collapsed": true
   },
   "outputs": [],
   "source": [
    "import tree_handler"
   ]
  },
  {
   "cell_type": "code",
   "execution_count": 2,
   "metadata": {},
   "outputs": [
    {
     "name": "stdout",
     "output_type": "stream",
     "text": [
      "A la espera de que se produzca, de acuerdo con muchos colegas que me lo han pedido, pido que hagamos un minuto de silencio en memoria de todas las víctimas de las tormentas, en los distintos países de la Unión Europea afectados.\n",
      "\n",
      "46\n"
     ]
    }
   ],
   "source": [
    "import tree_handler\n",
    "testString=\"\"\"Sentence #5 (46 tokens):\n",
    "A la espera de que se produzca, de acuerdo con muchos colegas que me lo han pedido, pido que hagamos un minuto de silencio en memoria de todas las víctimas de las tormentas, en los distintos países de la Unión Europea afectados.\n",
    "[Text=A CharacterOffsetBegin=551 CharacterOffsetEnd=552 PartOfSpeech=sp000 NamedEntityTag=O]\n",
    "[Text=la CharacterOffsetBegin=553 CharacterOffsetEnd=555 PartOfSpeech=da0000 NamedEntityTag=O]\n",
    "[Text=espera CharacterOffsetBegin=556 CharacterOffsetEnd=562 PartOfSpeech=nc0s000 NamedEntityTag=O]\n",
    "[Text=de CharacterOffsetBegin=563 CharacterOffsetEnd=565 PartOfSpeech=sp000 NamedEntityTag=O]\n",
    "[Text=que CharacterOffsetBegin=566 CharacterOffsetEnd=569 PartOfSpeech=cs NamedEntityTag=O]\n",
    "[Text=se CharacterOffsetBegin=570 CharacterOffsetEnd=572 PartOfSpeech=p0000000 NamedEntityTag=O]\n",
    "[Text=produzca CharacterOffsetBegin=573 CharacterOffsetEnd=581 PartOfSpeech=vmsp000 NamedEntityTag=O]\n",
    "[Text=, CharacterOffsetBegin=581 CharacterOffsetEnd=582 PartOfSpeech=fc NamedEntityTag=O]\n",
    "[Text=de CharacterOffsetBegin=583 CharacterOffsetEnd=585 PartOfSpeech=sp000 NamedEntityTag=O]\n",
    "[Text=acuerdo CharacterOffsetBegin=586 CharacterOffsetEnd=593 PartOfSpeech=nc0s000 NamedEntityTag=O]\n",
    "[Text=con CharacterOffsetBegin=594 CharacterOffsetEnd=597 PartOfSpeech=sp000 NamedEntityTag=O]\n",
    "[Text=muchos CharacterOffsetBegin=598 CharacterOffsetEnd=604 PartOfSpeech=pi000000 NamedEntityTag=O]\n",
    "[Text=colegas CharacterOffsetBegin=605 CharacterOffsetEnd=612 PartOfSpeech=nc0p000 NamedEntityTag=O]\n",
    "[Text=que CharacterOffsetBegin=613 CharacterOffsetEnd=616 PartOfSpeech=cs NamedEntityTag=O]\n",
    "[Text=me CharacterOffsetBegin=617 CharacterOffsetEnd=619 PartOfSpeech=pp000000 NamedEntityTag=O]\n",
    "[Text=lo CharacterOffsetBegin=620 CharacterOffsetEnd=622 PartOfSpeech=pp000000 NamedEntityTag=O]\n",
    "[Text=han CharacterOffsetBegin=623 CharacterOffsetEnd=626 PartOfSpeech=vaip000 NamedEntityTag=O]\n",
    "[Text=pedido CharacterOffsetBegin=627 CharacterOffsetEnd=633 PartOfSpeech=vmp0000 NamedEntityTag=O]\n",
    "[Text=, CharacterOffsetBegin=633 CharacterOffsetEnd=634 PartOfSpeech=fc NamedEntityTag=O]\n",
    "[Text=pido CharacterOffsetBegin=635 CharacterOffsetEnd=639 PartOfSpeech=vmip000 NamedEntityTag=O]\n",
    "[Text=que CharacterOffsetBegin=640 CharacterOffsetEnd=643 PartOfSpeech=cs NamedEntityTag=O]\n",
    "[Text=hagamos CharacterOffsetBegin=644 CharacterOffsetEnd=651 PartOfSpeech=vmsp000 NamedEntityTag=O]\n",
    "[Text=un CharacterOffsetBegin=652 CharacterOffsetEnd=654 PartOfSpeech=di0000 NamedEntityTag=O]\n",
    "[Text=minuto CharacterOffsetBegin=655 CharacterOffsetEnd=661 PartOfSpeech=nc0s000 NamedEntityTag=O]\n",
    "[Text=de CharacterOffsetBegin=662 CharacterOffsetEnd=664 PartOfSpeech=sp000 NamedEntityTag=O]\n",
    "[Text=silencio CharacterOffsetBegin=665 CharacterOffsetEnd=673 PartOfSpeech=nc0s000 NamedEntityTag=O]\n",
    "[Text=en CharacterOffsetBegin=674 CharacterOffsetEnd=676 PartOfSpeech=sp000 NamedEntityTag=O]\n",
    "[Text=memoria CharacterOffsetBegin=677 CharacterOffsetEnd=684 PartOfSpeech=nc0s000 NamedEntityTag=O]\n",
    "[Text=de CharacterOffsetBegin=685 CharacterOffsetEnd=687 PartOfSpeech=sp000 NamedEntityTag=O]\n",
    "[Text=todas CharacterOffsetBegin=688 CharacterOffsetEnd=693 PartOfSpeech=di0000 NamedEntityTag=O]\n",
    "[Text=las CharacterOffsetBegin=694 CharacterOffsetEnd=697 PartOfSpeech=da0000 NamedEntityTag=O]\n",
    "[Text=víctimas CharacterOffsetBegin=698 CharacterOffsetEnd=706 PartOfSpeech=nc0p000 NamedEntityTag=O]\n",
    "[Text=de CharacterOffsetBegin=707 CharacterOffsetEnd=709 PartOfSpeech=sp000 NamedEntityTag=O]\n",
    "[Text=las CharacterOffsetBegin=710 CharacterOffsetEnd=713 PartOfSpeech=da0000 NamedEntityTag=O]\n",
    "[Text=tormentas CharacterOffsetBegin=714 CharacterOffsetEnd=723 PartOfSpeech=nc0p000 NamedEntityTag=O]\n",
    "[Text=, CharacterOffsetBegin=723 CharacterOffsetEnd=724 PartOfSpeech=fc NamedEntityTag=O]\n",
    "[Text=en CharacterOffsetBegin=725 CharacterOffsetEnd=727 PartOfSpeech=sp000 NamedEntityTag=O]\n",
    "[Text=los CharacterOffsetBegin=728 CharacterOffsetEnd=731 PartOfSpeech=da0000 NamedEntityTag=O]\n",
    "[Text=distintos CharacterOffsetBegin=732 CharacterOffsetEnd=741 PartOfSpeech=di0000 NamedEntityTag=O]\n",
    "[Text=países CharacterOffsetBegin=742 CharacterOffsetEnd=748 PartOfSpeech=nc0p000 NamedEntityTag=O]\n",
    "[Text=de CharacterOffsetBegin=749 CharacterOffsetEnd=751 PartOfSpeech=sp000 NamedEntityTag=O]\n",
    "[Text=la CharacterOffsetBegin=752 CharacterOffsetEnd=754 PartOfSpeech=da0000 NamedEntityTag=O]\n",
    "[Text=Unión CharacterOffsetBegin=755 CharacterOffsetEnd=760 PartOfSpeech=np00000 NamedEntityTag=ORG]\n",
    "[Text=Europea CharacterOffsetBegin=761 CharacterOffsetEnd=768 PartOfSpeech=np00000 NamedEntityTag=ORG]\n",
    "[Text=afectados CharacterOffsetBegin=769 CharacterOffsetEnd=778 PartOfSpeech=aq0000 NamedEntityTag=O]\n",
    "[Text=. CharacterOffsetBegin=778 CharacterOffsetEnd=779 PartOfSpeech=fp NamedEntityTag=O]\n",
    "(ROOT\n",
    "  (sentence\n",
    "    (sp\n",
    "      (prep (sp000 A))\n",
    "      (sn\n",
    "        (spec (da0000 la))\n",
    "        (grup.nom (nc0s000 espera)\n",
    "          (sp\n",
    "            (prep (sp000 de))\n",
    "            (S\n",
    "              (conj (cs que))\n",
    "              (morfema.verbal (p0000000 se))\n",
    "              (grup.verb (vmsp000 produzca))\n",
    "              (sp (fc ,)\n",
    "                (prep (sp000 de))\n",
    "                (sn\n",
    "                  (grup.nom (nc0s000 acuerdo))))\n",
    "              (sp\n",
    "                (prep (sp000 con))\n",
    "                (sn\n",
    "                  (sn\n",
    "                    (grup.nom (pi000000 muchos)))\n",
    "                  (sn\n",
    "                    (grup.nom (nc0p000 colegas))))))))))\n",
    "    (S\n",
    "      (conj (cs que))\n",
    "      (sn\n",
    "        (grup.nom (pp000000 me)))\n",
    "      (sn\n",
    "        (grup.nom (pp000000 lo)))\n",
    "      (grup.verb (vaip000 han) (vmp0000 pedido))\n",
    "      (S (fc ,)\n",
    "        (grup.verb (vmip000 pido))\n",
    "        (S\n",
    "          (conj (cs que))\n",
    "          (grup.verb (vmsp000 hagamos))\n",
    "          (sn\n",
    "            (spec (di0000 un))\n",
    "            (grup.nom (nc0s000 minuto)\n",
    "              (sp\n",
    "                (prep (sp000 de))\n",
    "                (sn\n",
    "                  (grup.nom (nc0s000 silencio)\n",
    "                    (sp\n",
    "                      (prep (sp000 en))\n",
    "                      (sn\n",
    "                        (grup.nom (nc0s000 memoria))))))))))))\n",
    "    (sp\n",
    "      (prep (sp000 de))\n",
    "      (sn\n",
    "        (spec (di0000 todas) (da0000 las))\n",
    "        (grup.nom (nc0p000 víctimas)\n",
    "          (sp\n",
    "            (prep (sp000 de))\n",
    "            (sn\n",
    "              (spec (da0000 las))\n",
    "              (grup.nom (nc0p000 tormentas))))))\n",
    "      (fc ,))\n",
    "    (sp\n",
    "      (prep (sp000 en))\n",
    "      (sn\n",
    "        (spec (da0000 los) (di0000 distintos))\n",
    "        (grup.nom (nc0p000 países)\n",
    "          (sp\n",
    "            (prep (sp000 de))\n",
    "            (sn\n",
    "              (spec (da0000 la))\n",
    "              (grup.nom (np00000 Unión) (np00000 Europea))))\n",
    "          (S\n",
    "            (participi (aq0000 afectados))))))\n",
    "    (fp .)))\"\"\"\n",
    "\n",
    "samplesentobj = tree_handler.Sentence_obj(testString)\n",
    "\n",
    "print(samplesentobj.text)\n",
    "print(len(samplesentobj.tokens))"
   ]
  },
  {
   "cell_type": "code",
   "execution_count": 3,
   "metadata": {},
   "outputs": [
    {
     "name": "stdout",
     "output_type": "stream",
     "text": [
      "True\n"
     ]
    }
   ],
   "source": [
    "import transformer\n",
    "adj_corruptor= transformer.AdjInflCorruptor(\"adjInfl\")\n",
    "print(adj_corruptor.test_possible(samplesentobj))"
   ]
  },
  {
   "cell_type": "code",
   "execution_count": 4,
   "metadata": {},
   "outputs": [
    {
     "name": "stdout",
     "output_type": "stream",
     "text": [
      "True\n"
     ]
    }
   ],
   "source": [
    "adj_corruptor= transformer.AdjInflCorruptor(\"adjInfl\")\n",
    "print(adj_corruptor.test_possible(samplesentobj))"
   ]
  },
  {
   "cell_type": "code",
   "execution_count": 5,
   "metadata": {},
   "outputs": [
    {
     "name": "stdout",
     "output_type": "stream",
     "text": [
      "True\n",
      "pides\n",
      "pide\n",
      "piden\n",
      "pida\n",
      "pidáis\n",
      "A la espera de que se produzca, de acuerdo con muchos colegas que me lo han pedido, pides que hagamos un minuto de silencio en memoria de todas las víctimas de las tormentas, en los distintos países de la Unión Europea afectados.\n",
      "\n"
     ]
    },
    {
     "data": {
      "text/plain": [
       "'vmip000'"
      ]
     },
     "execution_count": 5,
     "metadata": {},
     "output_type": "execute_result"
    }
   ],
   "source": [
    "verb_corruptor = transformer.VerbInflCorruptor(\"verbInfl\")\n",
    "print(verb_corruptor.test_possible(samplesentobj))\n",
    "print(verb_corruptor.transform(samplesentobj))\n",
    "samplesentobj.tokens[19].text\n",
    "samplesentobj.tokens[19].pos\n"
   ]
  },
  {
   "cell_type": "code",
   "execution_count": 6,
   "metadata": {},
   "outputs": [
    {
     "name": "stdout",
     "output_type": "stream",
     "text": [
      "booo\n"
     ]
    }
   ],
   "source": [
    "import re\n",
    "item_regex = re.compile(\n",
    "    \"\\[Text=([A-Za-záéíóúñÑÁÉÍÓÚ0-9]+|[\\\",.;:]) CharacterOffsetBegin=\\d+ CharacterOffsetEnd=\\d+ PartOfSpeech=([a-z0]{1,8}) NamedEntityTag=\\w+\\]\")\n",
    "match=item_regex.match(\"[Text=Reanudación CharacterOffsetBegin=0 CharacterOffsetEnd=11 PartOfSpeech=nc0s000 NamedEntityTag=O]\")\n",
    "non_match = item_regex.match(\"foo\")\n",
    "if non_match:\n",
    "    print(\"yeyy\")\n",
    "else:\n",
    "    print(\"booo\")"
   ]
  },
  {
   "cell_type": "code",
   "execution_count": 7,
   "metadata": {},
   "outputs": [
    {
     "data": {
      "text/plain": [
       "True"
      ]
     },
     "execution_count": 7,
     "metadata": {},
     "output_type": "execute_result"
    }
   ],
   "source": [
    "non_match == None"
   ]
  },
  {
   "cell_type": "code",
   "execution_count": 8,
   "metadata": {
    "collapsed": true
   },
   "outputs": [],
   "source": [
    "import transformer\n",
    "import tree_handler\n",
    "import re"
   ]
  },
  {
   "cell_type": "code",
   "execution_count": 9,
   "metadata": {},
   "outputs": [
    {
     "name": "stdout",
     "output_type": "stream",
     "text": [
      "<_sre.SRE_Match object; span=(0, 7), match='whatevs'>\n"
     ]
    },
    {
     "ename": "AttributeError",
     "evalue": "type object 'VerbInflCorruptor' has no attribute 'verb_infl_ipregex'",
     "output_type": "error",
     "traceback": [
      "\u001b[0;31m---------------------------------------------------------------------------\u001b[0m",
      "\u001b[0;31mAttributeError\u001b[0m                            Traceback (most recent call last)",
      "\u001b[0;32m<ipython-input-9-a6602e950620>\u001b[0m in \u001b[0;36m<module>\u001b[0;34m()\u001b[0m\n\u001b[1;32m      1\u001b[0m \u001b[0mpattern\u001b[0m \u001b[0;34m=\u001b[0m \u001b[0mre\u001b[0m\u001b[0;34m.\u001b[0m\u001b[0mcompile\u001b[0m\u001b[0;34m(\u001b[0m\u001b[0;34m\"whatevs\"\u001b[0m\u001b[0;34m)\u001b[0m\u001b[0;34m\u001b[0m\u001b[0m\n\u001b[1;32m      2\u001b[0m \u001b[0mprint\u001b[0m\u001b[0;34m(\u001b[0m\u001b[0mpattern\u001b[0m\u001b[0;34m.\u001b[0m\u001b[0mmatch\u001b[0m\u001b[0;34m(\u001b[0m\u001b[0;34m\"whatevs\"\u001b[0m\u001b[0;34m)\u001b[0m\u001b[0;34m)\u001b[0m\u001b[0;34m\u001b[0m\u001b[0m\n\u001b[0;32m----> 3\u001b[0;31m \u001b[0mprint\u001b[0m\u001b[0;34m(\u001b[0m\u001b[0mtransformer\u001b[0m\u001b[0;34m.\u001b[0m\u001b[0mVerbInflCorruptor\u001b[0m\u001b[0;34m.\u001b[0m\u001b[0mverb_infl_ipregex\u001b[0m\u001b[0;34m.\u001b[0m\u001b[0mmatch\u001b[0m\u001b[0;34m(\u001b[0m\u001b[0;34m\"amo\"\u001b[0m\u001b[0;34m)\u001b[0m\u001b[0;34m)\u001b[0m\u001b[0;34m\u001b[0m\u001b[0m\n\u001b[0m\u001b[1;32m      4\u001b[0m \u001b[0mprint\u001b[0m\u001b[0;34m(\u001b[0m\u001b[0mtransformer\u001b[0m\u001b[0;34m.\u001b[0m\u001b[0mVerbInflCorruptor\u001b[0m\u001b[0;34m.\u001b[0m\u001b[0mverb_infl_imp_regex\u001b[0m\u001b[0;34m.\u001b[0m\u001b[0mmatch\u001b[0m\u001b[0;34m(\u001b[0m\u001b[0;34m\"amabamos\"\u001b[0m\u001b[0;34m)\u001b[0m\u001b[0;34m)\u001b[0m\u001b[0;34m\u001b[0m\u001b[0m\n",
      "\u001b[0;31mAttributeError\u001b[0m: type object 'VerbInflCorruptor' has no attribute 'verb_infl_ipregex'"
     ]
    }
   ],
   "source": [
    "pattern = re.compile(\"whatevs\")\n",
    "print(pattern.match(\"whatevs\"))\n",
    "print(transformer.VerbInflCorruptor.verb_infl_ipregex.match(\"amo\"))\n",
    "print(transformer.VerbInflCorruptor.verb_infl_imp_regex.match(\"amabamos\"))"
   ]
  },
  {
   "cell_type": "code",
   "execution_count": null,
   "metadata": {
    "collapsed": true
   },
   "outputs": [],
   "source": []
  }
 ],
 "metadata": {
  "kernelspec": {
   "display_name": "Python 3",
   "language": "python",
   "name": "python3"
  },
  "language_info": {
   "codemirror_mode": {
    "name": "ipython",
    "version": 3
   },
   "file_extension": ".py",
   "mimetype": "text/x-python",
   "name": "python",
   "nbconvert_exporter": "python",
   "pygments_lexer": "ipython3",
   "version": "3.6.2"
  }
 },
 "nbformat": 4,
 "nbformat_minor": 2
}
